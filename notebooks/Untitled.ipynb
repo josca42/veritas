{
 "cells": [
  {
   "cell_type": "code",
   "execution_count": 5,
   "id": "cfacf9e9-8871-4b30-8c14-c0124ec40533",
   "metadata": {},
   "outputs": [],
   "source": [
    "import arweave\n",
    "from arweave.arweave_lib import Transaction\n",
    "import json\n",
    "import pandas as pd\n",
    "import httpx\n",
    "import requests\n",
    "import pickle"
   ]
  },
  {
   "cell_type": "code",
   "execution_count": 2,
   "id": "69ff60d1-cb3f-4bf8-b38c-5220b1012377",
   "metadata": {},
   "outputs": [],
   "source": [
    "from mirror_articles import MirrorCrawler"
   ]
  },
  {
   "cell_type": "code",
   "execution_count": 3,
   "id": "8fbb383b-0fcc-4115-ba4b-8855c575ca43",
   "metadata": {},
   "outputs": [
    {
     "ename": "AssertionError",
     "evalue": "Cannot run client.execute(query) if an asyncio loop is running. Use 'await client.execute_async(query)' instead.",
     "output_type": "error",
     "traceback": [
      "\u001b[0;31m---------------------------------------------------------------------------\u001b[0m",
      "\u001b[0;31mAssertionError\u001b[0m                            Traceback (most recent call last)",
      "Input \u001b[0;32mIn [3]\u001b[0m, in \u001b[0;36m<module>\u001b[0;34m\u001b[0m\n\u001b[1;32m      1\u001b[0m mirror \u001b[38;5;241m=\u001b[39m MirrorCrawler()\n\u001b[0;32m----> 3\u001b[0m \u001b[38;5;28;01mfor\u001b[39;00m article \u001b[38;5;129;01min\u001b[39;00m mirror\u001b[38;5;241m.\u001b[39marticles(after\u001b[38;5;241m=\u001b[39m\u001b[38;5;124m\"\u001b[39m\u001b[38;5;124mWyIyMDIyLTAyLTEwVDEwOjE4OjMwLjA5NFoiLDFd\u001b[39m\u001b[38;5;124m\"\u001b[39m):\n\u001b[1;32m      4\u001b[0m     \u001b[38;5;28;01mbreak\u001b[39;00m\n",
      "File \u001b[0;32m~/projects/1729/ledger_of_record/mirror_articles.py:24\u001b[0m, in \u001b[0;36mMirrorCrawler.articles\u001b[0;34m(self, after, first)\u001b[0m\n\u001b[1;32m     22\u001b[0m \u001b[38;5;28;01mdef\u001b[39;00m \u001b[38;5;21marticles\u001b[39m(\u001b[38;5;28mself\u001b[39m, after, first\u001b[38;5;241m=\u001b[39m\u001b[38;5;241m20\u001b[39m):\n\u001b[1;32m     23\u001b[0m     \u001b[38;5;28mvars\u001b[39m \u001b[38;5;241m=\u001b[39m {\u001b[38;5;124m\"\u001b[39m\u001b[38;5;124mfirst\u001b[39m\u001b[38;5;124m\"\u001b[39m: first, \u001b[38;5;124m\"\u001b[39m\u001b[38;5;124mafter\u001b[39m\u001b[38;5;124m\"\u001b[39m: after}\n\u001b[0;32m---> 24\u001b[0m     articles \u001b[38;5;241m=\u001b[39m \u001b[38;5;28;43mself\u001b[39;49m\u001b[38;5;241;43m.\u001b[39;49m\u001b[43mclient\u001b[49m\u001b[38;5;241;43m.\u001b[39;49m\u001b[43mexecute\u001b[49m\u001b[43m(\u001b[49m\u001b[38;5;28;43mself\u001b[39;49m\u001b[38;5;241;43m.\u001b[39;49m\u001b[43mquery\u001b[49m\u001b[43m,\u001b[49m\u001b[43m \u001b[49m\u001b[43mvariable_values\u001b[49m\u001b[38;5;241;43m=\u001b[39;49m\u001b[38;5;28;43mvars\u001b[39;49m\u001b[43m)\u001b[49m\n\u001b[1;32m     25\u001b[0m     \u001b[38;5;28;01mfor\u001b[39;00m article \u001b[38;5;129;01min\u001b[39;00m articles[\u001b[38;5;124m\"\u001b[39m\u001b[38;5;124mtransactions\u001b[39m\u001b[38;5;124m\"\u001b[39m][\u001b[38;5;124m\"\u001b[39m\u001b[38;5;124medges\u001b[39m\u001b[38;5;124m\"\u001b[39m]:\n\u001b[1;32m     26\u001b[0m         Id \u001b[38;5;241m=\u001b[39m article[\u001b[38;5;124m\"\u001b[39m\u001b[38;5;124mnode\u001b[39m\u001b[38;5;124m\"\u001b[39m][\u001b[38;5;124m\"\u001b[39m\u001b[38;5;124mid\u001b[39m\u001b[38;5;124m\"\u001b[39m]\n",
      "File \u001b[0;32m~/Library/Caches/pypoetry/virtualenvs/ledger-of-record-fhNh9RiO-py3.8/lib/python3.8/site-packages/gql/client.py:181\u001b[0m, in \u001b[0;36mClient.execute\u001b[0;34m(self, document, *args, **kwargs)\u001b[0m\n\u001b[1;32m    178\u001b[0m     loop \u001b[38;5;241m=\u001b[39m asyncio\u001b[38;5;241m.\u001b[39mnew_event_loop()\n\u001b[1;32m    179\u001b[0m     asyncio\u001b[38;5;241m.\u001b[39mset_event_loop(loop)\n\u001b[0;32m--> 181\u001b[0m \u001b[38;5;28;01massert\u001b[39;00m \u001b[38;5;129;01mnot\u001b[39;00m loop\u001b[38;5;241m.\u001b[39mis_running(), (\n\u001b[1;32m    182\u001b[0m     \u001b[38;5;124m\"\u001b[39m\u001b[38;5;124mCannot run client.execute(query) if an asyncio loop is running.\u001b[39m\u001b[38;5;124m\"\u001b[39m\n\u001b[1;32m    183\u001b[0m     \u001b[38;5;124m\"\u001b[39m\u001b[38;5;124m Use \u001b[39m\u001b[38;5;124m'\u001b[39m\u001b[38;5;124mawait client.execute_async(query)\u001b[39m\u001b[38;5;124m'\u001b[39m\u001b[38;5;124m instead.\u001b[39m\u001b[38;5;124m\"\u001b[39m\n\u001b[1;32m    184\u001b[0m )\n\u001b[1;32m    186\u001b[0m data: Dict[Any, Any] \u001b[38;5;241m=\u001b[39m loop\u001b[38;5;241m.\u001b[39mrun_until_complete(\n\u001b[1;32m    187\u001b[0m     \u001b[38;5;28mself\u001b[39m\u001b[38;5;241m.\u001b[39mexecute_async(document, \u001b[38;5;241m*\u001b[39margs, \u001b[38;5;241m*\u001b[39m\u001b[38;5;241m*\u001b[39mkwargs)\n\u001b[1;32m    188\u001b[0m )\n\u001b[1;32m    190\u001b[0m \u001b[38;5;28;01mreturn\u001b[39;00m data\n",
      "\u001b[0;31mAssertionError\u001b[0m: Cannot run client.execute(query) if an asyncio loop is running. Use 'await client.execute_async(query)' instead."
     ]
    }
   ],
   "source": [
    "mirror = MirrorCrawler()\n",
    "\n",
    "for article in mirror.articles(after=\"WyIyMDIyLTAyLTEwVDEwOjE4OjMwLjA5NFoiLDFd\"):\n",
    "    break"
   ]
  },
  {
   "cell_type": "code",
   "execution_count": null,
   "id": "f5efdde2-e7d3-4691-b013-d4459dbd8d83",
   "metadata": {},
   "outputs": [],
   "source": []
  },
  {
   "cell_type": "code",
   "execution_count": null,
   "id": "dabe7cb7-e067-4c24-aa32-b5ba633963c5",
   "metadata": {},
   "outputs": [],
   "source": []
  },
  {
   "cell_type": "code",
   "execution_count": 43,
   "id": "8bd8d7ef-8c06-43d1-bd8a-f1f48e4d00b9",
   "metadata": {},
   "outputs": [],
   "source": [
    "response1 = pickle.load(open(\"response.p\", \"rb\"))"
   ]
  },
  {
   "cell_type": "code",
   "execution_count": 44,
   "id": "cdae7146-0d0c-4f87-9b11-2993131e2dea",
   "metadata": {},
   "outputs": [
    {
     "data": {
      "text/plain": [
       "20"
      ]
     },
     "execution_count": 44,
     "metadata": {},
     "output_type": "execute_result"
    }
   ],
   "source": [
    "len(response['transactions']['edges'])"
   ]
  },
  {
   "cell_type": "code",
   "execution_count": 51,
   "id": "ac4c3a13-24ec-4139-863d-6786985a4389",
   "metadata": {},
   "outputs": [],
   "source": [
    "for article in response1[\"transactions\"][\"edges\"]:#.keys()\n",
    "    break"
   ]
  },
  {
   "cell_type": "code",
   "execution_count": 58,
   "id": "9b3b42b2-9096-4927-b2e9-123656dc907e",
   "metadata": {},
   "outputs": [],
   "source": [
    "Id = article[\"node\"][\"id\"]\n",
    "cursor = article[\"cursor\"]"
   ]
  },
  {
   "cell_type": "code",
   "execution_count": 59,
   "id": "2f5234a7-9edb-47a1-89d5-6e7e3b2500fd",
   "metadata": {},
   "outputs": [
    {
     "data": {
      "text/plain": [
       "'N_nQi_IoFdCG02Ka8RhEd3xp2QZHIkA3bSIL_H6UwhM'"
      ]
     },
     "execution_count": 59,
     "metadata": {},
     "output_type": "execute_result"
    }
   ],
   "source": [
    "Id"
   ]
  },
  {
   "cell_type": "code",
   "execution_count": 60,
   "id": "6dbc5677-0d85-4261-ab9b-62b30041e6d7",
   "metadata": {},
   "outputs": [
    {
     "data": {
      "text/plain": [
       "'WyIyMDIyLTAyLTEwVDEwOjE4OjMwLjA5NFoiLDJd'"
      ]
     },
     "execution_count": 60,
     "metadata": {},
     "output_type": "execute_result"
    }
   ],
   "source": [
    "cursor"
   ]
  },
  {
   "cell_type": "code",
   "execution_count": null,
   "id": "c0e55781-0039-4799-ae6e-f474764f368d",
   "metadata": {},
   "outputs": [],
   "source": []
  },
  {
   "cell_type": "code",
   "execution_count": 42,
   "id": "d5014457-8557-47e7-9cef-1ef67105f863",
   "metadata": {},
   "outputs": [
    {
     "data": {
      "text/plain": [
       "{'transactions': {'edges': [{'cursor': 'WyIyMDIyLTAyLTEwVDEwOjE4OjMwLjA5NFoiLDVd',\n",
       "    'node': {'id': 'WWSHTs3euE4yyK1GVUF0I-ypkiudaAdu02AsovNbaJ0'}},\n",
       "   {'cursor': 'WyIyMDIyLTAyLTEwVDEwOjE4OjMwLjA5NFoiLDZd',\n",
       "    'node': {'id': 'RmChqJAuTxzW5l1RjvCeLrRhtD28Brp6my3Yd2hi9jo'}}]}}"
      ]
     },
     "execution_count": 42,
     "metadata": {},
     "output_type": "execute_result"
    }
   ],
   "source": [
    "response1"
   ]
  },
  {
   "cell_type": "code",
   "execution_count": 38,
   "id": "3e33d77a-49ef-4c1f-9946-230d6e59131a",
   "metadata": {},
   "outputs": [
    {
     "data": {
      "text/plain": [
       "{'transactions': {'edges': [{'cursor': 'WyIyMDIyLTAyLTEwVDEwOjE4OjMwLjA5NFoiLDFd',\n",
       "    'node': {'id': 'AN-FZdkRmNdGkXYMCOuhgW_zO8sH7tyJdG1k3LZDXuw'}},\n",
       "   {'cursor': 'WyIyMDIyLTAyLTEwVDEwOjE4OjMwLjA5NFoiLDJd',\n",
       "    'node': {'id': 'N_nQi_IoFdCG02Ka8RhEd3xp2QZHIkA3bSIL_H6UwhM'}},\n",
       "   {'cursor': 'WyIyMDIyLTAyLTEwVDEwOjE4OjMwLjA5NFoiLDNd',\n",
       "    'node': {'id': '-YAfAppN57Ez1-s9GD_oS0_M1hjWO8rupwSMSmsNmMc'}},\n",
       "   {'cursor': 'WyIyMDIyLTAyLTEwVDEwOjE4OjMwLjA5NFoiLDRd',\n",
       "    'node': {'id': 'j7wfxwZcdCMzWNqnOq2UzQzGTvidoVAvFNb1LxL4T5o'}},\n",
       "   {'cursor': 'WyIyMDIyLTAyLTEwVDEwOjE4OjMwLjA5NFoiLDVd',\n",
       "    'node': {'id': 'WWSHTs3euE4yyK1GVUF0I-ypkiudaAdu02AsovNbaJ0'}},\n",
       "   {'cursor': 'WyIyMDIyLTAyLTEwVDEwOjE4OjMwLjA5NFoiLDZd',\n",
       "    'node': {'id': 'RmChqJAuTxzW5l1RjvCeLrRhtD28Brp6my3Yd2hi9jo'}},\n",
       "   {'cursor': 'WyIyMDIyLTAyLTEwVDEwOjE4OjMwLjA5NFoiLDdd',\n",
       "    'node': {'id': 'XQhUiaE-FGjBv4DzC8Ljo9w2zQsw6CxZ2qishE1ygEw'}},\n",
       "   {'cursor': 'WyIyMDIyLTAyLTEwVDEwOjE4OjMwLjA5NFoiLDhd',\n",
       "    'node': {'id': 'RPmbVKDikxR9zbdNv0h7b6u1oh6qPrQx2zqIdezTTpc'}},\n",
       "   {'cursor': 'WyIyMDIyLTAyLTEwVDEwOjE4OjMwLjA5NFoiLDld',\n",
       "    'node': {'id': 'wM3nQuS2Po2ek2lXlbCnYtN-437Azt2x-j462M21bIs'}},\n",
       "   {'cursor': 'WyIyMDIyLTAyLTEwVDEwOjE4OjMwLjA5NFoiLDEwXQ==',\n",
       "    'node': {'id': '4cfGUCastUOosn6Bsgm25vkuwLCY65euuCGEs7xDM_o'}},\n",
       "   {'cursor': 'WyIyMDIyLTAyLTEwVDEwOjE4OjMwLjA5NFoiLDExXQ==',\n",
       "    'node': {'id': 'HyP7Lt3fD-y94aapUsoc9vmdjIZ-sVHPRa9bqDdealk'}},\n",
       "   {'cursor': 'WyIyMDIyLTAyLTEwVDEwOjE4OjMwLjA5NFoiLDEyXQ==',\n",
       "    'node': {'id': 'uvFyBMXswAla_CgqQiNGcbVkPb_jg9ATx_qQ0RYmUM0'}},\n",
       "   {'cursor': 'WyIyMDIyLTAyLTEwVDEwOjE4OjMwLjA5NFoiLDEzXQ==',\n",
       "    'node': {'id': 'yTW5AQNc8a8XgjBgQyP0pW9HSoLZ32Wrd7gcnHAUa-M'}},\n",
       "   {'cursor': 'WyIyMDIyLTAyLTEwVDEwOjE4OjMwLjA5NFoiLDE0XQ==',\n",
       "    'node': {'id': 'y1tXmDjxpmcifYXi2CpUqOgax74HorwyKxsOqLzvUT4'}},\n",
       "   {'cursor': 'WyIyMDIyLTAyLTEwVDEwOjE4OjMwLjA5NFoiLDE1XQ==',\n",
       "    'node': {'id': 'ZdtYvGX9B8Ecb7GTnHDQjg7RcWTvoU_qeR_zV2XyNyE'}},\n",
       "   {'cursor': 'WyIyMDIyLTAyLTEwVDEwOjE4OjMwLjA5NFoiLDE2XQ==',\n",
       "    'node': {'id': '_ZzS_fYSyYzBw4cjIIrprPaP9b-_v6ynMHAQvPLxgec'}},\n",
       "   {'cursor': 'WyIyMDIyLTAyLTEwVDEwOjE4OjMwLjA5NFoiLDE3XQ==',\n",
       "    'node': {'id': 'ggiXhNJr9ohPSjRGGSPRALql6SL-YRnP-svYli1_g1g'}},\n",
       "   {'cursor': 'WyIyMDIyLTAyLTEwVDEwOjE4OjMwLjA5NFoiLDE4XQ==',\n",
       "    'node': {'id': '99aZ5NQdJvrcTX7UEuqTKxrEE7N9vRqqrBW-9qq4Epg'}},\n",
       "   {'cursor': 'WyIyMDIyLTAyLTEwVDEwOjE4OjMwLjA5NFoiLDE5XQ==',\n",
       "    'node': {'id': 'N8N5HSd7YagMbWqculfAj7dj31OP6sOu7ZsaNmIXUaM'}},\n",
       "   {'cursor': 'WyIyMDIyLTAyLTEwVDEwOjE4OjMwLjA5NFoiLDIwXQ==',\n",
       "    'node': {'id': '4ulMI_Q3nUwTBs3SCUxoGV47WFYrEarricAYZwPXMKA'}}]}}"
      ]
     },
     "execution_count": 38,
     "metadata": {},
     "output_type": "execute_result"
    }
   ],
   "source": [
    "response2 "
   ]
  },
  {
   "cell_type": "code",
   "execution_count": 33,
   "id": "8df7da25-b7a4-459a-8a97-ab1a5ddf288c",
   "metadata": {},
   "outputs": [
    {
     "data": {
      "text/plain": [
       "{'transactions': {'edges': [{'cursor': 'WyIyMDIyLTAyLTEwVDEwOjE3OjA1LjgzNFoiLDFd',\n",
       "    'node': {'id': 'AN-FZdkRmNdGkXYMCOuhgW_zO8sH7tyJdG1k3LZDXuw'}},\n",
       "   {'cursor': 'WyIyMDIyLTAyLTEwVDEwOjE3OjA1LjgzNFoiLDJd',\n",
       "    'node': {'id': 'N_nQi_IoFdCG02Ka8RhEd3xp2QZHIkA3bSIL_H6UwhM'}},\n",
       "   {'cursor': 'WyIyMDIyLTAyLTEwVDEwOjE3OjA1LjgzNFoiLDNd',\n",
       "    'node': {'id': '-YAfAppN57Ez1-s9GD_oS0_M1hjWO8rupwSMSmsNmMc'}},\n",
       "   {'cursor': 'WyIyMDIyLTAyLTEwVDEwOjE3OjA1LjgzNFoiLDRd',\n",
       "    'node': {'id': 'j7wfxwZcdCMzWNqnOq2UzQzGTvidoVAvFNb1LxL4T5o'}},\n",
       "   {'cursor': 'WyIyMDIyLTAyLTEwVDEwOjE3OjA1LjgzNFoiLDVd',\n",
       "    'node': {'id': 'WWSHTs3euE4yyK1GVUF0I-ypkiudaAdu02AsovNbaJ0'}},\n",
       "   {'cursor': 'WyIyMDIyLTAyLTEwVDEwOjE3OjA1LjgzNFoiLDZd',\n",
       "    'node': {'id': 'RmChqJAuTxzW5l1RjvCeLrRhtD28Brp6my3Yd2hi9jo'}},\n",
       "   {'cursor': 'WyIyMDIyLTAyLTEwVDEwOjE3OjA1LjgzNFoiLDdd',\n",
       "    'node': {'id': 'XQhUiaE-FGjBv4DzC8Ljo9w2zQsw6CxZ2qishE1ygEw'}},\n",
       "   {'cursor': 'WyIyMDIyLTAyLTEwVDEwOjE3OjA1LjgzNFoiLDhd',\n",
       "    'node': {'id': 'RPmbVKDikxR9zbdNv0h7b6u1oh6qPrQx2zqIdezTTpc'}},\n",
       "   {'cursor': 'WyIyMDIyLTAyLTEwVDEwOjE3OjA1LjgzNFoiLDld',\n",
       "    'node': {'id': 'wM3nQuS2Po2ek2lXlbCnYtN-437Azt2x-j462M21bIs'}},\n",
       "   {'cursor': 'WyIyMDIyLTAyLTEwVDEwOjE3OjA1LjgzNFoiLDEwXQ==',\n",
       "    'node': {'id': '4cfGUCastUOosn6Bsgm25vkuwLCY65euuCGEs7xDM_o'}},\n",
       "   {'cursor': 'WyIyMDIyLTAyLTEwVDEwOjE3OjA1LjgzNFoiLDExXQ==',\n",
       "    'node': {'id': 'HyP7Lt3fD-y94aapUsoc9vmdjIZ-sVHPRa9bqDdealk'}},\n",
       "   {'cursor': 'WyIyMDIyLTAyLTEwVDEwOjE3OjA1LjgzNFoiLDEyXQ==',\n",
       "    'node': {'id': 'uvFyBMXswAla_CgqQiNGcbVkPb_jg9ATx_qQ0RYmUM0'}},\n",
       "   {'cursor': 'WyIyMDIyLTAyLTEwVDEwOjE3OjA1LjgzNFoiLDEzXQ==',\n",
       "    'node': {'id': 'yTW5AQNc8a8XgjBgQyP0pW9HSoLZ32Wrd7gcnHAUa-M'}},\n",
       "   {'cursor': 'WyIyMDIyLTAyLTEwVDEwOjE3OjA1LjgzNFoiLDE0XQ==',\n",
       "    'node': {'id': 'y1tXmDjxpmcifYXi2CpUqOgax74HorwyKxsOqLzvUT4'}},\n",
       "   {'cursor': 'WyIyMDIyLTAyLTEwVDEwOjE3OjA1LjgzNFoiLDE1XQ==',\n",
       "    'node': {'id': 'ZdtYvGX9B8Ecb7GTnHDQjg7RcWTvoU_qeR_zV2XyNyE'}},\n",
       "   {'cursor': 'WyIyMDIyLTAyLTEwVDEwOjE3OjA1LjgzNFoiLDE2XQ==',\n",
       "    'node': {'id': '_ZzS_fYSyYzBw4cjIIrprPaP9b-_v6ynMHAQvPLxgec'}},\n",
       "   {'cursor': 'WyIyMDIyLTAyLTEwVDEwOjE3OjA1LjgzNFoiLDE3XQ==',\n",
       "    'node': {'id': 'ggiXhNJr9ohPSjRGGSPRALql6SL-YRnP-svYli1_g1g'}},\n",
       "   {'cursor': 'WyIyMDIyLTAyLTEwVDEwOjE3OjA1LjgzNFoiLDE4XQ==',\n",
       "    'node': {'id': '99aZ5NQdJvrcTX7UEuqTKxrEE7N9vRqqrBW-9qq4Epg'}},\n",
       "   {'cursor': 'WyIyMDIyLTAyLTEwVDEwOjE3OjA1LjgzNFoiLDE5XQ==',\n",
       "    'node': {'id': 'N8N5HSd7YagMbWqculfAj7dj31OP6sOu7ZsaNmIXUaM'}},\n",
       "   {'cursor': 'WyIyMDIyLTAyLTEwVDEwOjE3OjA1LjgzNFoiLDIwXQ==',\n",
       "    'node': {'id': '4ulMI_Q3nUwTBs3SCUxoGV47WFYrEarricAYZwPXMKA'}}]}}"
      ]
     },
     "execution_count": 33,
     "metadata": {},
     "output_type": "execute_result"
    }
   ],
   "source": [
    "response"
   ]
  },
  {
   "cell_type": "code",
   "execution_count": 13,
   "id": "be14d8a6-b5d7-4fea-94fe-16efc505d057",
   "metadata": {},
   "outputs": [],
   "source": []
  },
  {
   "cell_type": "code",
   "execution_count": 14,
   "id": "ba590bce-3cf9-43a2-93be-f38dcbf328ac",
   "metadata": {},
   "outputs": [],
   "source": [
    "headers = {\n",
    "    'Accept-Encoding': 'gzip, deflate, br',\n",
    "    'Content-Type': 'application/json',\n",
    "    'Accept': 'application/json',\n",
    "    'Connection': 'keep-alive',\n",
    "    'DNT': '1',\n",
    "    'Origin': 'https://arweave.net',\n",
    "}\n",
    "url = \"https://arweave.net/graphql\""
   ]
  },
  {
   "cell_type": "code",
   "execution_count": 15,
   "id": "78ca66ba-31ca-4654-b711-1cfa90ff36de",
   "metadata": {},
   "outputs": [],
   "source": [
    "transport = AIOHTTPTransport(url=url, headers=headers)\n",
    "client = Client(transport=transport)"
   ]
  },
  {
   "cell_type": "code",
   "execution_count": null,
   "id": "90b54319-5a97-4d3b-aa13-55a6b6657a4f",
   "metadata": {},
   "outputs": [],
   "source": []
  },
  {
   "cell_type": "code",
   "execution_count": 16,
   "id": "888f4246-7cb1-4161-a482-eda312d14837",
   "metadata": {},
   "outputs": [],
   "source": [
    "articles_query = gql(\"\"\"\n",
    "query {\n",
    "  transactions(tags: { name: \"App-Name\", values: [\"MirrorXYZ\"] }) {\n",
    "    edges {\n",
    "      cursor\n",
    "      node {\n",
    "        id\n",
    "      }\n",
    "    }\n",
    "  }\n",
    "}\n",
    "\"\"\")"
   ]
  },
  {
   "cell_type": "code",
   "execution_count": 17,
   "id": "64507305-7c60-4b30-8120-7ab9bab4e6b1",
   "metadata": {},
   "outputs": [
    {
     "ename": "AssertionError",
     "evalue": "Cannot run client.execute(query) if an asyncio loop is running. Use 'await client.execute_async(query)' instead.",
     "output_type": "error",
     "traceback": [
      "\u001b[0;31m---------------------------------------------------------------------------\u001b[0m",
      "\u001b[0;31mAssertionError\u001b[0m                            Traceback (most recent call last)",
      "Input \u001b[0;32mIn [17]\u001b[0m, in \u001b[0;36m<module>\u001b[0;34m\u001b[0m\n\u001b[0;32m----> 1\u001b[0m response \u001b[38;5;241m=\u001b[39m \u001b[43mclient\u001b[49m\u001b[38;5;241;43m.\u001b[39;49m\u001b[43mexecute\u001b[49m\u001b[43m(\u001b[49m\u001b[43marticles_query\u001b[49m\u001b[43m)\u001b[49m\n",
      "File \u001b[0;32m~/Library/Caches/pypoetry/virtualenvs/ledger-of-record-fhNh9RiO-py3.8/lib/python3.8/site-packages/gql/client.py:181\u001b[0m, in \u001b[0;36mClient.execute\u001b[0;34m(self, document, *args, **kwargs)\u001b[0m\n\u001b[1;32m    178\u001b[0m     loop \u001b[38;5;241m=\u001b[39m asyncio\u001b[38;5;241m.\u001b[39mnew_event_loop()\n\u001b[1;32m    179\u001b[0m     asyncio\u001b[38;5;241m.\u001b[39mset_event_loop(loop)\n\u001b[0;32m--> 181\u001b[0m \u001b[38;5;28;01massert\u001b[39;00m \u001b[38;5;129;01mnot\u001b[39;00m loop\u001b[38;5;241m.\u001b[39mis_running(), (\n\u001b[1;32m    182\u001b[0m     \u001b[38;5;124m\"\u001b[39m\u001b[38;5;124mCannot run client.execute(query) if an asyncio loop is running.\u001b[39m\u001b[38;5;124m\"\u001b[39m\n\u001b[1;32m    183\u001b[0m     \u001b[38;5;124m\"\u001b[39m\u001b[38;5;124m Use \u001b[39m\u001b[38;5;124m'\u001b[39m\u001b[38;5;124mawait client.execute_async(query)\u001b[39m\u001b[38;5;124m'\u001b[39m\u001b[38;5;124m instead.\u001b[39m\u001b[38;5;124m\"\u001b[39m\n\u001b[1;32m    184\u001b[0m )\n\u001b[1;32m    186\u001b[0m data: Dict[Any, Any] \u001b[38;5;241m=\u001b[39m loop\u001b[38;5;241m.\u001b[39mrun_until_complete(\n\u001b[1;32m    187\u001b[0m     \u001b[38;5;28mself\u001b[39m\u001b[38;5;241m.\u001b[39mexecute_async(document, \u001b[38;5;241m*\u001b[39margs, \u001b[38;5;241m*\u001b[39m\u001b[38;5;241m*\u001b[39mkwargs)\n\u001b[1;32m    188\u001b[0m )\n\u001b[1;32m    190\u001b[0m \u001b[38;5;28;01mreturn\u001b[39;00m data\n",
      "\u001b[0;31mAssertionError\u001b[0m: Cannot run client.execute(query) if an asyncio loop is running. Use 'await client.execute_async(query)' instead."
     ]
    }
   ],
   "source": [
    "response = client.execute(articles_query)"
   ]
  },
  {
   "cell_type": "code",
   "execution_count": null,
   "id": "cba29f84-32dd-4d9f-87a1-fd5dac5eae5e",
   "metadata": {},
   "outputs": [],
   "source": []
  },
  {
   "cell_type": "code",
   "execution_count": null,
   "id": "165d4dbe-352f-4347-b8ad-988241172644",
   "metadata": {},
   "outputs": [],
   "source": []
  },
  {
   "cell_type": "code",
   "execution_count": null,
   "id": "c6a26e14-8fa5-4a58-8f07-78a3a226f07f",
   "metadata": {},
   "outputs": [],
   "source": []
  },
  {
   "cell_type": "code",
   "execution_count": null,
   "id": "37a68458-237d-4f75-af05-3c4da2c0fdf1",
   "metadata": {},
   "outputs": [],
   "source": []
  },
  {
   "cell_type": "code",
   "execution_count": 1,
   "id": "569e02bc-e44f-4772-9c6b-cdbd375b6148",
   "metadata": {},
   "outputs": [],
   "source": [
    "from sgqlc.types.datetime import Date\n",
    "from sgqlc.types.relay import Node, Connection, connection_args\n",
    "from sgqlc.types import String, Float, Type, Field, list_of, Int\n",
    "\n",
    "\n",
    "class MovieNode(Node):\n",
    "    name = String\n",
    "    rating = Float\n",
    "    release_date = Date\n",
    "\n",
    "\n",
    "class MovieEdge(Type):\n",
    "    movies = Field(MovieNode)\n",
    "    \n",
    "class MovieConnection(Connection):\n",
    "    edges = list_of(MovieEdge)\n",
    "    \n",
    "    \n",
    "class Query(Type):\n",
    "    movies = Field(\n",
    "        MovieConnection,\n",
    "        args={\n",
    "            'director_name': String,\n",
    "            **connection_args()\n",
    "        }\n",
    "    )"
   ]
  },
  {
   "cell_type": "code",
   "execution_count": 2,
   "id": "772284b2-2439-4a2d-9cc6-5bca490df9a2",
   "metadata": {},
   "outputs": [],
   "source": [
    "from sgqlc.operation import Operation\n",
    "from sgqlc.endpoint.http import HTTPEndpoint"
   ]
  },
  {
   "cell_type": "code",
   "execution_count": null,
   "id": "abfd6852-e53f-46a5-804a-141a4f459886",
   "metadata": {},
   "outputs": [],
   "source": []
  },
  {
   "cell_type": "code",
   "execution_count": 26,
   "id": "10fabfc1-262e-4dd5-8de4-d1e71bb3d891",
   "metadata": {},
   "outputs": [
    {
     "data": {
      "text/plain": [
       "pageInfo {\n",
       "  endCursor\n",
       "  startCursor\n",
       "  hasNextPage\n",
       "  hasPreviousPage\n",
       "}"
      ]
     },
     "execution_count": 26,
     "metadata": {},
     "output_type": "execute_result"
    }
   ],
   "source": [
    "query = Operation(Query)\n",
    "\n",
    "query.movies(director_name='Vince Gilligan', first=3)\n",
    "query.movies.edges()\n",
    "query.movies.page_info()"
   ]
  },
  {
   "cell_type": "code",
   "execution_count": 27,
   "id": "8ff6eb64-3c67-4b1f-b085-2d1d8ffefb7f",
   "metadata": {},
   "outputs": [
    {
     "data": {
      "text/plain": [
       "query {\n",
       "  movies(directorName: \"Vince Gilligan\", first: 3) {\n",
       "    edges {\n",
       "      movies {\n",
       "        id\n",
       "        name\n",
       "        rating\n",
       "        releaseDate\n",
       "      }\n",
       "    }\n",
       "    pageInfo {\n",
       "      endCursor\n",
       "      startCursor\n",
       "      hasNextPage\n",
       "      hasPreviousPage\n",
       "    }\n",
       "  }\n",
       "}"
      ]
     },
     "execution_count": 27,
     "metadata": {},
     "output_type": "execute_result"
    }
   ],
   "source": [
    "query#.movies.edges()#.node.name()"
   ]
  },
  {
   "cell_type": "code",
   "execution_count": null,
   "id": "2465c8f7-0ef8-4ed5-8f21-725f1538b2e6",
   "metadata": {},
   "outputs": [],
   "source": []
  },
  {
   "cell_type": "code",
   "execution_count": 9,
   "id": "41bce61b-6ed6-4a96-bf86-9c82a5e9da2a",
   "metadata": {},
   "outputs": [
    {
     "data": {
      "text/plain": [
       "query {\n",
       "  movies(directorName: \"Vince Gilligan\", first: 3) {\n",
       "    edges {\n",
       "      movies {\n",
       "        id\n",
       "        name\n",
       "        rating\n",
       "        releaseDate\n",
       "      }\n",
       "    }\n",
       "  }\n",
       "}"
      ]
     },
     "execution_count": 9,
     "metadata": {},
     "output_type": "execute_result"
    }
   ],
   "source": [
    "query"
   ]
  },
  {
   "cell_type": "code",
   "execution_count": null,
   "id": "c0b33aa5-78e0-49b8-9d71-c2e3bff02f9a",
   "metadata": {},
   "outputs": [],
   "source": []
  },
  {
   "cell_type": "code",
   "execution_count": null,
   "id": "4e9f65a1-79bc-4595-8a4b-bbb16a3ee837",
   "metadata": {},
   "outputs": [],
   "source": []
  },
  {
   "cell_type": "code",
   "execution_count": null,
   "id": "4ac21378-ef97-4db5-be3f-78a4a6de1692",
   "metadata": {},
   "outputs": [],
   "source": []
  },
  {
   "cell_type": "code",
   "execution_count": 12,
   "id": "513adbda-3be3-41cb-8d64-b7fd6ec922f9",
   "metadata": {},
   "outputs": [],
   "source": [
    "from sgqlc.operation import Operation\n",
    "\n",
    "#from .schema import Query\n",
    "\n",
    "\n",
    "query = Operation(Query)"
   ]
  },
  {
   "cell_type": "code",
   "execution_count": 7,
   "id": "940d3933-1595-4e23-9068-b3561d9fb1e9",
   "metadata": {},
   "outputs": [
    {
     "data": {
      "text/plain": [
       "name"
      ]
     },
     "execution_count": 7,
     "metadata": {},
     "output_type": "execute_result"
    }
   ],
   "source": [
    "query.movies.name()"
   ]
  },
  {
   "cell_type": "code",
   "execution_count": 14,
   "id": "dfe2266b-cb34-4ced-8ff1-217a45a38b0b",
   "metadata": {},
   "outputs": [
    {
     "data": {
      "text/plain": [
       "movies {\n",
       "  name\n",
       "  rating\n",
       "  releaseDate\n",
       "}"
      ]
     },
     "execution_count": 14,
     "metadata": {},
     "output_type": "execute_result"
    }
   ],
   "source": [
    "query.movies()"
   ]
  },
  {
   "cell_type": "code",
   "execution_count": 16,
   "id": "c953630c-12ac-48b6-a519-5ee9b046f924",
   "metadata": {},
   "outputs": [],
   "source": [
    "from sgqlc.endpoint.http import HTTPEndpoint"
   ]
  },
  {
   "cell_type": "code",
   "execution_count": 19,
   "id": "0392d9cf-dab9-4a99-a8fd-9d1135efd5fb",
   "metadata": {},
   "outputs": [],
   "source": [
    "endpoint = HTTPEndpoint(url='https://.../graphql')\n",
    "#result = endpoint(query=query)"
   ]
  },
  {
   "cell_type": "code",
   "execution_count": null,
   "id": "0fde8cf5-e98c-4754-b760-542170c23948",
   "metadata": {},
   "outputs": [],
   "source": []
  },
  {
   "cell_type": "code",
   "execution_count": 30,
   "id": "fadd4ea8-26c8-41f8-a0cc-329736e2676a",
   "metadata": {},
   "outputs": [
    {
     "ename": "ValueError",
     "evalue": "Schema already has ArticleNode=ArticleNode",
     "output_type": "error",
     "traceback": [
      "\u001b[0;31m---------------------------------------------------------------------------\u001b[0m",
      "\u001b[0;31mValueError\u001b[0m                                Traceback (most recent call last)",
      "Input \u001b[0;32mIn [30]\u001b[0m, in \u001b[0;36m<module>\u001b[0;34m\u001b[0m\n\u001b[1;32m      2\u001b[0m \u001b[38;5;28;01mfrom\u001b[39;00m \u001b[38;5;21;01msgqlc\u001b[39;00m\u001b[38;5;21;01m.\u001b[39;00m\u001b[38;5;21;01mtypes\u001b[39;00m\u001b[38;5;21;01m.\u001b[39;00m\u001b[38;5;21;01mrelay\u001b[39;00m \u001b[38;5;28;01mimport\u001b[39;00m Node, Connection, connection_args\n\u001b[1;32m      3\u001b[0m \u001b[38;5;28;01mfrom\u001b[39;00m \u001b[38;5;21;01msgqlc\u001b[39;00m\u001b[38;5;21;01m.\u001b[39;00m\u001b[38;5;21;01mtypes\u001b[39;00m \u001b[38;5;28;01mimport\u001b[39;00m String, Float, Type, Field, list_of, Int\n\u001b[0;32m----> 6\u001b[0m \u001b[38;5;28;01mclass\u001b[39;00m \u001b[38;5;21;01mArticleNode\u001b[39;00m(Node):\n\u001b[1;32m      7\u001b[0m     \u001b[38;5;28mid\u001b[39m \u001b[38;5;241m=\u001b[39m String\n\u001b[1;32m     10\u001b[0m \u001b[38;5;28;01mclass\u001b[39;00m \u001b[38;5;21;01mArticleEdge\u001b[39;00m(Type):\n",
      "File \u001b[0;32m~/Library/Caches/pypoetry/virtualenvs/ledger-of-record-fhNh9RiO-py3.8/lib/python3.8/site-packages/sgqlc/types/__init__.py:1604\u001b[0m, in \u001b[0;36mContainerTypeMeta.__init__\u001b[0;34m(cls, name, bases, namespace)\u001b[0m\n\u001b[1;32m   1603\u001b[0m \u001b[38;5;28;01mdef\u001b[39;00m \u001b[38;5;21m__init__\u001b[39m(\u001b[38;5;28mcls\u001b[39m, name, bases, namespace):\n\u001b[0;32m-> 1604\u001b[0m     \u001b[38;5;28;43msuper\u001b[39;49m\u001b[43m(\u001b[49m\u001b[43mContainerTypeMeta\u001b[49m\u001b[43m,\u001b[49m\u001b[43m \u001b[49m\u001b[38;5;28;43mcls\u001b[39;49m\u001b[43m)\u001b[49m\u001b[38;5;241;43m.\u001b[39;49m\u001b[38;5;21;43m__init__\u001b[39;49m\u001b[43m(\u001b[49m\u001b[43mname\u001b[49m\u001b[43m,\u001b[49m\u001b[43m \u001b[49m\u001b[43mbases\u001b[49m\u001b[43m,\u001b[49m\u001b[43m \u001b[49m\u001b[43mnamespace\u001b[49m\u001b[43m)\u001b[49m\n\u001b[1;32m   1605\u001b[0m     \u001b[38;5;28mcls\u001b[39m\u001b[38;5;241m.\u001b[39m__fields \u001b[38;5;241m=\u001b[39m OrderedDict()\n\u001b[1;32m   1606\u001b[0m     \u001b[38;5;28mcls\u001b[39m\u001b[38;5;241m.\u001b[39m__interfaces__ \u001b[38;5;241m=\u001b[39m ()\n",
      "File \u001b[0;32m~/Library/Caches/pypoetry/virtualenvs/ledger-of-record-fhNh9RiO-py3.8/lib/python3.8/site-packages/sgqlc/types/__init__.py:946\u001b[0m, in \u001b[0;36mBaseMetaWithTypename.__init__\u001b[0;34m(cls, name, bases, namespace)\u001b[0m\n\u001b[1;32m    945\u001b[0m \u001b[38;5;28;01mdef\u001b[39;00m \u001b[38;5;21m__init__\u001b[39m(\u001b[38;5;28mcls\u001b[39m, name, bases, namespace):\n\u001b[0;32m--> 946\u001b[0m     \u001b[38;5;28;43msuper\u001b[39;49m\u001b[43m(\u001b[49m\u001b[43mBaseMetaWithTypename\u001b[49m\u001b[43m,\u001b[49m\u001b[43m \u001b[49m\u001b[38;5;28;43mcls\u001b[39;49m\u001b[43m)\u001b[49m\u001b[38;5;241;43m.\u001b[39;49m\u001b[38;5;21;43m__init__\u001b[39;49m\u001b[43m(\u001b[49m\u001b[43mname\u001b[49m\u001b[43m,\u001b[49m\u001b[43m \u001b[49m\u001b[43mbases\u001b[49m\u001b[43m,\u001b[49m\u001b[43m \u001b[49m\u001b[43mnamespace\u001b[49m\u001b[43m)\u001b[49m\n\u001b[1;32m    948\u001b[0m     \u001b[38;5;28;01mif\u001b[39;00m \u001b[38;5;129;01mnot\u001b[39;00m bases \u001b[38;5;129;01mor\u001b[39;00m BaseType \u001b[38;5;129;01min\u001b[39;00m bases \u001b[38;5;129;01mor\u001b[39;00m BaseTypeWithTypename \u001b[38;5;129;01min\u001b[39;00m bases:\n\u001b[1;32m    949\u001b[0m         \u001b[38;5;28;01mreturn\u001b[39;00m\n",
      "File \u001b[0;32m~/Library/Caches/pypoetry/virtualenvs/ledger-of-record-fhNh9RiO-py3.8/lib/python3.8/site-packages/sgqlc/types/__init__.py:899\u001b[0m, in \u001b[0;36mBaseMeta.__init__\u001b[0;34m(cls, name, bases, namespace)\u001b[0m\n\u001b[1;32m    896\u001b[0m auto_register \u001b[38;5;241m=\u001b[39m \u001b[38;5;28mgetattr\u001b[39m(\u001b[38;5;28mcls\u001b[39m, auto_register_name, \u001b[38;5;28;01mTrue\u001b[39;00m)\n\u001b[1;32m    898\u001b[0m \u001b[38;5;28;01mif\u001b[39;00m auto_register:\n\u001b[0;32m--> 899\u001b[0m     \u001b[38;5;28mcls\u001b[39m\u001b[38;5;241m.\u001b[39m__schema__ \u001b[38;5;241m+\u001b[39m\u001b[38;5;241m=\u001b[39m \u001b[38;5;28mcls\u001b[39m\n",
      "File \u001b[0;32m~/Library/Caches/pypoetry/virtualenvs/ledger-of-record-fhNh9RiO-py3.8/lib/python3.8/site-packages/sgqlc/types/__init__.py:818\u001b[0m, in \u001b[0;36mSchema.__iadd__\u001b[0;34m(self, typ)\u001b[0m\n\u001b[1;32m    816\u001b[0m t \u001b[38;5;241m=\u001b[39m \u001b[38;5;28mself\u001b[39m\u001b[38;5;241m.\u001b[39m__all\u001b[38;5;241m.\u001b[39msetdefault(name, typ)\n\u001b[1;32m    817\u001b[0m \u001b[38;5;28;01mif\u001b[39;00m t \u001b[38;5;129;01mis\u001b[39;00m \u001b[38;5;129;01mnot\u001b[39;00m typ:\n\u001b[0;32m--> 818\u001b[0m     \u001b[38;5;28;01mraise\u001b[39;00m \u001b[38;5;167;01mValueError\u001b[39;00m(\u001b[38;5;124m'\u001b[39m\u001b[38;5;132;01m%s\u001b[39;00m\u001b[38;5;124m already has \u001b[39m\u001b[38;5;132;01m%s\u001b[39;00m\u001b[38;5;124m=\u001b[39m\u001b[38;5;132;01m%s\u001b[39;00m\u001b[38;5;124m'\u001b[39m \u001b[38;5;241m%\u001b[39m\n\u001b[1;32m    819\u001b[0m                      (\u001b[38;5;28mself\u001b[39m\u001b[38;5;241m.\u001b[39m\u001b[38;5;18m__class__\u001b[39m\u001b[38;5;241m.\u001b[39m\u001b[38;5;18m__name__\u001b[39m, name, typ))\n\u001b[1;32m    820\u001b[0m \u001b[38;5;28mself\u001b[39m\u001b[38;5;241m.\u001b[39m__kinds\u001b[38;5;241m.\u001b[39msetdefault(typ\u001b[38;5;241m.\u001b[39m__kind__, ODict())\u001b[38;5;241m.\u001b[39mupdate({name: typ})\n\u001b[1;32m    821\u001b[0m \u001b[38;5;28;01mif\u001b[39;00m \u001b[38;5;28mself\u001b[39m\u001b[38;5;241m.\u001b[39mquery_type \u001b[38;5;129;01mis\u001b[39;00m \u001b[38;5;28;01mNone\u001b[39;00m \u001b[38;5;129;01mand\u001b[39;00m name \u001b[38;5;241m==\u001b[39m \u001b[38;5;124m'\u001b[39m\u001b[38;5;124mQuery\u001b[39m\u001b[38;5;124m'\u001b[39m:\n",
      "\u001b[0;31mValueError\u001b[0m: Schema already has ArticleNode=ArticleNode"
     ]
    }
   ],
   "source": [
    "from sgqlc.types.datetime import Date\n",
    "from sgqlc.types.relay import Node, Connection, connection_args\n",
    "from sgqlc.types import String, Float, Type, Field, list_of, Int\n",
    "\n",
    "\n",
    "class ArticleNode(Node):\n",
    "    id = String\n",
    "\n",
    "\n",
    "class ArticleEdge(Type):\n",
    "    articles = Field(ArticleNode)\n",
    "    \n",
    "class ArticConnection(Connection):\n",
    "    edges = list_of(ArticleEdge)\n",
    "    \n",
    "    \n"
   ]
  },
  {
   "cell_type": "code",
   "execution_count": 31,
   "id": "ad261a0d-9463-45c5-a5da-e3ab43065049",
   "metadata": {},
   "outputs": [
    {
     "ename": "TypeError",
     "evalue": "unhashable type: 'dict'",
     "output_type": "error",
     "traceback": [
      "\u001b[0;31m---------------------------------------------------------------------------\u001b[0m",
      "\u001b[0;31mTypeError\u001b[0m                                 Traceback (most recent call last)",
      "Input \u001b[0;32mIn [31]\u001b[0m, in \u001b[0;36m<module>\u001b[0;34m\u001b[0m\n\u001b[0;32m----> 1\u001b[0m \u001b[38;5;28;01mclass\u001b[39;00m \u001b[38;5;21;01mQuery\u001b[39;00m(Type):\n\u001b[1;32m      2\u001b[0m     movies \u001b[38;5;241m=\u001b[39m Field(\n\u001b[1;32m      3\u001b[0m         MovieConnection,\n\u001b[1;32m      4\u001b[0m         args\u001b[38;5;241m=\u001b[39m{\n\u001b[0;32m   (...)\u001b[0m\n\u001b[1;32m      7\u001b[0m         }\n\u001b[1;32m      8\u001b[0m     )\n",
      "Input \u001b[0;32mIn [31]\u001b[0m, in \u001b[0;36mQuery\u001b[0;34m()\u001b[0m\n\u001b[1;32m      1\u001b[0m \u001b[38;5;28;01mclass\u001b[39;00m \u001b[38;5;21;01mQuery\u001b[39;00m(Type):\n\u001b[0;32m----> 2\u001b[0m     movies \u001b[38;5;241m=\u001b[39m \u001b[43mField\u001b[49m\u001b[43m(\u001b[49m\n\u001b[1;32m      3\u001b[0m \u001b[43m        \u001b[49m\u001b[43mMovieConnection\u001b[49m\u001b[43m,\u001b[49m\n\u001b[1;32m      4\u001b[0m \u001b[43m        \u001b[49m\u001b[43margs\u001b[49m\u001b[38;5;241;43m=\u001b[39;49m\u001b[43m{\u001b[49m\n\u001b[1;32m      5\u001b[0m \u001b[43m            \u001b[49m\u001b[38;5;124;43m\"\u001b[39;49m\u001b[38;5;124;43mtags\u001b[39;49m\u001b[38;5;124;43m\"\u001b[39;49m\u001b[43m:\u001b[49m\u001b[43m \u001b[49m\u001b[43m{\u001b[49m\u001b[43m \u001b[49m\u001b[38;5;124;43m\"\u001b[39;49m\u001b[38;5;124;43mname\u001b[39;49m\u001b[38;5;124;43m\"\u001b[39;49m\u001b[43m:\u001b[49m\u001b[43m \u001b[49m\u001b[38;5;124;43m\"\u001b[39;49m\u001b[38;5;124;43mApp-Name\u001b[39;49m\u001b[38;5;124;43m\"\u001b[39;49m\u001b[43m,\u001b[49m\u001b[43m \u001b[49m\u001b[38;5;124;43m\"\u001b[39;49m\u001b[38;5;124;43mvalues\u001b[39;49m\u001b[38;5;124;43m\"\u001b[39;49m\u001b[43m:\u001b[49m\u001b[43m \u001b[49m\u001b[43m[\u001b[49m\u001b[38;5;124;43m\"\u001b[39;49m\u001b[38;5;124;43mMirrorXYZ\u001b[39;49m\u001b[38;5;124;43m\"\u001b[39;49m\u001b[43m]\u001b[49m\u001b[43m \u001b[49m\u001b[43m}\u001b[49m\u001b[43m,\u001b[49m\n\u001b[1;32m      6\u001b[0m \u001b[43m            \u001b[49m\u001b[38;5;241;43m*\u001b[39;49m\u001b[38;5;241;43m*\u001b[39;49m\u001b[43mconnection_args\u001b[49m\u001b[43m(\u001b[49m\u001b[43m)\u001b[49m\n\u001b[1;32m      7\u001b[0m \u001b[43m        \u001b[49m\u001b[43m}\u001b[49m\n\u001b[1;32m      8\u001b[0m \u001b[43m    \u001b[49m\u001b[43m)\u001b[49m\n",
      "File \u001b[0;32m~/Library/Caches/pypoetry/virtualenvs/ledger-of-record-fhNh9RiO-py3.8/lib/python3.8/site-packages/sgqlc/types/__init__.py:2504\u001b[0m, in \u001b[0;36mField.__init__\u001b[0;34m(self, typ, graphql_name, args)\u001b[0m\n\u001b[1;32m   2483\u001b[0m \u001b[38;5;124;03m'''\u001b[39;00m\n\u001b[1;32m   2484\u001b[0m \u001b[38;5;124;03m:param typ: the :class:`Scalar` or :class:`Type` derived\u001b[39;00m\n\u001b[1;32m   2485\u001b[0m \u001b[38;5;124;03m  class. If this would cause a cross reference and the other\u001b[39;00m\n\u001b[0;32m   (...)\u001b[0m\n\u001b[1;32m   2501\u001b[0m \u001b[38;5;124;03m:type args: :class:`ArgDict`\u001b[39;00m\n\u001b[1;32m   2502\u001b[0m \u001b[38;5;124;03m'''\u001b[39;00m\n\u001b[1;32m   2503\u001b[0m \u001b[38;5;28msuper\u001b[39m(Field, \u001b[38;5;28mself\u001b[39m)\u001b[38;5;241m.\u001b[39m\u001b[38;5;21m__init__\u001b[39m(typ, graphql_name)\n\u001b[0;32m-> 2504\u001b[0m \u001b[38;5;28mself\u001b[39m\u001b[38;5;241m.\u001b[39margs \u001b[38;5;241m=\u001b[39m \u001b[43mArgDict\u001b[49m\u001b[43m(\u001b[49m\u001b[43margs\u001b[49m\u001b[43m)\u001b[49m\n",
      "File \u001b[0;32m~/Library/Caches/pypoetry/virtualenvs/ledger-of-record-fhNh9RiO-py3.8/lib/python3.8/site-packages/sgqlc/types/__init__.py:2410\u001b[0m, in \u001b[0;36mArgDict.__init__\u001b[0;34m(self, *lst, **mapping)\u001b[0m\n\u001b[1;32m   2408\u001b[0m \u001b[38;5;28;01mfor\u001b[39;00m k, v \u001b[38;5;129;01min\u001b[39;00m mapping\u001b[38;5;241m.\u001b[39mitems():\n\u001b[1;32m   2409\u001b[0m     \u001b[38;5;28;01mif\u001b[39;00m \u001b[38;5;129;01mnot\u001b[39;00m \u001b[38;5;28misinstance\u001b[39m(v, Arg):\n\u001b[0;32m-> 2410\u001b[0m         v \u001b[38;5;241m=\u001b[39m \u001b[43mArg\u001b[49m\u001b[43m(\u001b[49m\u001b[43mv\u001b[49m\u001b[43m)\u001b[49m\n\u001b[1;32m   2411\u001b[0m     \u001b[38;5;28mself\u001b[39m[k] \u001b[38;5;241m=\u001b[39m v\n",
      "File \u001b[0;32m~/Library/Caches/pypoetry/virtualenvs/ledger-of-record-fhNh9RiO-py3.8/lib/python3.8/site-packages/sgqlc/types/__init__.py:2256\u001b[0m, in \u001b[0;36mArg.__init__\u001b[0;34m(self, typ, graphql_name, default)\u001b[0m\n\u001b[1;32m   2239\u001b[0m \u001b[38;5;28;01mdef\u001b[39;00m \u001b[38;5;21m__init__\u001b[39m(\u001b[38;5;28mself\u001b[39m, typ, graphql_name\u001b[38;5;241m=\u001b[39m\u001b[38;5;28;01mNone\u001b[39;00m, default\u001b[38;5;241m=\u001b[39m\u001b[38;5;28;01mNone\u001b[39;00m):\n\u001b[1;32m   2240\u001b[0m     \u001b[38;5;124;03m'''\u001b[39;00m\n\u001b[1;32m   2241\u001b[0m \u001b[38;5;124;03m    :param typ: the :class:`Scalar` or :class:`Type` derived\u001b[39;00m\n\u001b[1;32m   2242\u001b[0m \u001b[38;5;124;03m      class. If this would cause a cross reference and the other\u001b[39;00m\n\u001b[0;32m   (...)\u001b[0m\n\u001b[1;32m   2254\u001b[0m \u001b[38;5;124;03m      :class:`Variable`.\u001b[39;00m\n\u001b[1;32m   2255\u001b[0m \u001b[38;5;124;03m    '''\u001b[39;00m\n\u001b[0;32m-> 2256\u001b[0m     \u001b[38;5;28;43msuper\u001b[39;49m\u001b[43m(\u001b[49m\u001b[43mArg\u001b[49m\u001b[43m,\u001b[49m\u001b[43m \u001b[49m\u001b[38;5;28;43mself\u001b[39;49m\u001b[43m)\u001b[49m\u001b[38;5;241;43m.\u001b[39;49m\u001b[38;5;21;43m__init__\u001b[39;49m\u001b[43m(\u001b[49m\u001b[43mtyp\u001b[49m\u001b[43m,\u001b[49m\u001b[43m \u001b[49m\u001b[43mgraphql_name\u001b[49m\u001b[43m)\u001b[49m\n\u001b[1;32m   2257\u001b[0m     \u001b[38;5;28mself\u001b[39m\u001b[38;5;241m.\u001b[39mdefault \u001b[38;5;241m=\u001b[39m default\n\u001b[1;32m   2258\u001b[0m     \u001b[38;5;28;01mif\u001b[39;00m default \u001b[38;5;129;01mis\u001b[39;00m \u001b[38;5;129;01mnot\u001b[39;00m \u001b[38;5;28;01mNone\u001b[39;00m \u001b[38;5;129;01mand\u001b[39;00m \u001b[38;5;129;01mnot\u001b[39;00m \u001b[38;5;28misinstance\u001b[39m(default, Variable):\n",
      "File \u001b[0;32m~/Library/Caches/pypoetry/virtualenvs/ledger-of-record-fhNh9RiO-py3.8/lib/python3.8/site-packages/sgqlc/types/__init__.py:2079\u001b[0m, in \u001b[0;36mBaseItem.__init__\u001b[0;34m(self, typ, graphql_name)\u001b[0m\n\u001b[1;32m   2077\u001b[0m     \u001b[38;5;28mself\u001b[39m\u001b[38;5;241m.\u001b[39m_type \u001b[38;5;241m=\u001b[39m typ\n\u001b[1;32m   2078\u001b[0m \u001b[38;5;28;01melse\u001b[39;00m:\n\u001b[0;32m-> 2079\u001b[0m     \u001b[38;5;28mself\u001b[39m\u001b[38;5;241m.\u001b[39m_type \u001b[38;5;241m=\u001b[39m \u001b[43mBaseType\u001b[49m\u001b[38;5;241;43m.\u001b[39;49m\u001b[43m__ensure__\u001b[49m\u001b[43m(\u001b[49m\u001b[43mtyp\u001b[49m\u001b[43m)\u001b[49m\n\u001b[1;32m   2080\u001b[0m \u001b[38;5;28mself\u001b[39m\u001b[38;5;241m.\u001b[39mgraphql_name \u001b[38;5;241m=\u001b[39m graphql_name\n\u001b[1;32m   2081\u001b[0m \u001b[38;5;28mself\u001b[39m\u001b[38;5;241m.\u001b[39mname \u001b[38;5;241m=\u001b[39m \u001b[38;5;28;01mNone\u001b[39;00m\n",
      "File \u001b[0;32m~/Library/Caches/pypoetry/virtualenvs/ledger-of-record-fhNh9RiO-py3.8/lib/python3.8/site-packages/sgqlc/types/__init__.py:930\u001b[0m, in \u001b[0;36mBaseMeta.__ensure__\u001b[0;34m(cls, t)\u001b[0m\n\u001b[1;32m    928\u001b[0m     \u001b[38;5;28;01mreturn\u001b[39;00m t\n\u001b[1;32m    929\u001b[0m \u001b[38;5;28;01mtry\u001b[39;00m:\n\u001b[0;32m--> 930\u001b[0m     \u001b[38;5;28;01mreturn\u001b[39;00m \u001b[43mmap_python_to_graphql\u001b[49m\u001b[43m[\u001b[49m\u001b[43mt\u001b[49m\u001b[43m]\u001b[49m\n\u001b[1;32m    931\u001b[0m \u001b[38;5;28;01mexcept\u001b[39;00m \u001b[38;5;167;01mKeyError\u001b[39;00m \u001b[38;5;28;01mas\u001b[39;00m exc:\n\u001b[1;32m    932\u001b[0m     \u001b[38;5;28;01mraise\u001b[39;00m \u001b[38;5;167;01mTypeError\u001b[39;00m(\u001b[38;5;124m'\u001b[39m\u001b[38;5;124mNot \u001b[39m\u001b[38;5;132;01m%s\u001b[39;00m\u001b[38;5;124m or mapped: \u001b[39m\u001b[38;5;132;01m%s\u001b[39;00m\u001b[38;5;124m'\u001b[39m \u001b[38;5;241m%\u001b[39m (\u001b[38;5;28mcls\u001b[39m, t)) \u001b[38;5;28;01mfrom\u001b[39;00m \u001b[38;5;21;01mexc\u001b[39;00m\n",
      "\u001b[0;31mTypeError\u001b[0m: unhashable type: 'dict'"
     ]
    }
   ],
   "source": [
    "class Query(Type):\n",
    "    movies = Field(\n",
    "        MovieConnection,\n",
    "        args={\n",
    "            \"tags\": { \"name\": \"App-Name\", \"values\": [\"MirrorXYZ\"] },\n",
    "            **connection_args()\n",
    "        }\n",
    "    )"
   ]
  },
  {
   "cell_type": "code",
   "execution_count": null,
   "id": "ae41c911-8cb0-4657-9c43-b697712fa1fe",
   "metadata": {},
   "outputs": [],
   "source": []
  },
  {
   "cell_type": "code",
   "execution_count": 20,
   "id": "16c822d4-18d1-4a81-8ff2-864d2fb1a0c1",
   "metadata": {},
   "outputs": [
    {
     "data": {
      "text/plain": [
       "<sgqlc.endpoint.http.HTTPEndpoint at 0x110bc6070>"
      ]
     },
     "execution_count": 20,
     "metadata": {},
     "output_type": "execute_result"
    }
   ],
   "source": [
    "#endpoint"
   ]
  },
  {
   "cell_type": "code",
   "execution_count": 4,
   "id": "97594ff2-c27e-4d2c-8955-50380bea1679",
   "metadata": {},
   "outputs": [],
   "source": [
    "query = \"\"\"\n",
    "{\n",
    "  transactions(tags: { name: \"App-Name\", values: [\"MirrorXYZ\"] }) {\n",
    "    edges {\n",
    "      node {\n",
    "        id\n",
    "      }\n",
    "    }\n",
    "  }\n",
    "}\n",
    "\"\"\""
   ]
  },
  {
   "cell_type": "code",
   "execution_count": null,
   "id": "f8e195ce-d134-4ddd-9ffd-ca205803da7a",
   "metadata": {},
   "outputs": [],
   "source": [
    "data = json.dumps(query)\n",
    "headers = {'Content-type': 'application/json', 'Accept': 'text/plain'}\n",
    "response = requests.post(\"\".format(API_URL), data=query, headers=headers)"
   ]
  },
  {
   "cell_type": "code",
   "execution_count": null,
   "id": "fe2316b9-c84b-40ff-bc39-132edffbf865",
   "metadata": {},
   "outputs": [],
   "source": []
  },
  {
   "cell_type": "code",
   "execution_count": null,
   "id": "d84e5592-2f09-4e5b-83cb-49d316d3fa20",
   "metadata": {},
   "outputs": [],
   "source": [
    " request = requests.post(uri, json={'query': query}, headers=headers)\n",
    "    if request.status_code == statusCode:\n",
    "        return request.json()\n",
    "    else:\n",
    "        raise Exception(f\"Unexpected status code returned: {request.status_code}\")\n"
   ]
  },
  {
   "cell_type": "code",
   "execution_count": null,
   "id": "3e8fa8ae-f7aa-4744-9119-27d1dfe0f176",
   "metadata": {},
   "outputs": [],
   "source": [
    "curl 'https://arweave.net/graphql' -H 'Accept-Encoding: gzip, deflate, br' -H 'Content-Type: application/json' -H 'Accept: application/json' -H 'Connection: keep-alive' -H 'DNT: 1' -H 'Origin: https://arweave.net' --data-binary '{\"query\":\"query {\\n  transactions(tags: { name: \\\"App-Name\\\", values: [\\\"MirrorXYZ\\\"] }) {\\n    edges {\\n      node {\\n        id\\n      }\\n    }\\n  }\\n}\\n\"}' --compressed"
   ]
  },
  {
   "cell_type": "code",
   "execution_count": null,
   "id": "817a2903-9beb-4649-9f2e-64e12105f848",
   "metadata": {},
   "outputs": [],
   "source": []
  },
  {
   "cell_type": "code",
   "execution_count": 9,
   "id": "b48de7c3-7003-4031-8934-5257a1377ddc",
   "metadata": {},
   "outputs": [],
   "source": [
    "#import requests\n",
    "\n",
    "headers = {\n",
    "    'Accept-Encoding': 'gzip, deflate, br',\n",
    "    'Content-Type': 'application/json',\n",
    "    'Accept': 'application/json',\n",
    "    'Connection': 'keep-alive',\n",
    "    'DNT': '1',\n",
    "    'Origin': 'https://arweave.net',\n",
    "}\n",
    "\n",
    "data = '{\"query\":\"query {\\\\n  transactions(tags: { name: \\\\\"App-Name\\\\\", values: [\\\\\"MirrorXYZ\\\\\"] }) {\\\\n    edges {\\\\n      node {\\\\n        id\\\\n      }\\\\n    }\\\\n  }\\\\n}\\\\n\"}'\n",
    "\n",
    "response = httpx.post('https://arweave.net/graphql', headers=headers, data=data)"
   ]
  },
  {
   "cell_type": "code",
   "execution_count": 14,
   "id": "1a1f2e05-e5be-4dbf-b51c-9aa2a760ae74",
   "metadata": {},
   "outputs": [],
   "source": [
    "transactions = json.loads(response.text)"
   ]
  },
  {
   "cell_type": "code",
   "execution_count": 21,
   "id": "3d98226d-038a-460d-b630-13f2c707453a",
   "metadata": {},
   "outputs": [],
   "source": [
    "transactions = transactions[\"data\"][\"transactions\"][\"edges\"]#.keys()"
   ]
  },
  {
   "cell_type": "code",
   "execution_count": 22,
   "id": "c0470b0e-fef5-43b7-b071-3cc9fff04039",
   "metadata": {},
   "outputs": [],
   "source": [
    "for transaction in transactions:\n",
    "    break"
   ]
  },
  {
   "cell_type": "code",
   "execution_count": 25,
   "id": "b018f32f-6304-43a8-87ca-5b6a35b52418",
   "metadata": {},
   "outputs": [
    {
     "data": {
      "text/plain": [
       "'26fFqJaxE6HhxNgzWbaeY74y5FcV58AkfQ_RNXHt6QE'"
      ]
     },
     "execution_count": 25,
     "metadata": {},
     "output_type": "execute_result"
    }
   ],
   "source": []
  },
  {
   "cell_type": "code",
   "execution_count": 15,
   "id": "934137b1-da6e-4d52-bafc-c915fa74e0fc",
   "metadata": {},
   "outputs": [],
   "source": [
    "tx = Transaction(wallet, id='N_nQi_IoFdCG02Ka8RhEd3xp2QZHIkA3bSIL_H6UwhM')\n",
    "tx.get_data()\n",
    "data = json.loads(tx.data)"
   ]
  },
  {
   "cell_type": "code",
   "execution_count": 13,
   "id": "3d742f4b-2515-4de9-91d3-2b9cece6cfbd",
   "metadata": {},
   "outputs": [
    {
     "data": {
      "text/plain": [
       "{'content': {'body': \"在《唐伯虎点秋香》的世界里，9527 只是一个家奴。\\n\\n但在某个赛博世界，9527 却等于34万美元。\\n\\n下面这个头像，带着瓜皮帽抽着烟的家伙，就是全世界最火的 NFT 项目——Cryptopunks——里面，1w个头像中的 9527号。\\n\\n**![以太坊](https://pic3.zhimg.com/v2-e9d05f4eca4e76cd343ec9e3c66f6dce_b.jpg)**\\n\\n**#9527**\\n\\n它的主人“0x949...b786”，在2022年1月23号刚刚更新了它的挂牌出售价，124ETH，折合34w美元。\\n\\n![以太坊](https://pic2.zhimg.com/v2-ff4ea096c5445f8aa1f1da8e0decd01d_b.jpg)\\n\\n如果你肯掏这么多钱，下一秒这个头像就是你的，怎么样，很划算吧？\\n\\n什么，你觉得很扯淡？\\n\\n那是因为你不了解这个头像背后的稀有属性。\\n\\n你看到他嘴里那根烟了咩？1w人里只有961个人有这个属性。你看到他的小帽帽了咩？只有419个人有这个属性。你看到他那一抹性感的小胡子了吗？仔细看，就是嘴上面灰色的那一条，只有288个人有这个属性哦\\\\~\\\\~\\n\\n![以太坊](https://pic1.zhimg.com/v2-16a494cd2a92dcc60a306e459f639414\\\\_b.jpg)\\n\\n![以太坊](https://pic2.zhimg.com/v2-82770e4e560ff79cfa8ed314b9ea51e1\\\\_b.jpg)\\n\\n哦，即使这样你也不心动么。。。\\n\\n没关系，你不心动，有人心动。\\n\\n就在2021年6月10日，全球知名的苏富比拍卖行就拍卖了它的“兄弟”，Cryptopunks 第7523号。\\n\\n**![以太坊](https://pic2.zhimg.com/v2-0da5ccf840942acf96f5b858a791e401\\\\_b.jpg)**\\n\\n**#7523**\\n\\n看这个瓜皮帽，还是一样的配方吧，只不过下面的头变成了所谓的“外星人”，烟卷也没了，换成了拼多多上一块钱七个的口罩。\\n\\n少废话，先说价格：这货拍出了1175万美元，换成人民币将近一个小目标。\\n\\n![以太坊](https://pic1.zhimg.com/v2-199bc2fdc12ebac210f62fc45b47d074\\\\_b.jpg)\\n\\n因为1w个头像里，长着外星人脸的，只有9个，而他恰好也是175个戴口罩的人之一。\\n\\n![以太坊](https://pic2.zhimg.com/v2-e516bc05f7d72ddcce9c2819f6b0d34d_b.jpg)\\n\\n一个有趣的细节是：虽然口罩是现今世界的绝佳隐喻，但在六年前 Cryptopunks 这1w个头像诞生的时候，世界上还没有新冠病毒疫情。\\n\\n所以，7523号最初的主人，曾经在2017年以便宜的价格（大概1646美元）倒了一手，辗转到了这次拍卖会的卖家 Sillytuna 手里。\\n\\n四年时间，7523已经变成了“新冠外星人头像”，价格翻了7000多倍，看上去是个比买房更好的主意。\\n\\n这就是 Sillytuna 的推特，拍卖两天以后，他还在抱怨自己没有新鞋穿。。。这条推特本身也很朋克。\\n\\n![以太坊](https://pic3.zhimg.com/v2-8ca66c78938020cefb34e1557aaa8ad2\\\\_b.jpg)\\n\\n可能已经有浅友不耐烦了。什么乱七八糟的，有你说话的功夫，已经够我把图片下载下来，给头像 P 成既戴口罩又抽烟的样子，然后换成我的微信头像了。。。\\n\\n我为什么要花1000w美元来买这张狗屁图片？\\n\\n![以太坊](https://pic1.zhimg.com/v2-9067c402a4746227abf53e7763ad3c50\\\\_b.jpg)\\n\\n“NFT 凭什么值钱”的问题，相信已经有无数人解释过了。\\n\\n但我想从“精神源流”的角度，给你串讲一个有趣的故事。\\n\\n**（一）安迪·沃霍尔**\\n\\n> **在未来，每个人都会出名15分钟。**\\n\\n1968年，这行铅字出现在斯德哥尔摩现代美术馆宣传页上。\\n\\n那一年，没有互联网，没有苹果手机，没有抖音，没有比特币，没有 Telegram。\\n\\n**但塑造如今世界的那个核心脚本，已经全然出现。**\\n\\n说出这句话的人，是“波普艺术教皇”，安迪·沃霍尔。\\n\\n**![以太坊](https://pic2.zhimg.com/v2-04c023caefffd990fc4d45e4551be879\\\\_b.jpg)**\\n\\n**Andy Warhol**\\n\\n1961年，胖胖的情色作家兼画廊老板娘拉托对正在发愁画什么的安迪·沃霍尔说：有没有一种可能，你把每天中午吃的罐头给画出来？\\n\\n**![以太坊](https://pic2.zhimg.com/v2-e3a446624830e8e580c44988703e8e01\\\\_b.jpg)**\\n\\n**拉托**\\n\\n安迪·沃霍尔觉得这个主意简直不要太牛逼，为此专门给了拉托50美元“创意费”。\\n\\n由此开始，他一发不可收拾，画完汤罐头画可乐瓶子，画完马连良梦露画某国元首。（这50块创意费非常值，因为他后来的一幅画就能卖1亿美金。）\\n\\n## **![以太坊](https://pic1.zhimg.com/v2-2e3cf91f824ed6aaf8815310d4d97d20\\\\_b.jpg)《Campbell’s Soup Cans》1962**\\n\\n### **![以太坊](https://pic4.zhimg.com/v2-2dd8270735f4156e4f1873592515fbaf_b.jpg)《Flavor Marilyns》1962**\\n\\n无论画的是什么，安迪·沃霍尔几乎都在背后隐藏了一个数学逻辑，那就是：**重复的主体****+****随机变量****。**\\n\\n注意！虽然人类的艺术创作本来就包含“重复”这个因素，但大多是**“主题重复”**。比如中世纪画家很多人都画耶稣和圣母，小学生在学校里都各自画“房树人”，但安迪·沃霍尔的重复是非常直白的**“形象重复”**。\\n\\n形象重复对人的审美能力要求非常低，我小学二年级的时候第一次看到那幅玛丽莲·梦露，也能一眼识破玄机并且感受其中的韵律。\\n\\n**这是一种只有机器才能制造出来的重复。**（实际上，他的作画方式也是工业的“丝网印刷”。）\\n\\n![以太坊](https://pic3.zhimg.com/v2-d5523c9a8df2e67ef52cf6aa7794053a_b.jpg)\\n\\n安迪·沃霍尔的画能卖到和梵高一样贵，我觉得其中一个原因就是：**它精准地抓住了工业时代最普遍的大众精神状态。**\\n\\n**工业时代**的大众是啥状态呢？\\n\\n我给你说一段安迪·沃霍尔的原话，你体会一下：\\n\\n> 你知道总统喝可口可乐，伊丽莎白·泰勒喝可口可乐，你想了想，你也可以喝可口可乐。\\\\\\n> 可乐就是可乐，你有再多的钱也买不到比街角那个流浪汉喝的更好的可乐。所有的可乐都是一样的，伊丽莎白 · 泰勒知道，总统知道，流浪汉知道，你也知道。\\n\\n你把可口可乐换成“苹果手机”、“抖音”，把伊丽莎白·泰勒换成迪丽热巴，这个陈述依然成立。\\n\\n**那个富家千金披绫罗，穷人丫头穿补丁的时代已经一去不返了。**哪怕是三和大神也能花10块钱买一条干净的裤子。\\n\\n**![以太坊](https://pic2.zhimg.com/v2-54b92ed12d5bdd488addef058427c0ad_b.jpg)**\\n\\n**安迪·沃霍尔曾经面对镜头，用四分多钟吃了一个汉堡。这成为了一场对工业时代的绝佳隐喻。**\\n\\n**但这对于天性爱追求“不平等”的人类来说，也许并非好事。**\\n\\n注意，重点来了！到现在为止，我一共引用了两句安迪·沃霍尔的话，而这两句话看上去是自相矛盾的：\\n\\n**如果这个时代，大家不论贫富贵贱，都在喝可乐，吃麦当劳，用苹果手机，刷抖音，就像****画里并排站立的罐头****，那么，什么才能让你变得与众不同，让你站在聚光灯下享受众人目光，哪怕只有15分钟呢？**\\n\\n恐怕诀窍就在那个微小的**“变量”**上。\\n\\n在工业生产的环境下，人为控制变量最简单粗暴的方式就是“限量生产”。\\n\\n同学都穿 AJ 的鞋，但你们的是普通款，我的是全球限量500双。那么，当我们在班上相遇，你们的注意力就必然被我“踩在脚下”。于是，我拥有了“出名的15分钟”。\\n\\n**虽然我俩在法律上是平等的，但我身上的某个变量比你的变量更稀缺，我就人为制造出了不平等。**\\n\\n这招屡试不爽，从安迪·沃霍尔指出这一点，到现在半个世纪过去了，人们仍然乐在其中。\\n\\n而且愈演愈烈。\\n\\n**![以太坊](https://pic4.zhimg.com/v2-1c214a0805d88060415ab7b14da1ef8b_b.jpg)**\\n\\n**安迪·沃霍尔首次登上《TIME》杂志，1962年5月11日。**\\n\\n**（二）马特和佩佩**\\n\\n一切都源自于2005年的一天。\\n\\n> 你转过去，屁股对着我，弯下腰，对，就这样别动。\\n\\n马特对女朋友阿雅娜说。\\n\\n**![以太坊](https://pic2.zhimg.com/v2-1974f9c68aef7d522bc2112350571bfd_b.jpg)**\\n\\n**Matt Furie**\\n\\n别误会，马特是一个漫画家。\\n\\n他当时正在画一个场景：一个人撒尿的时候，非要把内裤外裤都脱到脚踝。这个动作很难画，于是让女朋友客串一下模特。。。\\n\\n![以太坊](https://pic2.zhimg.com/v2-dbfe9d26d31a6f9481dc2a919b4d9f55\\\\_b.jpg)\\n\\n他画的漫画名叫《男孩俱乐部》（Boy's Club），里面的主角是四个慵懒无所事事的年轻人。\\n\\n其中一个长着青蛙头，满脸睿智，它叫佩佩（Pepe）。\\n\\n![以太坊](https://pic2.zhimg.com/v2-8fcccee9d60e8bb13e0928fe63c51ae9\\\\_b.jpg)\\n\\n佩佩的形象来自于马特的表哥大卫。\\n\\n当年大卫就是这样脱裤子撒尿，一副吊儿郎当的样子。\\n\\n![以太坊](https://pic4.zhimg.com/v2-ecd1bb2afb719fd1814b6554de872937\\\\_b.jpg)\\n\\n年少的马特站在厕所门外目睹了这一切，惊为天人。他心里突然流过一种“卧槽，为什么很爽”的感觉。。。\\n\\n于是在后来的漫画故事里，他就以表哥为原型，让佩佩说出了那句话：Feels good man！\\n\\n![以太坊](https://pic2.zhimg.com/v2-39562b77d944d73b02041de51bfc0581\\\\_b.jpg)\\n\\n很快，《男孩俱乐部》的故事在网上一炮而红。\\n\\n但接下来的故事，就开始出乎马特的意料。\\n\\n有人在网上发自己的健身打卡照，配上文字“Feels good man”，然后有人做了各种表情包，也配了“Feels good man”。\\n\\n![以太坊](https://pic4.zhimg.com/v2-c3b24091a1fc5af2ad5e8792c96a4dcb_b.jpg)\\n\\n甚至有沙雕主播编了一首《Feels good 之歌》。\\n\\n![以太坊](https://pic2.zhimg.com/v2-8fc7afd89217fd830c7f7ad0ccb778bd_b.jpg)\\n\\n渐渐人们发现，佩佩这个青蛙，屌丝的长相，路人的气质，一无所长但游戏人间的性格，恰像是屏幕暗下来那一瞬间，里面反射的自己。\\n\\n一眨眼的功夫，人们开始给佩佩穿上各种衣服，变成各种职业，然后是各种崩坏的表情，极端的情绪。\\n\\n当然，现在我们知道，这就是一个标准的梗图流行过程。\\n\\n如果询问坐在一边的“顾问”，安迪·沃霍尔先生，他一定会挑挑眉毛——这没啥新鲜的，仍然是在**重复的主体**上叠加**变量**。\\n\\n![以太坊](https://pic1.zhimg.com/v2-5e1f4702591f0c29d4fac789561a2e64\\\\_b.jpg)\\n\\n于是，你可以这样理解：\\n\\n**虽然安迪·沃霍尔早在1987年就已去世，但互联网的存在，让无数无名创作者组成了一个****“分布式的安迪·沃霍尔”****。**\\n\\n这个安迪·沃霍尔更加坚韧，甚至是**永生****的。**\\n\\n**（三）克里斯托弗·普尔**\\n\\n2003年，14岁的克里斯托弗·普尔在自家地下室里创办了匿名贴图社区 4chan。\\n\\n**![以太坊](https://pic4.zhimg.com/v2-dcc4be32a4e93d3379cff61064c440cb_b.jpg)**\\n\\n**Christopher Poole**\\n\\n最初，4chan 只有一个版块，中二少年在这里贴日漫。\\n\\n但很快，“自由的气息”就弥漫开来。由于匿名性和不存档，人们在这里可以畅所欲言，吸引了梗图高手和沙雕网友，这里就像一片海湾的海水逐渐沸腾。\\n\\n4chan 快速爆火的时间点，正好和佩佩出圈的时间点重合，于是，佩佩自然而然成为 4chan 网友的创作素材。\\n\\n![以太坊](https://pic3.zhimg.com/v2-fac77be8b307fc9677997845a04948be_b.jpg)\\n\\n![以太坊](https://pic1.zhimg.com/v2-ee46617ea55c5335b28805ecd175d7c0\\\\_b.jpg)\\n\\n![以太坊](https://pic4.zhimg.com/v2-3f6c31310e7378697e8929540fb779bf_b.jpg)\\n\\n大家遇到有意思的梗图都会保存，然后找到合适的机会自己用。\\n\\n存下一张图，只需点两下鼠标，这比你去麦当劳点一个汉堡，上网买一双袜子还简单。\\n\\n背后的事实是：**互联网时代，复制一个东西的成本比工业时代更低，低到几乎为零。**\\n\\n这就导致了一个严重问题：一张图，你也用，我也用。用的人越多，它就越烂大街，迅速贬值。\\n\\n> 这让梗图的作者觉得不舒服——因为图火了，但他们自己没人知道；\\\\\\n> 也让最早用这张梗图的人觉得没意思——因为他发现了金矿，但他们自己也没出名。\\n\\n那，这么说的话。。。有没有可能让一个梗图也具有稀缺性？像 AJ 鞋一样，人为赋予它稀缺性也好。\\n\\n大聪明们决定试一试。\\n\\n很快，就有佩佩梗图的作者为了防止被“盗图”，在图片上加了大水印：“稀有佩佩，不许保存”。\\n\\n这种“稀有佩佩”被发在了 /r9k/ 板块里。\\n\\n![以太坊](https://pic4.zhimg.com/v2-7af014fe6ff9c52566689e67962586ef_b.jpg)\\n\\n多说一句， /r9k/ 本来就是 4chan 里鼓励原创的板块，它的规矩是这样的：在这里，你必须发原创的东西。但凡有人在这里发过一句话，你再重复说一次，就会被禁言一段时间作为惩罚。\\n\\n系统怎么知道你说的话是不是原创的呢？\\n\\n你看这个板块的名字，r9k，其实就是“机器人去重脚本” Robot9000 的缩写。\\n\\n**![以太坊](https://pic1.zhimg.com/v2-fb6d24ea0c44bd75eb2eca0c0b30c964\\\\_b.jpg)**\\n\\n**r9k 的版规（点击可以看大图）**\\n\\n这个脚本是漫画作家兼程序员兰德尔·门罗写的。\\n\\n当时，门罗受够了网上人们各种复制、灌水，把不是自己的话粘来粘去，于是他想要构建一个“乌托邦”——**如果在一个世界里，一旦有人说过一句话，其他人就再也不能说这句话，会怎么样？**\\n\\n于是就有了 Robot9000 脚本。\\n\\n**![以太坊](https://pic1.zhimg.com/v2-748e850fc4ce01b88c86c32c63709634\\\\_b.jpg)**\\n\\n**兰德尔·门罗和他著名的火柴人漫画**\\n\\n说回“稀有佩佩”。\\n\\n/r9k/ 板块的胡逼网友立刻觉得，对啊，知识产权得保护啊！于是，大家纷纷支持稀有佩佩的作者不要再把原图发上来了，想用稀有佩佩装逼，得花钱买。\\n\\n**我得提醒你注意：这个时候，佩佩已经和它的原创者马特完全无关了。马特可以喜欢网友创造的佩佩，也可以不喜欢，但因为马特不混 4chan，所以没人在乎他的意见。**\\n\\n**4chan 是一个封闭宇宙——宇宙之外的任何人，都无法影响宇宙之内的历史。**\\n\\n![以太坊](https://pic3.zhimg.com/v2-e24dcdde349592b4933fc406ef8105ee_b.jpg)\\n\\n很快，二手网站 ebay 上就有作者开始卖自己的佩佩，稀有的，不带水印的。\\n\\n而且还真有人买，因为买了就是 4chan 上最靓的崽。。。\\n\\n那时候，有一个轰动事件。\\n\\n有人打包了1200个稀有佩佩在ebay 上拍卖，价格最终被哄抬到了5w美元。\\n\\n![以太坊](https://pic3.zhimg.com/v2-a401d4bcf6aac6dce1e016b370576776\\\\_b.jpg)\\n\\n狗屁图片，就这样和钱扯上了关系。\\n\\n而且大家都觉得有理有据，起码 4chan 网友深信不疑。\\n\\n**（四）乔 · 鲁尼**\\n\\n乔 · 鲁尼是一个码农，2016年的时候，他正在给一个P2P网站 Counterparty 开发数字钱包。\\n\\n那天，在 Counterparty 的 Telegram 群里，突然有人甩进来一张扑克牌一样的玩意儿，上面画着一个中本聪模样的稀有佩佩。\\n\\n![以太坊](https://pic1.zhimg.com/v2-ad9864e0567b2eeeb2c429fe237811d4\\\\_b.jpg)\\n\\n那哥们说：我做了一整副牌，都是稀有的佩佩，我正在网上卖，将来这副牌怎么着也得值几百万刀吧？\\n\\n胡逼网友们纷纷附和：这太牛逼了，我想买。\\n\\n然后，人们开始出价：1块一张，5块一张，10块一张。然后大家就纷纷滚去下单了。。。\\n\\n鲁尼举着手机，楞了半天。\\n\\n“那一瞬间，我都想自己去画稀有佩佩了。。。”他回忆。\\n\\n不过，他很快就想到了一个比画佩佩更牛逼的主意——做一个能交易稀有佩佩的平台，顺便用自己的传统艺能做一套能存储稀有佩佩的“钱包系统”。\\n\\n**![以太坊](https://pic4.zhimg.com/v2-0085d249de4c897757f56a4ad8135637\\\\_b.jpg)**\\n\\n**乔·鲁尼**\\n\\n可是，这些佩佩即使做得再像纸牌，也毕竟只是图片，图片是可以被复制的。\\n\\n那怎么让所有的人都认可某个人拥有对一张图片的所有权呢？\\n\\n他立刻就想到了一个巧妙的方法——利用比特币的记账系统。\\n\\n比特币的记账系统有一个特点，那就是分布式账本，同一笔账目由全世界成千上万的节点来共同记录。也就是说，**只要你有自己钱包的密码，里面的币，无论有多少，就肯定是你的，所有人都得认。**\\n\\n这样一来，就使得“做假账”成为了不可能。\\n\\n**![以太坊](https://pic4.zhimg.com/v2-f87dad768cce370d66030285ff793beb_b.jpg)**\\n\\n**我试了试，刚进网站，它就给我建立了一个钱包**\\n\\n而这个特性，被鲁尼用来做了“稀有佩佩钱包”。\\n\\n简单来说，它的原理是这样的：\\n\\n> 一张稀有佩佩卡绑定一个比特币钱包，只有它的主人拥有这个钱包的密码（也就是私钥）。如果你想把佩佩转移给另一个人，只需要把密码给他。\\n\\n![以太坊](https://pic1.zhimg.com/v2-53488ddf733089fdb72d7836fa2c1570\\\\_b.jpg)\\n\\n这种交易模式，竟然成立了。\\n\\n而且，鲁尼做了一个有意思的设定：一个创作者要想给网站提交一张佩佩卡，必须向一个空地址发送一定的比特币，也就是说，等于把这些币烧掉了——鲁尼拿不到这些钱，别人也拿不到。\\n\\n为啥要浪费钱呢？\\n\\n这个道理，就像你加入黑帮时，得先拿一个人头做投名状。被杀的那个人躺不躺枪不重要，重要的是，它是一个“准入门槛”，防止有人打开画图软件，五秒钟画一个水货佩佩就拿来卖。\\n\\n这个设定意义重大。\\n\\n很快，就有很多创意不错画工精良的佩佩被挂上平台，一看就是出自有一定艺术修养的人——**创作者开始认真对待这件事儿了。**\\n\\n**![以太坊](https://pic2.zhimg.com/v2-4f9577d1658af03f7ff981018e50c45d_b.jpg)**\\n\\n**这是和钱包配套的作品展示网站，Rare Pepe Directory。**\\n\\n再后来，网站后来还发展出了O2O模式——你买一张电子卡，我就送一张纸质卡。\\n\\n**但所有买家都知道：纸质卡其实一文不值，值钱的是那个存证在网上的图片。。。**\\n\\n![以太坊](https://pic2.zhimg.com/v2-d02037870ea8a8881a7d00c3364c8819\\\\_b.jpg)\\n\\n![以太坊](https://pic1.zhimg.com/v2-e5b3b82041140a5727d7500f0106bb30\\\\_b.jpg)\\n\\n故事讲到这，一切虽然看起来胡逼，但大家的动机只是有趣、赚钱和自由表达，总体上是善良的。\\n\\n但自由主义就是这样，当无数自由叠加在一起，就会沉重到压垮地平线。\\n\\n**（五）希拉里和特朗普**\\n\\n自由主义者在各个方面都是自由的，从 4chan 的留言上就能看出，他们大多是想说什么就说什么，歧视女性，歧视黑人，自我中心。\\n\\n4chan 里一些用户喜欢把自己称为“NEET”，也就是没上过学，没工作，没技能的三无人员。\\n\\n你懂的，这类人是“键盘侠”的主力队伍。\\n\\n**![以太坊](https://pic3.zhimg.com/v2-335e6688570975c3f28576aab2ede1b6\\\\_b.jpg)**\\n\\n**“NEET”的生活意见。**\\n\\n4chan 上专门有一个板块叫“政治不正确”（Politically Incorrect），里面充满白人至上的言论。在他们眼里，黑人没爹只会抢劫，亚洲人抠门又邪恶，恨不得搞一堵墙把其他人都隔绝在漂亮国之外。\\n\\n反正是匿名社区，不会暴露自己，也没有人因此惹上麻烦。\\n\\n久而久之，这片潮湿的土壤孕育了一种蠕虫一般的右翼网络思潮，这就是另类右翼（Alt-Right）。\\n\\n2016年，正好赶上美国大选。另类右翼一看，特朗普的竞选口号就是在边界建一堵墙，这妥妥的是自己人啊，特朗普没准儿还是潜水的 4chan 网友呢！\\n\\n于是，另类右翼们把佩佩做成了特朗普的样子，鼓励大家把票投给特朗普。\\n\\n![以太坊](https://pic2.zhimg.com/v2-185801cb8e981e08741970ffcf06d58d_b.jpg)\\n\\n无辜的佩佩突然就从表情包变成了一种政治符号。。。\\n\\n故事的高潮，发生在2016年8月25日，希拉里竞选演讲的现场，她正在认真批判右翼思潮，人群中，却有一个声音大声喊出了：佩佩！\\n\\n![以太坊](https://pic2.zhimg.com/v2-7e233be80aff82ef507ac9a128605ff5\\\\_b.jpg)\\n\\n这个大多数人不明就里的一嗓子，被另类右翼视为战歌。\\n\\n![以太坊](https://pic4.zhimg.com/v2-34e7ace58ad2fc0aef180b35f294961f_b.jpg)\\n\\n那之后，莫名其妙出现的佩佩表情包，就变得越来越恐怖。\\n\\n有人把佩佩变成3K党，有人把纳粹的标志贴到佩佩身上，有人让佩佩举起十字军东征的旗帜。\\n\\n![以太坊](https://pic3.zhimg.com/v2-9e5806026969af23d94cf0834294dada_b.jpg)\\n\\n甚至有人从古埃及的石画上找到了一个名叫“凯克”的蛙头人身像，然后说这TM就是古埃及人给我们的天启，我们的神就是凯克。\\n\\n4chan 上随即有人认真起哄：我们这群人应该考虑找一个厉害的律师，帮助我们建立一个“自由”的白人国度——凯克斯坦。。。\\n\\n![以太坊](https://pic3.zhimg.com/v2-8e29a7f8a0133f4e67eb15c023cfd73a_b.jpg)\\n\\n好事者还为凯克斯坦画了旗帜，上边还有 4chan 的 Logo 四叶草。。。\\n\\n![以太坊](https://pic2.zhimg.com/v2-496a7400a5b928038f7844e81b22de65\\\\_b.jpg)\\n\\n最抓狂的，就是佩佩的作者马特。\\n\\n你想想看，本来佩佩就是一个把裤子拉下来撒尿的精神小伙儿，现在却被利用变成了仇恨的狂魔。\\n\\n**![以太坊](https://pic1.zhimg.com/v2-e5456b28dbdae460a0783b0236876538\\\\_b.jpg)**\\n\\n**挨打的是 Alt-Right 的一个线下领导人。**\\n\\n他忍无可忍，决定起诉这些公开把佩佩和政治扯上关系的人。\\n\\n但这无济于事。\\n\\n后来，他只能亲自出来给佩佩的故事写续集——佩佩因为种族歧视而死，大家为他举行了葬礼。。。\\n\\n但这仍然无济于事。\\n\\n![以太坊](https://pic3.zhimg.com/v2-5b7cea1ad3f5360c72149786b19e4762\\\\_b.jpg)\\n\\n因为从佩佩登上互联网的那一天，它就已经被**“分布式安迪沃霍尔”**抓在手上，甚至没有一个单独的人能够决定佩佩的走向。\\n\\n有人觉得佩佩成功，有人觉得佩佩失败，它的人设被各色油漆涂抹，变得无比复杂。\\n\\n但在区块链领域，佩佩无疑成了一个光芒四射的“先行者”，它探明了**区块链艺术品**的“安全区”和“雷区”。\\n\\n**![以太坊](https://pic3.zhimg.com/v2-3b1dd4e603d4d4bbe349157840e91852\\\\_b.jpg)**\\n\\n**事实上，关于佩佩，也有很多温暖人心的创作。**\\n\\n**（六）沃特金森和霍尔**\\n\\n2017年春天，鲁尼还在打理他蒸蒸日上的“稀有佩佩”网站。\\n\\n他不知道的是，就在网线对面，有另一个技术宅正在和他隔空对望。\\n\\n这哥们就是霍尔。\\n\\n霍尔和他的好基友沃特金森都毕业于多伦多大学计算机系，1999年，他们来到纽约，成为纽飘。他俩都喜欢用计算机搞一些幺蛾子的事情，臭味相投，于是组成了一个幺蛾子组合——幼虫实验室（Larva Lab）。\\n\\n**![以太坊](https://pic3.zhimg.com/v2-534ef0dc239898dcf225bc3af2ee557a_b.jpg)**\\n\\n**左边是霍尔，右边是沃特金森。**\\n\\n最近几年，他俩一直在磨炼一个奇怪的艺能：用计算机算法生成头像。\\n\\n比如，2011年的时候，他们就发布了一个 App，可以为你生成一个长得像安卓机器人的头像。就像下面这样。\\n\\n**![以太坊](https://pic4.zhimg.com/v2-a819724c20145b3a2259455c9c6a5a0b_b.jpg)**\\n\\n**右边是霍尔，左边是沃特金森。**\\n\\n2017年的时候，他们生成头像的艺能已经炉火纯青，选取了一个朋克的主题，做出了一个“头像生成引擎”。\\n\\n正好这对基友在聊天的时候，聊到沃特金森的小侄女正在疯狂收集洋娃娃，他俩于是想起，自己小时候不也收藏棒球卡还有万智牌么。（和中国男生收集水浒卡是一个意思）\\n\\n看来，收藏癖真是全人类穿越时间和空间的共同特质啊。。。\\n\\n“那，有没有一种可能，我们限量生产出一些头像，比如生产1w个，然后让大家收藏呢？”霍尔说。\\n\\n于是，他才上网搜集信息，看到了稀有佩佩网站。\\n\\n但稀有佩佩有个问题：它使用的是比特币网络。**而比特币网络在设计的时候，只能用于比特币记账，记不了别的东西。**所以鲁尼在设计的时候，只能在比特币账本上外挂一个“佩佩钱包”。\\n\\n但“佩佩钱包”四舍五入又是受鲁尼控制的，不太公开透明。\\n\\n**有没有一种网络，既公开透明，又能记录更复杂的账本呢？**\\n\\n他俩立刻想到了当时刚开始火爆的以太坊链（ETH）。\\n\\n**![以太坊](https://pic4.zhimg.com/v2-7ab8e2ca861fb6410aa0187e59b8da7f_b.jpg)**\\n\\n**这就是 ETH（bushi**\\n\\n以太坊链和比特币链有很多区别，这里我们只挑最重要的一点来说。\\n\\n这就是支持**“非同质化代币”**。\\n\\n你可以把比特币想象成一张张的美元，美元就是美元，我的美元和你的美元都是美元，如果我用一张100美元换了你的一张100美元，那和没换是一样的。\\n\\n也就是说，比特币是同质化的。\\n\\n![以太坊](https://pic4.zhimg.com/v2-761c5f5443b3cc006e21aad010324e33\\\\_b.jpg)\\n\\n但在以太坊上，我可以创造出一种奇怪的美元，就像是在每一张百元美钞上都画了不同的画，这样大家拿到的美钞就不是同质化的。比如我的100美元上画了黄皮电耗子，你的100元美钞上画了蒜头王八。\\n\\n这时候，我要用皮卡丘100美元换你的可达鸭100美元，你就要考虑一下了，你可能更喜欢蒜头王八，不喜欢电耗子，那么你就不一定愿意换。\\n\\n这个“非同质化代币”，简称就叫 NFT（Non-Fungible Token）。\\n\\n![以太坊](https://pic1.zhimg.com/v2-1bd29f95b53df8b5012a3a6053834a00\\\\_b.jpg)\\n\\n这样一来，整个技术流程就在幼虫实验室这两个技术宅的脑袋里跑通了。\\n\\n> 1、他们先用“生成引擎”生成1w个精美的像素风头像，取名为 Cryptopunks（加密朋克）。\\\\\\n> 2、然后把每个头像都进行一次密码运算，浓缩成一个64位的密码。\\n\\n> 3、把每个密码作为一个 NFT，写入以太坊账本。\\n\\n他们决定，把这些 NFT 头像免费送给大家。\\n\\n你没看错，是免费的。\\n\\n忙活了半天，免费送给大家，他们有啥好处呢？\\n\\n其实，他们藏了一手：只送出去9000个头像，还有1000个，留在了自己手里。\\n\\n**![以太坊](https://pic2.zhimg.com/v2-869e995e7d5b06da3bd489929853fef5\\\\_b.jpg)**\\n\\n**霍尔和沃特金森各自使用的头像。**\\n\\n2017年6月9日，幼虫实验室发了推特，宣布了这个好消息，然后坐在屋里坐等蜂拥而至的人们。\\n\\n![以太坊](https://pic2.zhimg.com/v2-1c5f39bcdb508f98c1f5c47eb2b7f4e9\\\\_b.jpg)\\n\\n然而，五天过去了，门可罗雀，只有一些零星的人来领走了几百个。。。\\n\\nCryptopunks 和佩佩不一样，虽然各个都长了一张桀骜不驯的脸，但是拿出去没人认识。\\n\\n> 我拿一个没人知道的东西出去，怎么装逼？\\n\\n所有人都会这样想。\\n\\n虽说是免费领，但领一次还得掏折合11美分的以太坊手续费。谁的钱也不是大风刮来的啊。。。。\\n\\n只有真心觉得这些头像好看，又烧包到愿意花几毛钱的人，才会去申领这些可疑的朋克头像。\\n\\n当然，即便选，他们也会先选最稀有的头像，比如“外星人”（9个）和“猿猴”（24个），在最初五天就被领完了。\\n\\n这些围观群众里，有一个身影驻足良久，他就是杰森·阿布鲁泽。\\n\\n**![以太坊](https://pic4.zhimg.com/v2-649855bb9a9207fe0adbee3fa4d6eb4b_b.jpg)**\\n\\n**Jason Abbruzzese 的推特头像，也是非常地波普。**\\n\\n杰森·阿布鲁泽当时是科技网站 Mashable 的一位记者。\\n\\n他采访了霍尔，写了一篇文章详细分析了 Cryptopunks，名叫《这个基于以太坊的项目，也许会改变我们对数字艺术的认知》。\\n\\n![以太坊](https://pic2.zhimg.com/v2-79bb31862875eb73f70a56e2631f46ed_b.jpg)\\n\\n> **当人们的生活向线上迁徙，地位的象征也必然会随之而来。**\\n\\n他说。\\n\\n这篇文章在6月19日发布。\\n\\n24小时之内，所有剩下的头像被一扫而空。有个哥们，一个人就抢了758个头像。\\n\\n![以太坊](https://pic3.zhimg.com/v2-60fc5168ae4b0b61a1d32db16e5c6e22\\\\_b.jpg)\\n\\n**（七）安妮 · 布拉塞格德尔**\\n\\n其实，更多人在2017年还没有注意到加密朋克（Cryptopunks ），但很多人都听说了“加密猫”（Cryptokitties）。\\n\\n加密猫是2017年10月19日上线的测试版，比加密朋克晚小半年，但加密猫显然比加密朋克更出圈。\\n\\n这是因为，加密猫的创作团队 Dapper Lab 加入了很多游戏元素，比如两只猫可以混合基因，生出小猫。\\n\\n**![以太坊](https://pic2.zhimg.com/v2-3511f1f6f71074bd2788cb1b16398f51\\\\_b.jpg)**\\n\\n**Cryptokitties**\\n\\n但这个性质既是优势，也是劣势。一旦强调“策略”，加密猫就被归类为游戏，而不是收藏品。\\n\\n游戏最终会进入游戏圈子，而收藏品最终会进入收藏圈子。\\n\\n![以太坊](https://pic2.zhimg.com/v2-7c42f6cb1d290e6fca720c76132293d9\\\\_b.jpg)\\n\\n如果回望历史，当时正在加密货币的牛市。\\n\\n2018年初，比特币刚刚触及了当时的历史新高，而在纽约，一场“史诗级会面”也同时发生。\\n\\n在1月13日举行的“稀有数字艺术节”上，Cryptopunks 的创始人霍尔、Cryptokitties 的产品策划马克、稀有佩佩钱包的创始人鲁尼聚在了一起。\\n\\n**这是一场 NFT 大神的会师。**\\n\\n在那次活动上，一个稀有佩佩被拍卖到了3.9w美元。\\n\\n![以太坊](https://pic3.zhimg.com/v2-4d3f90d21ffb1bb6973107387aedc696\\\\_b.jpg)\\n\\n就是下面这个，Homer pepe。\\n\\nHomer（荷马）是动画片辛普森一家里的形象。说出来你可能不信，这张图这么值钱，是因为它是一个“错版”，把 minute 写成了 mintue。（WTF。。。）\\n\\n![以太坊](https://pic4.zhimg.com/v2-a3d824b1f979943b72c6d67782d6366f_b.jpg)\\n\\n这场聚会，台下坐着一位女士，手里举着她的照相机。\\n\\n这不是一位普通的女士，她是佳士得拍卖行的摄影专家安妮 · 布拉塞格德尔。\\n\\n听完这群人的演讲，她迫不及待地约了幼虫实验室的两个技术宅聊人生。\\n\\n**![以太坊](https://pic2.zhimg.com/v2-c79a3ea6ad208373c76c1ed414977b59\\\\_b.jpg)**\\n\\n**安妮的推特头像**\\n\\n作为一个摄影师，安妮一直被一个 Bug 困扰：\\n\\n> 一个摄影师的作品，只有在死后才会值钱。因为你活着的时候，随时都会拍出新的作品。\\\\\\n> 你的作品越多，就越不值钱。只有确定你死透了，收藏者才愿意为你生前作品付高价。但此时，你已经享受不到这些钱了。。。\\n\\n看到 Cryptopunks，安妮一下子顿悟了。\\n\\n原来可以通过区块链的技术手段，用密码学保证一个艺术品的稀缺性：\\n\\n**一旦艺术品上链，就被巨大的计算力保护起来。就算是幼虫实验室的两位技术宅本人也没办法改动任何一个像素。**\\n\\n她赶紧指了条明路：你们的艺术品要想影响更广泛的大众，必须去画廊和拍卖行。\\n\\n于是，霍尔和沃特金森开始参加艺术论坛，认识了很多画廊老板。\\n\\n第一站，就是去苏黎世的一家画廊碰碰运气。\\n\\n为了适应土豪们的品味，他们决定把数字艺术的展现方式“降级”成传统艺术——选了12张头像打印出来，装裱得富丽堂皇，再把对应的以太坊钱包的密码打印到一张纸上塞进信奉，用中世纪风格的蜡封好。\\n\\n在开展前几天，画廊老板请沃特金森和一些金融界的土豪吃了顿饭，结果一顿饭吃下来，这12个 NFT 已经快卖光了。\\n\\n沃特金森赶紧飞回纽约，又打印了12个新的 NFT，也被一扫而空。\\n\\n![以太坊](https://pic3.zhimg.com/v2-e0623c559c8ba661511d9c085712604e_b.jpg)\\n\\n一切看上去都很光鲜。\\n\\n**但是，仅有圈外土豪们加持的数字艺术梦想，终归是一场郁金香泡沫。**\\n\\n这群人如火如荼地奔忙，并未来得及察觉，加密货币的寒冬已经不期而至。所有 NFT 的价格一落千丈，连 Cryptopunks 也变得无人问津。\\n\\n如一场野火扫过，满眼望去只有灰烬。\\n\\n不过，就在这场大火之前，美国的某个角落曾发生一件小事。\\n\\n**（八）克莱尔**\\n\\n2017年，00后女艺术家“克莱尔”和密码专家“703先生”在网上萍水相逢。\\n\\n克莱尔是网名，703先生也是网名。\\n\\n但他俩有一个共同的信念，加密艺术品一定有光明的未来。\\n\\n当时，703先生送了克莱尔三个 Cryptopunks 的头像，并且让克莱尔发誓，无论将来这三个头像有多值钱，她也不许卖。因为这种艺术品是应该放在纽约现代艺术博物馆里的。。。\\n\\n703先生为啥这么大方，给一个素未谋面的姑娘送上这样的大礼呢？\\n\\n因为，703先生就是我们之前提到的，抢到了758个 Cryptopunks 头像的那个人。抢完之后，他连送带卖，散出去55个头像（包括给克莱尔的三个），还剩703个，于是才自称“703先生”。\\n\\n但克莱尔显然没有703先生那么强的信念。\\n\\n2018年，看到所有 NFT 头像的价值跌去了90%，克莱尔照照镜子，自己仍然是那个患有抑郁症的身体孱弱的落魄艺术家，连下一顿饭钱在哪都不知道。\\n\\n她退了各种 NFT 群，没再和“703先生”说过话，买了一个二手 iPad，又花10美元买了一个画图软件，开始搞一些涂鸦，试着赚点钱。\\n\\n她忙于生计，根本没工夫回头看。\\n\\n无人注视的灰烬之下，正悄悄生出新芽。\\n\\n如果把镜头往前倒，就在克莱尔和703先生认识的2017年，一个名叫 Opensea 的网站悄然成立。它的创立者是亚历克斯 · 阿塔拉和德文 · 芬泽。\\n\\n![以太坊](https://pic3.zhimg.com/v2-2e7b31f0e88a2fee52ed4070b962ae96\\\\_b.jpg)\\n\\n## **Alex Atallah（左）和 Devin Finzer（右）**\\n\\n和那些单打独斗的代码英雄不同，Opensea 在成立之初就开始拉融资，用正规公司的方式成长。\\n\\n2018年，Opensea 拿到了科技创业教父保罗·格雷厄姆旗下加速器 y Combinator 的12w美元投资。靠着资本的力量，愣是咬牙熬过了寒冬。\\n\\n**![以太坊](https://pic1.zhimg.com/v2-f44a938a5b5d3d3dc2c3059daa460890\\\\_b.jpg)**\\n\\n**Paul Graham，他也是那本著名的《黑客与画家》的作者。**\\n\\n2021年，四年一度的加密世界热潮卷土重来，Opensea 狂揽10亿美金融资，瞬间从嫩芽长成参天大树。\\n\\n这一次，NFT 世界不用再看拍卖行和画廊里那些土豪们的脸色，它们有了属于自己的原生 NFT 交易市场。\\n\\nCryptopunks 的头像也顺理成章成为了 Opensea 上的抢手货。\\n\\n![以太坊](https://pic2.zhimg.com/v2-bd92c432e70ac9e78641c782177c5515\\\\_b.jpg)\\n\\n直到这个时候，潦倒的克莱尔才想起来，她自己手里还有3个 NFT 头像。\\n\\n她选了自己最喜欢的#1629，那个粉色头发的女孩儿，换成了推特头像。\\n\\n![以太坊](https://pic3.zhimg.com/v2-26fe3ae69773888779bcc62def76dbea_b.jpg)\\n\\n就凭这个头像，她的推特一个月涨粉1000人。蜂拥而至的粉丝带来的不仅有人气，还有真实的购买力。\\n\\n克莱尔把自己的作品放在 Opensea 上出售，真的有人下单，卖掉了好几幅画，赚了价值6000多美元的ETH。其中一位买家就是703先生。\\n\\n一个名叫贾斯汀 · 阿弗萨诺（Justin Aversano）的摄影师联系到了克莱尔，问她可不可以借用一下#1629头像，他有机会把这个头像放到纽约街头的电子展板上。\\n\\n克莱尔赶紧答应了。\\n\\n**![以太坊](https://pic1.zhimg.com/v2-b98014a99e241659bc1b4b8076932a5c_b.jpg)**\\n\\n**Justin Aversano**\\n\\n2021年5月，#1629果然出现在了纽约艺术博物馆附近的一个电子屏幕上。\\n\\n703先生的预言好像成真了——虽然还没放到现代艺术博物馆里面，但是就差三个路口。。。\\n\\n![以太坊](https://pic2.zhimg.com/v2-cf35a2e3d424c4528a6b3b95eddaeae9\\\\_b.jpg)\\n\\n克莱尔感觉心中翻涌，她想亲眼去看一看。\\n\\n从她家的小镇开车到纽约，要三天三夜。她把一个床垫塞进自己后座，发动汽车。到了晚上，她就找一家沃尔玛的停车场停好车，睡在里面，早晨去沃尔玛上个厕所，再接着开。\\n\\n就这样，2021年6月5日，她终于来到了这个让人眩晕的国际大都市。\\n\\n她停好车，快步走到高大的电子屏幕前，那个粉色头发、戴着黑帽子的像素女孩，就这样安坐在屏幕后面，斜眼望着世界，一言不发。\\n\\n这很他妈的朋克。\\n\\n克莱尔从包里翻出一张软纸片，写上自己的名字，然后在旁边郑重地画了一朵小花，和她推特网名后面的花一模一样，举到面前，用手机拍了一张照片。\\n\\n她把这张图片贴到推特上，配上一句话：在车里睡了好几天才到这，值了。\\n\\n![以太坊](https://pic1.zhimg.com/v2-2c20abbe2c91ea50f274c52d40fcddd0\\\\_b.jpg)\\n\\n在推特网友的惊诧和祝福中，她专门绕道到盛产海鲜的美国版大连——康涅狄格洲海岸，送给自己一顿丰盛的龙虾卷。\\n\\n但克莱尔并未遵守她对703先生的承诺。\\n\\n2021年夏天，她妈妈住院，需要手术。为了陪床，她要在医院附近租一间房，于是她卖掉了两个 Cryptopunks 头像，一个6.8w美元，一个1.8w美元。\\n\\n她手里只剩下了#1629。\\n\\n犹豫了很久，她买了一顶粉红色的假发。很难说是#1629成了她，还是她成了#1629。\\n\\nNFT 只是一张虚幻的图片。但在克莱尔的生命里，这张“虚幻的图片”却用奇异的方式陪伴了她的岁月。在波澜不惊的人生里，她拥有属于自己的英雄时刻。\\n\\n没什么比这更真实了。\\n\\n**![以太坊](https://pic1.zhimg.com/v2-54ce0f844e10780e9b9a0588ee3bbc88\\\\_b.jpg)**\\n\\n**克莱尔的自画像**\\n\\n**（九）Pak**\\n\\n最早申领 Cryptopunks 的人中，还有一位叫做埃里克 · 卡尔德隆（Erick Calderon）的人。\\n\\n他是一个商人，兼业余艺术家。\\n\\n在 NFT 大火之后，他也创办了自己的 NFT 网站 ArtBlock。\\n\\n**![以太坊](https://pic3.zhimg.com/v2-f9ca41d5b8906517c9b13156ea67079a_b.jpg)**\\n\\n**Erick Calderon**\\n\\n他的网站很有趣，里面所有的艺术家都不能自己来画作品，而必须使用像 Cryptopunks 一样的自动艺术生成技术。\\n\\n所以，ArtBlock 上的艺术作品都带有抽象的风格。\\n\\n比如下面这个，名叫 Ringers，来自艺术家德米特里（Dmitri Cherniak） 。\\n\\n**![以太坊](https://pic3.zhimg.com/v2-1718431c321168e9d2495e8d37e52ae6\\\\_b.jpg)**\\n\\n**Ringers 系列 NFT**\\n\\n**（总共1000幅）**\\n\\n2021年，Ringers 生成的一幅作品，拍出了580万美元，人们管这幅画叫《鹅》。\\n\\n![以太坊](https://pic4.zhimg.com/v2-53cb91e4b99a84130a6b1503e080907b_b.jpg)\\n\\n钱已经给不了德米特里什么特别的感觉了。2022年，他决定做一件更行为艺术的事情。1月份的每一天，他都会用 Ringers 生成一幅作品，然后随机发送到一个以太坊钱包里。\\n\\n当然，很可能这个钱包根本没人用，或者，即便有人用，它的主人也注意不到这个天上掉的馅饼。\\n\\n但德米特里就想这么做，他在推特上写道：“把它看作是对出生、生命和死亡的庆祝。”\\n\\n![以太坊](https://pic3.zhimg.com/v2-0a55105fbd602cdd202320aec2f02292\\\\_b.jpg)\\n\\n其实，这一招还有另一个人玩过。\\n\\n毕加索就曾经故意把自己的画作“忘”在公交车上。\\n\\n在 ArtBlock 上还有另外的明星艺术项目，比如安娜·卡雷拉斯的 Trossets。\\n\\n**![以太坊](https://pic4.zhimg.com/v2-96438c6d370e07b177cd223fa5760243\\\\_b.jpg)**\\n\\n**Trossets（总共1000幅）**\\n\\n比如 Ento 的 Heavenly Bodies。\\n\\n**![以太坊](https://pic2.zhimg.com/v2-5c3e7cc5db519b26210d533b908d6aa1\\\\_b.jpg)**\\n\\n**Heavenly Bodies（总共400幅）**\\n\\n当然，这场 NFT 运动的明星，幼虫实验室的两个技术宅更不可能闲着，他们推出了新的3D风格的 NFT，名叫 Meebits。\\n\\n**![以太坊](https://pic1.zhimg.com/v2-1961cd92744e17782c99b89d650567c8\\\\_b.jpg)**\\n\\n**Meebits**\\n\\n3D 风格，其实昭示了他们进军元宇宙与的野心。\\n\\n在网页时代，一个人的头像就是一张图片，但是在元宇宙里，一个人的形象就是立体的，要有头有脸有屁股，要像七度空间一样能做360度全方位无死角的运动。\\n\\n所以，Cryptopunks 是像素风（Pixel），Meebits 就是体素风（Voxel）。二者一脉相承。\\n\\n![以太坊](https://pic3.zhimg.com/v2-f43dbd54be962aaaa2c4480b9d91d1be_b.jpg)\\n\\n不过，如今来看，以上这些故事，都只能算是 NFT 世界里的序章。\\n\\n任何一个领域，都会经历一个“先驱”让位于“大神”的历史瞬间。\\n\\n这片幽蓝的深海里，真正的鲸鱼开始慢慢浮现。\\n\\n2021年3月11日，佳士得拍卖行拍出了一个 NFT，这就是插画艺术家 Beeple 的作品《每一天：前5000天》（Everydays: the First 5000 Days）。\\n\\n和其他电子算法生成的艺术品不同， Beeple 算是劳模了，他从2007年五一劳动节那天，就开始坚持每天画一幅画，到了2021年，终于凑够了5000幅作品。\\n\\n他把这5000幅画拼成一幅。\\n\\n这幅画卖出了6930万美元。\\n\\n**![以太坊](https://pic4.zhimg.com/v2-859582f666145289d22c37fa9130995f_b.jpg)**\\n\\n**Everydays: the First 5000 Days**\\n\\n这个数字妥妥打破了 NFT 历史上最贵作品的历史记录。而且，既然说了是“前5000天”，那后面肯定还有“中5000天”、“后5000天”之类，那大概是2035年左右的事情了。\\n\\n但真正可怕的是， Beeple 创造的纪录甚至没有保持一年。\\n\\n2021年12月2日，互联网的一个神秘角落，开始了一场为期48小时的售卖。\\n\\n卖的东西，名叫 mass。\\n\\n在这48小时内，你可以随便买多少，但过了截止时间，世界上就只有这么多 mass 了。\\n\\n而根据每个人拥有的 mass 数量，区块链上的系统会**实时**给你生成一块物质，这就是你的 NFT。\\n\\n![以太坊](https://pic2.zhimg.com/v2-3c32dbc6ed72f82b55cc386783fd1461\\\\_b.jpg)\\n\\nmass 越多，你的物质就越大。\\n\\n有趣的玩法在于，mass 可以交易。如果你有10个mass，我有20个，我把你的买来，我就有了30个，与此同时，我的 NFT 也就变大了。\\n\\n**![以太坊](https://pic4.zhimg.com/v2-a3239cc992b1fa86c42d98d1b80156db_b.jpg)**\\n\\n**在 Opensea 上交易的二手“物质”。**\\n\\n随着 mass 在不同人手中传递，这个空间里的物质就会开始运动、碰撞。就像我们的宇宙，没人能精准预言这些星体们将会如何演化、融合。\\n\\n可以说，这是一个动态变化的 NFT，也是一场行为艺术。\\n\\n**这场艺术的名字就叫 The Merge——融合。**\\n\\n![以太坊](https://pic2.zhimg.com/v2-37370d57d450c9f2f2f18b12620ca6b9\\\\_b.jpg)\\n\\n那场拍卖，一共有28983个买家买下了 mass，总金额折合9180美元。\\n\\n这个数字意义重大，不仅因为它再次刷新了 NFT 的最高价格，而且还创造了另一个历史记录：在世的艺术家公开拍卖艺术品的最高价。\\n\\n之前的最高纪录是9110万美元，由杰夫 · 昆斯1986年的雕塑“兔子”在2019年创造。\\n\\n**![以太坊](https://pic1.zhimg.com/v2-3f3f8e7047bd4ba33fb2789f6c74f0d8\\\\_b.jpg)**\\n\\n**Jeff Koons 和他的作品 Rabbit。**\\n\\n这仿佛一场宣言：\\n\\n**数字艺术的珠穆朗玛峰，已经超过了实体艺术。**\\n\\n而更有趣的是，The Merge 背后名为 Pak 的艺术家，没有人知道他的真实姓名、长相，是男是女。\\n\\n甚至都没人知道他到底是一个人还是一个组织。\\n\\n![以太坊](https://pic3.zhimg.com/v2-3555badef2ab00f590aaf47941f48986\\\\_b.jpg)\\n\\n但他的创造力却是被公认的。（我们姑且认为是“他”吧）\\n\\n早在2021年3月，初出茅庐的 Pak 就被苏富比拍卖行注意到，他的两幅作品《像素》(The Pixel) 、《转变》(The Switch)，分别拍出了136w美元和140w美元。\\n\\n**![以太坊](https://pic3.zhimg.com/v2-f669f77ec0c71a21f4dc7a6965e72a6a_b.jpg)**\\n\\n**这不是一张没有加载出来的图片，这就是《The Pixel》。**\\n\\n2021年9月30日，他开发出了第一款社会实验游戏《失落的诗人》。\\n\\n游戏中，65536个 AI 生成的诗人头像总计卖出了7000万美元。\\n\\n**![以太坊](https://pic3.zhimg.com/v2-9522ed726cf868acab55b984bdd51c96\\\\_b.jpg)**\\n\\n**《Lost Poets》**\\n\\n说回 The Merge。\\n\\n2021年12月4日，Pak 宣布上线了一个神秘的网站——mass.black。\\n\\n![以太坊](https://pic2.zhimg.com/v2-138a36b041178ba0f66de6b32dc505a5\\\\_b.jpg)\\n\\n这个网站目前只有一个首页，而它背后显然隐藏着 Pak 并未透露的 The Merge 更深层的玩法。而从这里看，那场拍卖似乎只是一个更宏大的项目的开端。\\n\\n由此，Pak 逐渐封神，他被称为“NFT 世界里的中本聪”。\\n\\nPak 在推特上有33w粉丝。从某种程度上来说，这些人的关注并不是盲目的，因为正如 Pak 所说**，他想证明 NFT 远远不是一张 jpeg 图片。**\\n\\n**![以太坊](https://pic4.zhimg.com/v2-20093698954d2cdc36911e0ba195e007\\\\_b.jpg)**\\n\\n**这是截止2022年2月，NFT 世界里成交价格最高的10个作品列表。（点击可以看大图）**\\n\\n至少，The Merge 已经证明了，NFT 可以依靠程序、代码和哲学设计，创造出比传统艺术更广阔的可能性，触达到传统艺术无法触及的灵魂点位。\\n\\n在 The Merge 所登陆的 NFT 网站 NiftyGateway 底部，写着这样一句话：\\n\\n> **我们不会停歇，直到有10亿人收藏 NFT。**\\n\\n![以太坊](https://pic2.zhimg.com/v2-3dd2923a03e34781485578843428c821\\\\_b.jpg)\\n\\n**（十）反叛者们**\\n\\n很多人激烈地质疑 NFT 究竟是不是艺术。\\n\\n就像当年，人们质疑安迪·沃霍尔画的罐头是不是艺术一样。\\n\\n质疑者的理由就是：这些作品并不具有传统意义上的“美感”。\\n\\n但是请注意，人类艺术的最高峰，从来不是靠纯粹的“美感”达成，而是靠它们身上所承载的批判性和质疑精神。\\n\\n> 《蒙娜丽莎》之所以璀璨，是因为她用一双属于人类的温柔眼睛，藐视了中世纪的千年黑暗。\\\\\\n> 《星夜》之所以永恒，是因为怒放的枝条直抵苍穹背后，是一个手握画笔，试图凝聚勇气冲破苦难的灵魂。\\n\\n**当艺术开始向权力谄媚，它才不再是艺术。**\\n\\n由此来看，青蛙佩佩们纵然渺小，密码朋克的头像们虽然简陋，但他们却以一种分布式的方式，对时代进行观察，并试着与时代进行互动。\\n\\n不爽的时候，他们也会毫不顾忌地对时代竖起中指——一根分布式的，不可追溯的，被技术保护的中指。\\n\\n![以太坊](https://pic2.zhimg.com/v2-3db1bfa7d03c62001e78c9b7a10cd02d_b.jpg)\\n\\n即便人如蝼蚁，但每个人都有回应时代的冲动，以此证明我们曾热烈或颓败地活过。\\n\\n你讲过的每一个笑话，你发过的每一个表情，都是你生命的呈堂证供。人人都希望自己的生命存证与众不同，就像并排的罐头瓶里最出挑的那个。\\n\\n于是，藉由代码，人们区隔出了一个个小宇宙，在这些宇宙里，梦想以 NFT 的形式标价，任君采撷。\\n\\n至少在自己的小宇宙里，你我都有机会做15分钟的英雄梦。\\n\\n这恐怕是机器如山堆垒、代码如潮奔涌的时代，能馈赠给它的子民们最好的东西。\\n\\n![以太坊](https://pic3.zhimg.com/v2-ff389d939912ca602a8d9bf56d0062ce_b.jpg)\\n\\n\\\\\\n\\n\\n> 本文使用 [文章同步助手](https://zhuanlan.zhihu.com/p/358098152) 同步\\n\",\n",
       "  'timestamp': 1644418679,\n",
       "  'title': '罐头、青蛙和平凡人的15分钟英雄传奇'},\n",
       " 'digest': 'nRf8Tgm8XJIOPxKW3BBl0sJzeZkNkQangpoOovvaCT8',\n",
       " 'authorship': {'contributor': '0xc33111B8620366CCCA9A7fd4e4d53682fBb33E7C',\n",
       "  'signingKey': '{\"crv\":\"P-256\",\"ext\":true,\"key_ops\":[\"verify\"],\"kty\":\"EC\",\"x\":\"EsFta7ZugPx_jkt_eT4Eq6AV8QHJe6iiBO7n94xp_-c\",\"y\":\"M9oPrhrtrS7OedUDzREI9E1nbvokVb3JE4FRTwmjAF8\"}',\n",
       "  'signature': 'E5V3UXIcheXd7eMz8pETUjgnGh9V8gR38M9_9-Vqp1VFoIaKul2kxbA0Vn5NlIjHpjAubL9GDW3LVrJM_SEBBA',\n",
       "  'signingKeySignature': '0x03a2179803a0e1809e4ee10e5a2a460bad4f8c84d71535970565396d988831df5a83cf3a79bc5344dad301a6d297a8adda0dcc6dfcc9a70a02155b6592bd8bab1b',\n",
       "  'signingKeyMessage': 'I authorize publishing on mirror.xyz from this device using:\\n{\"crv\":\"P-256\",\"ext\":true,\"key_ops\":[\"verify\"],\"kty\":\"EC\",\"x\":\"EsFta7ZugPx_jkt_eT4Eq6AV8QHJe6iiBO7n94xp_-c\",\"y\":\"M9oPrhrtrS7OedUDzREI9E1nbvokVb3JE4FRTwmjAF8\"}',\n",
       "  'algorithm': {'name': 'ECDSA', 'hash': 'SHA-256'}},\n",
       " 'nft': {},\n",
       " 'version': '12-21-2020',\n",
       " 'originalDigest': 'nRf8Tgm8XJIOPxKW3BBl0sJzeZkNkQangpoOovvaCT8'}"
      ]
     },
     "execution_count": 13,
     "metadata": {},
     "output_type": "execute_result"
    }
   ],
   "source": [
    "json.loads(tx.data)"
   ]
  },
  {
   "cell_type": "code",
   "execution_count": null,
   "id": "072b9899-83ef-4a22-814e-af07bc2d9d98",
   "metadata": {},
   "outputs": [],
   "source": [
    "query {\n",
    "    transactions(first: 5, after: \"WyIyMDIwLTA5LTIzVDE2OjQ0OjE0LjY5MloiLDFd\") {\n",
    "        edges {\n",
    "            cursor\n",
    "            node {\n",
    "                id\n",
    "            }\n",
    "        }\n",
    "    }\n",
    "}"
   ]
  },
  {
   "cell_type": "code",
   "execution_count": 36,
   "id": "9bab3a33-9274-454f-8e64-a7008619e4c4",
   "metadata": {},
   "outputs": [],
   "source": [
    "from arweave.arweave_lib import arql"
   ]
  },
  {
   "cell_type": "code",
   "execution_count": 37,
   "id": "3a44f835-071a-4239-988f-7c75109d9911",
   "metadata": {},
   "outputs": [
    {
     "ename": "NameError",
     "evalue": "name 'equals' is not defined",
     "output_type": "error",
     "traceback": [
      "\u001b[0;31m---------------------------------------------------------------------------\u001b[0m",
      "\u001b[0;31mNameError\u001b[0m                                 Traceback (most recent call last)",
      "Input \u001b[0;32mIn [37]\u001b[0m, in \u001b[0;36m<module>\u001b[0;34m\u001b[0m\n\u001b[0;32m----> 1\u001b[0m \u001b[43mequals\u001b[49m(\u001b[38;5;124m'\u001b[39m\u001b[38;5;124mApp-Name\u001b[39m\u001b[38;5;124m'\u001b[39m, \u001b[38;5;124m'\u001b[39m\u001b[38;5;124mmy-app\u001b[39m\u001b[38;5;124m'\u001b[39m)\n\u001b[1;32m      5\u001b[0m transaction_ids \u001b[38;5;241m=\u001b[39m arql(\n\u001b[1;32m      6\u001b[0m    wallet,\n\u001b[1;32m      7\u001b[0m    {\n\u001b[0;32m   (...)\u001b[0m\n\u001b[1;32m     10\u001b[0m        \u001b[38;5;124m\"\u001b[39m\u001b[38;5;124mexpr2\u001b[39m\u001b[38;5;124m\"\u001b[39m: [\u001b[38;5;124m\"\u001b[39m\u001b[38;5;124mMirrorXYZ\u001b[39m\u001b[38;5;124m\"\u001b[39m]\n\u001b[1;32m     11\u001b[0m    })\n",
      "\u001b[0;31mNameError\u001b[0m: name 'equals' is not defined"
     ]
    }
   ],
   "source": [
    " equals('App-Name', 'my-app')\n",
    "\n",
    "\n",
    "\n",
    "transaction_ids = arql(\n",
    "    wallet,\n",
    "    {\n",
    "        \"op\": \"equals\",\n",
    "        \"expr1\": \"App-Name\",\n",
    "        \"expr2\": [\"MirrorXYZ\"]\n",
    "    })"
   ]
  },
  {
   "cell_type": "code",
   "execution_count": 29,
   "id": "5b526f38-b012-4829-acb0-ed3e9a07494c",
   "metadata": {},
   "outputs": [
    {
     "data": {
      "text/plain": [
       "'26fFqJaxE6HhxNgzWbaeY74y5FcV58AkfQ_RNXHt6QE'"
      ]
     },
     "execution_count": 29,
     "metadata": {},
     "output_type": "execute_result"
    }
   ],
   "source": [
    "transaction[\"node\"][\"id\"]"
   ]
  },
  {
   "cell_type": "code",
   "execution_count": 6,
   "id": "443c2ad9-703b-4f46-ab80-110c706e4c06",
   "metadata": {},
   "outputs": [],
   "source": [
    "wallet_file_path = \"wallets/arweave-keyfile-r8xG_s5cGl7TRnY3UmInLqQtWD8xOgJHs67Y4N0dmhc.json\"\n",
    "wallet = arweave.Wallet(wallet_file_path)"
   ]
  },
  {
   "cell_type": "code",
   "execution_count": 7,
   "id": "5ee85dd5-326a-447e-b98d-60cdd367f24b",
   "metadata": {},
   "outputs": [],
   "source": [
    "tx = Transaction(wallet, id=\"60NTvR8-OoZFY-AdnOwaLaSvU9w0bAYH6N0l1_H3JRU\")"
   ]
  },
  {
   "cell_type": "code",
   "execution_count": 8,
   "id": "236d1a44-0f92-4d0d-9ff6-05d47eefea22",
   "metadata": {},
   "outputs": [],
   "source": [
    "tx.get_data()"
   ]
  },
  {
   "cell_type": "code",
   "execution_count": 9,
   "id": "fda47834-1f51-4521-86d7-4468f03a7b8d",
   "metadata": {},
   "outputs": [],
   "source": [
    "data = json.loads(tx.data)"
   ]
  },
  {
   "cell_type": "code",
   "execution_count": 11,
   "id": "42095c66-a55a-4483-93c4-fc627b58c92b",
   "metadata": {},
   "outputs": [
    {
     "data": {
      "text/plain": [
       "dict_keys(['content', 'digest', 'authorship', 'nft', 'version', 'originalDigest'])"
      ]
     },
     "execution_count": 11,
     "metadata": {},
     "output_type": "execute_result"
    }
   ],
   "source": [
    "data.keys()"
   ]
  },
  {
   "cell_type": "code",
   "execution_count": 17,
   "id": "63ccd9dd-f2d0-4c1a-a7b6-d90cb494c30c",
   "metadata": {},
   "outputs": [
    {
     "data": {
      "text/plain": [
       "{'contributor': '0x1CcE290D30352c030B409dDBb3Bd2566778dD62c',\n",
       " 'signingKey': '{\"crv\":\"P-256\",\"ext\":true,\"key_ops\":[\"verify\"],\"kty\":\"EC\",\"x\":\"OjWqWvvkBijPo6909_eXD-NW-kjcyB9zhK6FfDKbEf4\",\"y\":\"hNnJRwP9Z9klQjW_y2InM6ZD8c5YCfPHiFbQqvdze2Q\"}',\n",
       " 'signature': 'tYRqKUlXJFwX5H8DWsW8Mb055dcEukvzUhRrK1wi5DCOCp_cLw5Cla7IpISJLjrEavsxQWwwLLQJgjS9L2n_2Q',\n",
       " 'signingKeySignature': '0x707bd0a274af0ffb8a24caf83d2afcaf5f0f737135c79744632e05edffc930680905480f58a5c81fb0d2f997fb5c41a9772f4e73a99a08ce6816752abdc00ab21c',\n",
       " 'signingKeyMessage': 'I authorize publishing on mirror.xyz from this device using:\\n{\"crv\":\"P-256\",\"ext\":true,\"key_ops\":[\"verify\"],\"kty\":\"EC\",\"x\":\"OjWqWvvkBijPo6909_eXD-NW-kjcyB9zhK6FfDKbEf4\",\"y\":\"hNnJRwP9Z9klQjW_y2InM6ZD8c5YCfPHiFbQqvdze2Q\"}',\n",
       " 'algorithm': {'name': 'ECDSA', 'hash': 'SHA-256'}}"
      ]
     },
     "execution_count": 17,
     "metadata": {},
     "output_type": "execute_result"
    }
   ],
   "source": [
    "data['authorship']"
   ]
  },
  {
   "cell_type": "code",
   "execution_count": 19,
   "id": "22ed1498-7b9e-4013-81a4-10561e478830",
   "metadata": {},
   "outputs": [
    {
     "ename": "ModuleNotFoundError",
     "evalue": "No module named 'lz4'",
     "output_type": "error",
     "traceback": [
      "\u001b[0;31m---------------------------------------------------------------------------\u001b[0m",
      "\u001b[0;31mModuleNotFoundError\u001b[0m                       Traceback (most recent call last)",
      "Input \u001b[0;32mIn [19]\u001b[0m, in \u001b[0;36m<module>\u001b[0;34m\u001b[0m\n\u001b[0;32m----> 1\u001b[0m \u001b[38;5;28;01mimport\u001b[39;00m \u001b[38;5;21;01mlz4\u001b[39;00m\n",
      "\u001b[0;31mModuleNotFoundError\u001b[0m: No module named 'lz4'"
     ]
    }
   ],
   "source": [
    "import lz4"
   ]
  },
  {
   "cell_type": "code",
   "execution_count": 35,
   "id": "77c00a47-5c8e-4f3e-8b16-392386c5dbf6",
   "metadata": {},
   "outputs": [
    {
     "data": {
      "text/plain": [
       "dict_keys(['content', 'digest', 'authorship', 'nft', 'version', 'originalDigest'])"
      ]
     },
     "execution_count": 35,
     "metadata": {},
     "output_type": "execute_result"
    }
   ],
   "source": [
    "data.keys()"
   ]
  },
  {
   "cell_type": "code",
   "execution_count": 36,
   "id": "3f11e969-2209-4556-9580-587f1bcd558e",
   "metadata": {},
   "outputs": [
    {
     "data": {
      "text/plain": [
       "{'content': {'body': \"在《唐伯虎点秋香》的世界里，9527 只是一个家奴。\\n\\n但在某个赛博世界，9527 却等于34万美元。\\n\\n下面这个头像，带着瓜皮帽抽着烟的家伙，就是全世界最火的 NFT 项目——Cryptopunks——里面，1w个头像中的 9527号。\\n\\n**![以太坊](https://pic3.zhimg.com/v2-e9d05f4eca4e76cd343ec9e3c66f6dce_b.jpg)**\\n\\n**#9527**\\n\\n它的主人“0x949...b786”，在2022年1月23号刚刚更新了它的挂牌出售价，124ETH，折合34w美元。\\n\\n![以太坊](https://pic2.zhimg.com/v2-ff4ea096c5445f8aa1f1da8e0decd01d_b.jpg)\\n\\n如果你肯掏这么多钱，下一秒这个头像就是你的，怎么样，很划算吧？\\n\\n什么，你觉得很扯淡？\\n\\n那是因为你不了解这个头像背后的稀有属性。\\n\\n你看到他嘴里那根烟了咩？1w人里只有961个人有这个属性。你看到他的小帽帽了咩？只有419个人有这个属性。你看到他那一抹性感的小胡子了吗？仔细看，就是嘴上面灰色的那一条，只有288个人有这个属性哦\\\\~\\\\~\\n\\n![以太坊](https://pic1.zhimg.com/v2-16a494cd2a92dcc60a306e459f639414\\\\_b.jpg)\\n\\n![以太坊](https://pic2.zhimg.com/v2-82770e4e560ff79cfa8ed314b9ea51e1\\\\_b.jpg)\\n\\n哦，即使这样你也不心动么。。。\\n\\n没关系，你不心动，有人心动。\\n\\n就在2021年6月10日，全球知名的苏富比拍卖行就拍卖了它的“兄弟”，Cryptopunks 第7523号。\\n\\n**![以太坊](https://pic2.zhimg.com/v2-0da5ccf840942acf96f5b858a791e401\\\\_b.jpg)**\\n\\n**#7523**\\n\\n看这个瓜皮帽，还是一样的配方吧，只不过下面的头变成了所谓的“外星人”，烟卷也没了，换成了拼多多上一块钱七个的口罩。\\n\\n少废话，先说价格：这货拍出了1175万美元，换成人民币将近一个小目标。\\n\\n![以太坊](https://pic1.zhimg.com/v2-199bc2fdc12ebac210f62fc45b47d074\\\\_b.jpg)\\n\\n因为1w个头像里，长着外星人脸的，只有9个，而他恰好也是175个戴口罩的人之一。\\n\\n![以太坊](https://pic2.zhimg.com/v2-e516bc05f7d72ddcce9c2819f6b0d34d_b.jpg)\\n\\n一个有趣的细节是：虽然口罩是现今世界的绝佳隐喻，但在六年前 Cryptopunks 这1w个头像诞生的时候，世界上还没有新冠病毒疫情。\\n\\n所以，7523号最初的主人，曾经在2017年以便宜的价格（大概1646美元）倒了一手，辗转到了这次拍卖会的卖家 Sillytuna 手里。\\n\\n四年时间，7523已经变成了“新冠外星人头像”，价格翻了7000多倍，看上去是个比买房更好的主意。\\n\\n这就是 Sillytuna 的推特，拍卖两天以后，他还在抱怨自己没有新鞋穿。。。这条推特本身也很朋克。\\n\\n![以太坊](https://pic3.zhimg.com/v2-8ca66c78938020cefb34e1557aaa8ad2\\\\_b.jpg)\\n\\n可能已经有浅友不耐烦了。什么乱七八糟的，有你说话的功夫，已经够我把图片下载下来，给头像 P 成既戴口罩又抽烟的样子，然后换成我的微信头像了。。。\\n\\n我为什么要花1000w美元来买这张狗屁图片？\\n\\n![以太坊](https://pic1.zhimg.com/v2-9067c402a4746227abf53e7763ad3c50\\\\_b.jpg)\\n\\n“NFT 凭什么值钱”的问题，相信已经有无数人解释过了。\\n\\n但我想从“精神源流”的角度，给你串讲一个有趣的故事。\\n\\n**（一）安迪·沃霍尔**\\n\\n> **在未来，每个人都会出名15分钟。**\\n\\n1968年，这行铅字出现在斯德哥尔摩现代美术馆宣传页上。\\n\\n那一年，没有互联网，没有苹果手机，没有抖音，没有比特币，没有 Telegram。\\n\\n**但塑造如今世界的那个核心脚本，已经全然出现。**\\n\\n说出这句话的人，是“波普艺术教皇”，安迪·沃霍尔。\\n\\n**![以太坊](https://pic2.zhimg.com/v2-04c023caefffd990fc4d45e4551be879\\\\_b.jpg)**\\n\\n**Andy Warhol**\\n\\n1961年，胖胖的情色作家兼画廊老板娘拉托对正在发愁画什么的安迪·沃霍尔说：有没有一种可能，你把每天中午吃的罐头给画出来？\\n\\n**![以太坊](https://pic2.zhimg.com/v2-e3a446624830e8e580c44988703e8e01\\\\_b.jpg)**\\n\\n**拉托**\\n\\n安迪·沃霍尔觉得这个主意简直不要太牛逼，为此专门给了拉托50美元“创意费”。\\n\\n由此开始，他一发不可收拾，画完汤罐头画可乐瓶子，画完马连良梦露画某国元首。（这50块创意费非常值，因为他后来的一幅画就能卖1亿美金。）\\n\\n## **![以太坊](https://pic1.zhimg.com/v2-2e3cf91f824ed6aaf8815310d4d97d20\\\\_b.jpg)《Campbell’s Soup Cans》1962**\\n\\n### **![以太坊](https://pic4.zhimg.com/v2-2dd8270735f4156e4f1873592515fbaf_b.jpg)《Flavor Marilyns》1962**\\n\\n无论画的是什么，安迪·沃霍尔几乎都在背后隐藏了一个数学逻辑，那就是：**重复的主体****+****随机变量****。**\\n\\n注意！虽然人类的艺术创作本来就包含“重复”这个因素，但大多是**“主题重复”**。比如中世纪画家很多人都画耶稣和圣母，小学生在学校里都各自画“房树人”，但安迪·沃霍尔的重复是非常直白的**“形象重复”**。\\n\\n形象重复对人的审美能力要求非常低，我小学二年级的时候第一次看到那幅玛丽莲·梦露，也能一眼识破玄机并且感受其中的韵律。\\n\\n**这是一种只有机器才能制造出来的重复。**（实际上，他的作画方式也是工业的“丝网印刷”。）\\n\\n![以太坊](https://pic3.zhimg.com/v2-d5523c9a8df2e67ef52cf6aa7794053a_b.jpg)\\n\\n安迪·沃霍尔的画能卖到和梵高一样贵，我觉得其中一个原因就是：**它精准地抓住了工业时代最普遍的大众精神状态。**\\n\\n**工业时代**的大众是啥状态呢？\\n\\n我给你说一段安迪·沃霍尔的原话，你体会一下：\\n\\n> 你知道总统喝可口可乐，伊丽莎白·泰勒喝可口可乐，你想了想，你也可以喝可口可乐。\\\\\\n> 可乐就是可乐，你有再多的钱也买不到比街角那个流浪汉喝的更好的可乐。所有的可乐都是一样的，伊丽莎白 · 泰勒知道，总统知道，流浪汉知道，你也知道。\\n\\n你把可口可乐换成“苹果手机”、“抖音”，把伊丽莎白·泰勒换成迪丽热巴，这个陈述依然成立。\\n\\n**那个富家千金披绫罗，穷人丫头穿补丁的时代已经一去不返了。**哪怕是三和大神也能花10块钱买一条干净的裤子。\\n\\n**![以太坊](https://pic2.zhimg.com/v2-54b92ed12d5bdd488addef058427c0ad_b.jpg)**\\n\\n**安迪·沃霍尔曾经面对镜头，用四分多钟吃了一个汉堡。这成为了一场对工业时代的绝佳隐喻。**\\n\\n**但这对于天性爱追求“不平等”的人类来说，也许并非好事。**\\n\\n注意，重点来了！到现在为止，我一共引用了两句安迪·沃霍尔的话，而这两句话看上去是自相矛盾的：\\n\\n**如果这个时代，大家不论贫富贵贱，都在喝可乐，吃麦当劳，用苹果手机，刷抖音，就像****画里并排站立的罐头****，那么，什么才能让你变得与众不同，让你站在聚光灯下享受众人目光，哪怕只有15分钟呢？**\\n\\n恐怕诀窍就在那个微小的**“变量”**上。\\n\\n在工业生产的环境下，人为控制变量最简单粗暴的方式就是“限量生产”。\\n\\n同学都穿 AJ 的鞋，但你们的是普通款，我的是全球限量500双。那么，当我们在班上相遇，你们的注意力就必然被我“踩在脚下”。于是，我拥有了“出名的15分钟”。\\n\\n**虽然我俩在法律上是平等的，但我身上的某个变量比你的变量更稀缺，我就人为制造出了不平等。**\\n\\n这招屡试不爽，从安迪·沃霍尔指出这一点，到现在半个世纪过去了，人们仍然乐在其中。\\n\\n而且愈演愈烈。\\n\\n**![以太坊](https://pic4.zhimg.com/v2-1c214a0805d88060415ab7b14da1ef8b_b.jpg)**\\n\\n**安迪·沃霍尔首次登上《TIME》杂志，1962年5月11日。**\\n\\n**（二）马特和佩佩**\\n\\n一切都源自于2005年的一天。\\n\\n> 你转过去，屁股对着我，弯下腰，对，就这样别动。\\n\\n马特对女朋友阿雅娜说。\\n\\n**![以太坊](https://pic2.zhimg.com/v2-1974f9c68aef7d522bc2112350571bfd_b.jpg)**\\n\\n**Matt Furie**\\n\\n别误会，马特是一个漫画家。\\n\\n他当时正在画一个场景：一个人撒尿的时候，非要把内裤外裤都脱到脚踝。这个动作很难画，于是让女朋友客串一下模特。。。\\n\\n![以太坊](https://pic2.zhimg.com/v2-dbfe9d26d31a6f9481dc2a919b4d9f55\\\\_b.jpg)\\n\\n他画的漫画名叫《男孩俱乐部》（Boy's Club），里面的主角是四个慵懒无所事事的年轻人。\\n\\n其中一个长着青蛙头，满脸睿智，它叫佩佩（Pepe）。\\n\\n![以太坊](https://pic2.zhimg.com/v2-8fcccee9d60e8bb13e0928fe63c51ae9\\\\_b.jpg)\\n\\n佩佩的形象来自于马特的表哥大卫。\\n\\n当年大卫就是这样脱裤子撒尿，一副吊儿郎当的样子。\\n\\n![以太坊](https://pic4.zhimg.com/v2-ecd1bb2afb719fd1814b6554de872937\\\\_b.jpg)\\n\\n年少的马特站在厕所门外目睹了这一切，惊为天人。他心里突然流过一种“卧槽，为什么很爽”的感觉。。。\\n\\n于是在后来的漫画故事里，他就以表哥为原型，让佩佩说出了那句话：Feels good man！\\n\\n![以太坊](https://pic2.zhimg.com/v2-39562b77d944d73b02041de51bfc0581\\\\_b.jpg)\\n\\n很快，《男孩俱乐部》的故事在网上一炮而红。\\n\\n但接下来的故事，就开始出乎马特的意料。\\n\\n有人在网上发自己的健身打卡照，配上文字“Feels good man”，然后有人做了各种表情包，也配了“Feels good man”。\\n\\n![以太坊](https://pic4.zhimg.com/v2-c3b24091a1fc5af2ad5e8792c96a4dcb_b.jpg)\\n\\n甚至有沙雕主播编了一首《Feels good 之歌》。\\n\\n![以太坊](https://pic2.zhimg.com/v2-8fc7afd89217fd830c7f7ad0ccb778bd_b.jpg)\\n\\n渐渐人们发现，佩佩这个青蛙，屌丝的长相，路人的气质，一无所长但游戏人间的性格，恰像是屏幕暗下来那一瞬间，里面反射的自己。\\n\\n一眨眼的功夫，人们开始给佩佩穿上各种衣服，变成各种职业，然后是各种崩坏的表情，极端的情绪。\\n\\n当然，现在我们知道，这就是一个标准的梗图流行过程。\\n\\n如果询问坐在一边的“顾问”，安迪·沃霍尔先生，他一定会挑挑眉毛——这没啥新鲜的，仍然是在**重复的主体**上叠加**变量**。\\n\\n![以太坊](https://pic1.zhimg.com/v2-5e1f4702591f0c29d4fac789561a2e64\\\\_b.jpg)\\n\\n于是，你可以这样理解：\\n\\n**虽然安迪·沃霍尔早在1987年就已去世，但互联网的存在，让无数无名创作者组成了一个****“分布式的安迪·沃霍尔”****。**\\n\\n这个安迪·沃霍尔更加坚韧，甚至是**永生****的。**\\n\\n**（三）克里斯托弗·普尔**\\n\\n2003年，14岁的克里斯托弗·普尔在自家地下室里创办了匿名贴图社区 4chan。\\n\\n**![以太坊](https://pic4.zhimg.com/v2-dcc4be32a4e93d3379cff61064c440cb_b.jpg)**\\n\\n**Christopher Poole**\\n\\n最初，4chan 只有一个版块，中二少年在这里贴日漫。\\n\\n但很快，“自由的气息”就弥漫开来。由于匿名性和不存档，人们在这里可以畅所欲言，吸引了梗图高手和沙雕网友，这里就像一片海湾的海水逐渐沸腾。\\n\\n4chan 快速爆火的时间点，正好和佩佩出圈的时间点重合，于是，佩佩自然而然成为 4chan 网友的创作素材。\\n\\n![以太坊](https://pic3.zhimg.com/v2-fac77be8b307fc9677997845a04948be_b.jpg)\\n\\n![以太坊](https://pic1.zhimg.com/v2-ee46617ea55c5335b28805ecd175d7c0\\\\_b.jpg)\\n\\n![以太坊](https://pic4.zhimg.com/v2-3f6c31310e7378697e8929540fb779bf_b.jpg)\\n\\n大家遇到有意思的梗图都会保存，然后找到合适的机会自己用。\\n\\n存下一张图，只需点两下鼠标，这比你去麦当劳点一个汉堡，上网买一双袜子还简单。\\n\\n背后的事实是：**互联网时代，复制一个东西的成本比工业时代更低，低到几乎为零。**\\n\\n这就导致了一个严重问题：一张图，你也用，我也用。用的人越多，它就越烂大街，迅速贬值。\\n\\n> 这让梗图的作者觉得不舒服——因为图火了，但他们自己没人知道；\\\\\\n> 也让最早用这张梗图的人觉得没意思——因为他发现了金矿，但他们自己也没出名。\\n\\n那，这么说的话。。。有没有可能让一个梗图也具有稀缺性？像 AJ 鞋一样，人为赋予它稀缺性也好。\\n\\n大聪明们决定试一试。\\n\\n很快，就有佩佩梗图的作者为了防止被“盗图”，在图片上加了大水印：“稀有佩佩，不许保存”。\\n\\n这种“稀有佩佩”被发在了 /r9k/ 板块里。\\n\\n![以太坊](https://pic4.zhimg.com/v2-7af014fe6ff9c52566689e67962586ef_b.jpg)\\n\\n多说一句， /r9k/ 本来就是 4chan 里鼓励原创的板块，它的规矩是这样的：在这里，你必须发原创的东西。但凡有人在这里发过一句话，你再重复说一次，就会被禁言一段时间作为惩罚。\\n\\n系统怎么知道你说的话是不是原创的呢？\\n\\n你看这个板块的名字，r9k，其实就是“机器人去重脚本” Robot9000 的缩写。\\n\\n**![以太坊](https://pic1.zhimg.com/v2-fb6d24ea0c44bd75eb2eca0c0b30c964\\\\_b.jpg)**\\n\\n**r9k 的版规（点击可以看大图）**\\n\\n这个脚本是漫画作家兼程序员兰德尔·门罗写的。\\n\\n当时，门罗受够了网上人们各种复制、灌水，把不是自己的话粘来粘去，于是他想要构建一个“乌托邦”——**如果在一个世界里，一旦有人说过一句话，其他人就再也不能说这句话，会怎么样？**\\n\\n于是就有了 Robot9000 脚本。\\n\\n**![以太坊](https://pic1.zhimg.com/v2-748e850fc4ce01b88c86c32c63709634\\\\_b.jpg)**\\n\\n**兰德尔·门罗和他著名的火柴人漫画**\\n\\n说回“稀有佩佩”。\\n\\n/r9k/ 板块的胡逼网友立刻觉得，对啊，知识产权得保护啊！于是，大家纷纷支持稀有佩佩的作者不要再把原图发上来了，想用稀有佩佩装逼，得花钱买。\\n\\n**我得提醒你注意：这个时候，佩佩已经和它的原创者马特完全无关了。马特可以喜欢网友创造的佩佩，也可以不喜欢，但因为马特不混 4chan，所以没人在乎他的意见。**\\n\\n**4chan 是一个封闭宇宙——宇宙之外的任何人，都无法影响宇宙之内的历史。**\\n\\n![以太坊](https://pic3.zhimg.com/v2-e24dcdde349592b4933fc406ef8105ee_b.jpg)\\n\\n很快，二手网站 ebay 上就有作者开始卖自己的佩佩，稀有的，不带水印的。\\n\\n而且还真有人买，因为买了就是 4chan 上最靓的崽。。。\\n\\n那时候，有一个轰动事件。\\n\\n有人打包了1200个稀有佩佩在ebay 上拍卖，价格最终被哄抬到了5w美元。\\n\\n![以太坊](https://pic3.zhimg.com/v2-a401d4bcf6aac6dce1e016b370576776\\\\_b.jpg)\\n\\n狗屁图片，就这样和钱扯上了关系。\\n\\n而且大家都觉得有理有据，起码 4chan 网友深信不疑。\\n\\n**（四）乔 · 鲁尼**\\n\\n乔 · 鲁尼是一个码农，2016年的时候，他正在给一个P2P网站 Counterparty 开发数字钱包。\\n\\n那天，在 Counterparty 的 Telegram 群里，突然有人甩进来一张扑克牌一样的玩意儿，上面画着一个中本聪模样的稀有佩佩。\\n\\n![以太坊](https://pic1.zhimg.com/v2-ad9864e0567b2eeeb2c429fe237811d4\\\\_b.jpg)\\n\\n那哥们说：我做了一整副牌，都是稀有的佩佩，我正在网上卖，将来这副牌怎么着也得值几百万刀吧？\\n\\n胡逼网友们纷纷附和：这太牛逼了，我想买。\\n\\n然后，人们开始出价：1块一张，5块一张，10块一张。然后大家就纷纷滚去下单了。。。\\n\\n鲁尼举着手机，楞了半天。\\n\\n“那一瞬间，我都想自己去画稀有佩佩了。。。”他回忆。\\n\\n不过，他很快就想到了一个比画佩佩更牛逼的主意——做一个能交易稀有佩佩的平台，顺便用自己的传统艺能做一套能存储稀有佩佩的“钱包系统”。\\n\\n**![以太坊](https://pic4.zhimg.com/v2-0085d249de4c897757f56a4ad8135637\\\\_b.jpg)**\\n\\n**乔·鲁尼**\\n\\n可是，这些佩佩即使做得再像纸牌，也毕竟只是图片，图片是可以被复制的。\\n\\n那怎么让所有的人都认可某个人拥有对一张图片的所有权呢？\\n\\n他立刻就想到了一个巧妙的方法——利用比特币的记账系统。\\n\\n比特币的记账系统有一个特点，那就是分布式账本，同一笔账目由全世界成千上万的节点来共同记录。也就是说，**只要你有自己钱包的密码，里面的币，无论有多少，就肯定是你的，所有人都得认。**\\n\\n这样一来，就使得“做假账”成为了不可能。\\n\\n**![以太坊](https://pic4.zhimg.com/v2-f87dad768cce370d66030285ff793beb_b.jpg)**\\n\\n**我试了试，刚进网站，它就给我建立了一个钱包**\\n\\n而这个特性，被鲁尼用来做了“稀有佩佩钱包”。\\n\\n简单来说，它的原理是这样的：\\n\\n> 一张稀有佩佩卡绑定一个比特币钱包，只有它的主人拥有这个钱包的密码（也就是私钥）。如果你想把佩佩转移给另一个人，只需要把密码给他。\\n\\n![以太坊](https://pic1.zhimg.com/v2-53488ddf733089fdb72d7836fa2c1570\\\\_b.jpg)\\n\\n这种交易模式，竟然成立了。\\n\\n而且，鲁尼做了一个有意思的设定：一个创作者要想给网站提交一张佩佩卡，必须向一个空地址发送一定的比特币，也就是说，等于把这些币烧掉了——鲁尼拿不到这些钱，别人也拿不到。\\n\\n为啥要浪费钱呢？\\n\\n这个道理，就像你加入黑帮时，得先拿一个人头做投名状。被杀的那个人躺不躺枪不重要，重要的是，它是一个“准入门槛”，防止有人打开画图软件，五秒钟画一个水货佩佩就拿来卖。\\n\\n这个设定意义重大。\\n\\n很快，就有很多创意不错画工精良的佩佩被挂上平台，一看就是出自有一定艺术修养的人——**创作者开始认真对待这件事儿了。**\\n\\n**![以太坊](https://pic2.zhimg.com/v2-4f9577d1658af03f7ff981018e50c45d_b.jpg)**\\n\\n**这是和钱包配套的作品展示网站，Rare Pepe Directory。**\\n\\n再后来，网站后来还发展出了O2O模式——你买一张电子卡，我就送一张纸质卡。\\n\\n**但所有买家都知道：纸质卡其实一文不值，值钱的是那个存证在网上的图片。。。**\\n\\n![以太坊](https://pic2.zhimg.com/v2-d02037870ea8a8881a7d00c3364c8819\\\\_b.jpg)\\n\\n![以太坊](https://pic1.zhimg.com/v2-e5b3b82041140a5727d7500f0106bb30\\\\_b.jpg)\\n\\n故事讲到这，一切虽然看起来胡逼，但大家的动机只是有趣、赚钱和自由表达，总体上是善良的。\\n\\n但自由主义就是这样，当无数自由叠加在一起，就会沉重到压垮地平线。\\n\\n**（五）希拉里和特朗普**\\n\\n自由主义者在各个方面都是自由的，从 4chan 的留言上就能看出，他们大多是想说什么就说什么，歧视女性，歧视黑人，自我中心。\\n\\n4chan 里一些用户喜欢把自己称为“NEET”，也就是没上过学，没工作，没技能的三无人员。\\n\\n你懂的，这类人是“键盘侠”的主力队伍。\\n\\n**![以太坊](https://pic3.zhimg.com/v2-335e6688570975c3f28576aab2ede1b6\\\\_b.jpg)**\\n\\n**“NEET”的生活意见。**\\n\\n4chan 上专门有一个板块叫“政治不正确”（Politically Incorrect），里面充满白人至上的言论。在他们眼里，黑人没爹只会抢劫，亚洲人抠门又邪恶，恨不得搞一堵墙把其他人都隔绝在漂亮国之外。\\n\\n反正是匿名社区，不会暴露自己，也没有人因此惹上麻烦。\\n\\n久而久之，这片潮湿的土壤孕育了一种蠕虫一般的右翼网络思潮，这就是另类右翼（Alt-Right）。\\n\\n2016年，正好赶上美国大选。另类右翼一看，特朗普的竞选口号就是在边界建一堵墙，这妥妥的是自己人啊，特朗普没准儿还是潜水的 4chan 网友呢！\\n\\n于是，另类右翼们把佩佩做成了特朗普的样子，鼓励大家把票投给特朗普。\\n\\n![以太坊](https://pic2.zhimg.com/v2-185801cb8e981e08741970ffcf06d58d_b.jpg)\\n\\n无辜的佩佩突然就从表情包变成了一种政治符号。。。\\n\\n故事的高潮，发生在2016年8月25日，希拉里竞选演讲的现场，她正在认真批判右翼思潮，人群中，却有一个声音大声喊出了：佩佩！\\n\\n![以太坊](https://pic2.zhimg.com/v2-7e233be80aff82ef507ac9a128605ff5\\\\_b.jpg)\\n\\n这个大多数人不明就里的一嗓子，被另类右翼视为战歌。\\n\\n![以太坊](https://pic4.zhimg.com/v2-34e7ace58ad2fc0aef180b35f294961f_b.jpg)\\n\\n那之后，莫名其妙出现的佩佩表情包，就变得越来越恐怖。\\n\\n有人把佩佩变成3K党，有人把纳粹的标志贴到佩佩身上，有人让佩佩举起十字军东征的旗帜。\\n\\n![以太坊](https://pic3.zhimg.com/v2-9e5806026969af23d94cf0834294dada_b.jpg)\\n\\n甚至有人从古埃及的石画上找到了一个名叫“凯克”的蛙头人身像，然后说这TM就是古埃及人给我们的天启，我们的神就是凯克。\\n\\n4chan 上随即有人认真起哄：我们这群人应该考虑找一个厉害的律师，帮助我们建立一个“自由”的白人国度——凯克斯坦。。。\\n\\n![以太坊](https://pic3.zhimg.com/v2-8e29a7f8a0133f4e67eb15c023cfd73a_b.jpg)\\n\\n好事者还为凯克斯坦画了旗帜，上边还有 4chan 的 Logo 四叶草。。。\\n\\n![以太坊](https://pic2.zhimg.com/v2-496a7400a5b928038f7844e81b22de65\\\\_b.jpg)\\n\\n最抓狂的，就是佩佩的作者马特。\\n\\n你想想看，本来佩佩就是一个把裤子拉下来撒尿的精神小伙儿，现在却被利用变成了仇恨的狂魔。\\n\\n**![以太坊](https://pic1.zhimg.com/v2-e5456b28dbdae460a0783b0236876538\\\\_b.jpg)**\\n\\n**挨打的是 Alt-Right 的一个线下领导人。**\\n\\n他忍无可忍，决定起诉这些公开把佩佩和政治扯上关系的人。\\n\\n但这无济于事。\\n\\n后来，他只能亲自出来给佩佩的故事写续集——佩佩因为种族歧视而死，大家为他举行了葬礼。。。\\n\\n但这仍然无济于事。\\n\\n![以太坊](https://pic3.zhimg.com/v2-5b7cea1ad3f5360c72149786b19e4762\\\\_b.jpg)\\n\\n因为从佩佩登上互联网的那一天，它就已经被**“分布式安迪沃霍尔”**抓在手上，甚至没有一个单独的人能够决定佩佩的走向。\\n\\n有人觉得佩佩成功，有人觉得佩佩失败，它的人设被各色油漆涂抹，变得无比复杂。\\n\\n但在区块链领域，佩佩无疑成了一个光芒四射的“先行者”，它探明了**区块链艺术品**的“安全区”和“雷区”。\\n\\n**![以太坊](https://pic3.zhimg.com/v2-3b1dd4e603d4d4bbe349157840e91852\\\\_b.jpg)**\\n\\n**事实上，关于佩佩，也有很多温暖人心的创作。**\\n\\n**（六）沃特金森和霍尔**\\n\\n2017年春天，鲁尼还在打理他蒸蒸日上的“稀有佩佩”网站。\\n\\n他不知道的是，就在网线对面，有另一个技术宅正在和他隔空对望。\\n\\n这哥们就是霍尔。\\n\\n霍尔和他的好基友沃特金森都毕业于多伦多大学计算机系，1999年，他们来到纽约，成为纽飘。他俩都喜欢用计算机搞一些幺蛾子的事情，臭味相投，于是组成了一个幺蛾子组合——幼虫实验室（Larva Lab）。\\n\\n**![以太坊](https://pic3.zhimg.com/v2-534ef0dc239898dcf225bc3af2ee557a_b.jpg)**\\n\\n**左边是霍尔，右边是沃特金森。**\\n\\n最近几年，他俩一直在磨炼一个奇怪的艺能：用计算机算法生成头像。\\n\\n比如，2011年的时候，他们就发布了一个 App，可以为你生成一个长得像安卓机器人的头像。就像下面这样。\\n\\n**![以太坊](https://pic4.zhimg.com/v2-a819724c20145b3a2259455c9c6a5a0b_b.jpg)**\\n\\n**右边是霍尔，左边是沃特金森。**\\n\\n2017年的时候，他们生成头像的艺能已经炉火纯青，选取了一个朋克的主题，做出了一个“头像生成引擎”。\\n\\n正好这对基友在聊天的时候，聊到沃特金森的小侄女正在疯狂收集洋娃娃，他俩于是想起，自己小时候不也收藏棒球卡还有万智牌么。（和中国男生收集水浒卡是一个意思）\\n\\n看来，收藏癖真是全人类穿越时间和空间的共同特质啊。。。\\n\\n“那，有没有一种可能，我们限量生产出一些头像，比如生产1w个，然后让大家收藏呢？”霍尔说。\\n\\n于是，他才上网搜集信息，看到了稀有佩佩网站。\\n\\n但稀有佩佩有个问题：它使用的是比特币网络。**而比特币网络在设计的时候，只能用于比特币记账，记不了别的东西。**所以鲁尼在设计的时候，只能在比特币账本上外挂一个“佩佩钱包”。\\n\\n但“佩佩钱包”四舍五入又是受鲁尼控制的，不太公开透明。\\n\\n**有没有一种网络，既公开透明，又能记录更复杂的账本呢？**\\n\\n他俩立刻想到了当时刚开始火爆的以太坊链（ETH）。\\n\\n**![以太坊](https://pic4.zhimg.com/v2-7ab8e2ca861fb6410aa0187e59b8da7f_b.jpg)**\\n\\n**这就是 ETH（bushi**\\n\\n以太坊链和比特币链有很多区别，这里我们只挑最重要的一点来说。\\n\\n这就是支持**“非同质化代币”**。\\n\\n你可以把比特币想象成一张张的美元，美元就是美元，我的美元和你的美元都是美元，如果我用一张100美元换了你的一张100美元，那和没换是一样的。\\n\\n也就是说，比特币是同质化的。\\n\\n![以太坊](https://pic4.zhimg.com/v2-761c5f5443b3cc006e21aad010324e33\\\\_b.jpg)\\n\\n但在以太坊上，我可以创造出一种奇怪的美元，就像是在每一张百元美钞上都画了不同的画，这样大家拿到的美钞就不是同质化的。比如我的100美元上画了黄皮电耗子，你的100元美钞上画了蒜头王八。\\n\\n这时候，我要用皮卡丘100美元换你的可达鸭100美元，你就要考虑一下了，你可能更喜欢蒜头王八，不喜欢电耗子，那么你就不一定愿意换。\\n\\n这个“非同质化代币”，简称就叫 NFT（Non-Fungible Token）。\\n\\n![以太坊](https://pic1.zhimg.com/v2-1bd29f95b53df8b5012a3a6053834a00\\\\_b.jpg)\\n\\n这样一来，整个技术流程就在幼虫实验室这两个技术宅的脑袋里跑通了。\\n\\n> 1、他们先用“生成引擎”生成1w个精美的像素风头像，取名为 Cryptopunks（加密朋克）。\\\\\\n> 2、然后把每个头像都进行一次密码运算，浓缩成一个64位的密码。\\n\\n> 3、把每个密码作为一个 NFT，写入以太坊账本。\\n\\n他们决定，把这些 NFT 头像免费送给大家。\\n\\n你没看错，是免费的。\\n\\n忙活了半天，免费送给大家，他们有啥好处呢？\\n\\n其实，他们藏了一手：只送出去9000个头像，还有1000个，留在了自己手里。\\n\\n**![以太坊](https://pic2.zhimg.com/v2-869e995e7d5b06da3bd489929853fef5\\\\_b.jpg)**\\n\\n**霍尔和沃特金森各自使用的头像。**\\n\\n2017年6月9日，幼虫实验室发了推特，宣布了这个好消息，然后坐在屋里坐等蜂拥而至的人们。\\n\\n![以太坊](https://pic2.zhimg.com/v2-1c5f39bcdb508f98c1f5c47eb2b7f4e9\\\\_b.jpg)\\n\\n然而，五天过去了，门可罗雀，只有一些零星的人来领走了几百个。。。\\n\\nCryptopunks 和佩佩不一样，虽然各个都长了一张桀骜不驯的脸，但是拿出去没人认识。\\n\\n> 我拿一个没人知道的东西出去，怎么装逼？\\n\\n所有人都会这样想。\\n\\n虽说是免费领，但领一次还得掏折合11美分的以太坊手续费。谁的钱也不是大风刮来的啊。。。。\\n\\n只有真心觉得这些头像好看，又烧包到愿意花几毛钱的人，才会去申领这些可疑的朋克头像。\\n\\n当然，即便选，他们也会先选最稀有的头像，比如“外星人”（9个）和“猿猴”（24个），在最初五天就被领完了。\\n\\n这些围观群众里，有一个身影驻足良久，他就是杰森·阿布鲁泽。\\n\\n**![以太坊](https://pic4.zhimg.com/v2-649855bb9a9207fe0adbee3fa4d6eb4b_b.jpg)**\\n\\n**Jason Abbruzzese 的推特头像，也是非常地波普。**\\n\\n杰森·阿布鲁泽当时是科技网站 Mashable 的一位记者。\\n\\n他采访了霍尔，写了一篇文章详细分析了 Cryptopunks，名叫《这个基于以太坊的项目，也许会改变我们对数字艺术的认知》。\\n\\n![以太坊](https://pic2.zhimg.com/v2-79bb31862875eb73f70a56e2631f46ed_b.jpg)\\n\\n> **当人们的生活向线上迁徙，地位的象征也必然会随之而来。**\\n\\n他说。\\n\\n这篇文章在6月19日发布。\\n\\n24小时之内，所有剩下的头像被一扫而空。有个哥们，一个人就抢了758个头像。\\n\\n![以太坊](https://pic3.zhimg.com/v2-60fc5168ae4b0b61a1d32db16e5c6e22\\\\_b.jpg)\\n\\n**（七）安妮 · 布拉塞格德尔**\\n\\n其实，更多人在2017年还没有注意到加密朋克（Cryptopunks ），但很多人都听说了“加密猫”（Cryptokitties）。\\n\\n加密猫是2017年10月19日上线的测试版，比加密朋克晚小半年，但加密猫显然比加密朋克更出圈。\\n\\n这是因为，加密猫的创作团队 Dapper Lab 加入了很多游戏元素，比如两只猫可以混合基因，生出小猫。\\n\\n**![以太坊](https://pic2.zhimg.com/v2-3511f1f6f71074bd2788cb1b16398f51\\\\_b.jpg)**\\n\\n**Cryptokitties**\\n\\n但这个性质既是优势，也是劣势。一旦强调“策略”，加密猫就被归类为游戏，而不是收藏品。\\n\\n游戏最终会进入游戏圈子，而收藏品最终会进入收藏圈子。\\n\\n![以太坊](https://pic2.zhimg.com/v2-7c42f6cb1d290e6fca720c76132293d9\\\\_b.jpg)\\n\\n如果回望历史，当时正在加密货币的牛市。\\n\\n2018年初，比特币刚刚触及了当时的历史新高，而在纽约，一场“史诗级会面”也同时发生。\\n\\n在1月13日举行的“稀有数字艺术节”上，Cryptopunks 的创始人霍尔、Cryptokitties 的产品策划马克、稀有佩佩钱包的创始人鲁尼聚在了一起。\\n\\n**这是一场 NFT 大神的会师。**\\n\\n在那次活动上，一个稀有佩佩被拍卖到了3.9w美元。\\n\\n![以太坊](https://pic3.zhimg.com/v2-4d3f90d21ffb1bb6973107387aedc696\\\\_b.jpg)\\n\\n就是下面这个，Homer pepe。\\n\\nHomer（荷马）是动画片辛普森一家里的形象。说出来你可能不信，这张图这么值钱，是因为它是一个“错版”，把 minute 写成了 mintue。（WTF。。。）\\n\\n![以太坊](https://pic4.zhimg.com/v2-a3d824b1f979943b72c6d67782d6366f_b.jpg)\\n\\n这场聚会，台下坐着一位女士，手里举着她的照相机。\\n\\n这不是一位普通的女士，她是佳士得拍卖行的摄影专家安妮 · 布拉塞格德尔。\\n\\n听完这群人的演讲，她迫不及待地约了幼虫实验室的两个技术宅聊人生。\\n\\n**![以太坊](https://pic2.zhimg.com/v2-c79a3ea6ad208373c76c1ed414977b59\\\\_b.jpg)**\\n\\n**安妮的推特头像**\\n\\n作为一个摄影师，安妮一直被一个 Bug 困扰：\\n\\n> 一个摄影师的作品，只有在死后才会值钱。因为你活着的时候，随时都会拍出新的作品。\\\\\\n> 你的作品越多，就越不值钱。只有确定你死透了，收藏者才愿意为你生前作品付高价。但此时，你已经享受不到这些钱了。。。\\n\\n看到 Cryptopunks，安妮一下子顿悟了。\\n\\n原来可以通过区块链的技术手段，用密码学保证一个艺术品的稀缺性：\\n\\n**一旦艺术品上链，就被巨大的计算力保护起来。就算是幼虫实验室的两位技术宅本人也没办法改动任何一个像素。**\\n\\n她赶紧指了条明路：你们的艺术品要想影响更广泛的大众，必须去画廊和拍卖行。\\n\\n于是，霍尔和沃特金森开始参加艺术论坛，认识了很多画廊老板。\\n\\n第一站，就是去苏黎世的一家画廊碰碰运气。\\n\\n为了适应土豪们的品味，他们决定把数字艺术的展现方式“降级”成传统艺术——选了12张头像打印出来，装裱得富丽堂皇，再把对应的以太坊钱包的密码打印到一张纸上塞进信奉，用中世纪风格的蜡封好。\\n\\n在开展前几天，画廊老板请沃特金森和一些金融界的土豪吃了顿饭，结果一顿饭吃下来，这12个 NFT 已经快卖光了。\\n\\n沃特金森赶紧飞回纽约，又打印了12个新的 NFT，也被一扫而空。\\n\\n![以太坊](https://pic3.zhimg.com/v2-e0623c559c8ba661511d9c085712604e_b.jpg)\\n\\n一切看上去都很光鲜。\\n\\n**但是，仅有圈外土豪们加持的数字艺术梦想，终归是一场郁金香泡沫。**\\n\\n这群人如火如荼地奔忙，并未来得及察觉，加密货币的寒冬已经不期而至。所有 NFT 的价格一落千丈，连 Cryptopunks 也变得无人问津。\\n\\n如一场野火扫过，满眼望去只有灰烬。\\n\\n不过，就在这场大火之前，美国的某个角落曾发生一件小事。\\n\\n**（八）克莱尔**\\n\\n2017年，00后女艺术家“克莱尔”和密码专家“703先生”在网上萍水相逢。\\n\\n克莱尔是网名，703先生也是网名。\\n\\n但他俩有一个共同的信念，加密艺术品一定有光明的未来。\\n\\n当时，703先生送了克莱尔三个 Cryptopunks 的头像，并且让克莱尔发誓，无论将来这三个头像有多值钱，她也不许卖。因为这种艺术品是应该放在纽约现代艺术博物馆里的。。。\\n\\n703先生为啥这么大方，给一个素未谋面的姑娘送上这样的大礼呢？\\n\\n因为，703先生就是我们之前提到的，抢到了758个 Cryptopunks 头像的那个人。抢完之后，他连送带卖，散出去55个头像（包括给克莱尔的三个），还剩703个，于是才自称“703先生”。\\n\\n但克莱尔显然没有703先生那么强的信念。\\n\\n2018年，看到所有 NFT 头像的价值跌去了90%，克莱尔照照镜子，自己仍然是那个患有抑郁症的身体孱弱的落魄艺术家，连下一顿饭钱在哪都不知道。\\n\\n她退了各种 NFT 群，没再和“703先生”说过话，买了一个二手 iPad，又花10美元买了一个画图软件，开始搞一些涂鸦，试着赚点钱。\\n\\n她忙于生计，根本没工夫回头看。\\n\\n无人注视的灰烬之下，正悄悄生出新芽。\\n\\n如果把镜头往前倒，就在克莱尔和703先生认识的2017年，一个名叫 Opensea 的网站悄然成立。它的创立者是亚历克斯 · 阿塔拉和德文 · 芬泽。\\n\\n![以太坊](https://pic3.zhimg.com/v2-2e7b31f0e88a2fee52ed4070b962ae96\\\\_b.jpg)\\n\\n## **Alex Atallah（左）和 Devin Finzer（右）**\\n\\n和那些单打独斗的代码英雄不同，Opensea 在成立之初就开始拉融资，用正规公司的方式成长。\\n\\n2018年，Opensea 拿到了科技创业教父保罗·格雷厄姆旗下加速器 y Combinator 的12w美元投资。靠着资本的力量，愣是咬牙熬过了寒冬。\\n\\n**![以太坊](https://pic1.zhimg.com/v2-f44a938a5b5d3d3dc2c3059daa460890\\\\_b.jpg)**\\n\\n**Paul Graham，他也是那本著名的《黑客与画家》的作者。**\\n\\n2021年，四年一度的加密世界热潮卷土重来，Opensea 狂揽10亿美金融资，瞬间从嫩芽长成参天大树。\\n\\n这一次，NFT 世界不用再看拍卖行和画廊里那些土豪们的脸色，它们有了属于自己的原生 NFT 交易市场。\\n\\nCryptopunks 的头像也顺理成章成为了 Opensea 上的抢手货。\\n\\n![以太坊](https://pic2.zhimg.com/v2-bd92c432e70ac9e78641c782177c5515\\\\_b.jpg)\\n\\n直到这个时候，潦倒的克莱尔才想起来，她自己手里还有3个 NFT 头像。\\n\\n她选了自己最喜欢的#1629，那个粉色头发的女孩儿，换成了推特头像。\\n\\n![以太坊](https://pic3.zhimg.com/v2-26fe3ae69773888779bcc62def76dbea_b.jpg)\\n\\n就凭这个头像，她的推特一个月涨粉1000人。蜂拥而至的粉丝带来的不仅有人气，还有真实的购买力。\\n\\n克莱尔把自己的作品放在 Opensea 上出售，真的有人下单，卖掉了好几幅画，赚了价值6000多美元的ETH。其中一位买家就是703先生。\\n\\n一个名叫贾斯汀 · 阿弗萨诺（Justin Aversano）的摄影师联系到了克莱尔，问她可不可以借用一下#1629头像，他有机会把这个头像放到纽约街头的电子展板上。\\n\\n克莱尔赶紧答应了。\\n\\n**![以太坊](https://pic1.zhimg.com/v2-b98014a99e241659bc1b4b8076932a5c_b.jpg)**\\n\\n**Justin Aversano**\\n\\n2021年5月，#1629果然出现在了纽约艺术博物馆附近的一个电子屏幕上。\\n\\n703先生的预言好像成真了——虽然还没放到现代艺术博物馆里面，但是就差三个路口。。。\\n\\n![以太坊](https://pic2.zhimg.com/v2-cf35a2e3d424c4528a6b3b95eddaeae9\\\\_b.jpg)\\n\\n克莱尔感觉心中翻涌，她想亲眼去看一看。\\n\\n从她家的小镇开车到纽约，要三天三夜。她把一个床垫塞进自己后座，发动汽车。到了晚上，她就找一家沃尔玛的停车场停好车，睡在里面，早晨去沃尔玛上个厕所，再接着开。\\n\\n就这样，2021年6月5日，她终于来到了这个让人眩晕的国际大都市。\\n\\n她停好车，快步走到高大的电子屏幕前，那个粉色头发、戴着黑帽子的像素女孩，就这样安坐在屏幕后面，斜眼望着世界，一言不发。\\n\\n这很他妈的朋克。\\n\\n克莱尔从包里翻出一张软纸片，写上自己的名字，然后在旁边郑重地画了一朵小花，和她推特网名后面的花一模一样，举到面前，用手机拍了一张照片。\\n\\n她把这张图片贴到推特上，配上一句话：在车里睡了好几天才到这，值了。\\n\\n![以太坊](https://pic1.zhimg.com/v2-2c20abbe2c91ea50f274c52d40fcddd0\\\\_b.jpg)\\n\\n在推特网友的惊诧和祝福中，她专门绕道到盛产海鲜的美国版大连——康涅狄格洲海岸，送给自己一顿丰盛的龙虾卷。\\n\\n但克莱尔并未遵守她对703先生的承诺。\\n\\n2021年夏天，她妈妈住院，需要手术。为了陪床，她要在医院附近租一间房，于是她卖掉了两个 Cryptopunks 头像，一个6.8w美元，一个1.8w美元。\\n\\n她手里只剩下了#1629。\\n\\n犹豫了很久，她买了一顶粉红色的假发。很难说是#1629成了她，还是她成了#1629。\\n\\nNFT 只是一张虚幻的图片。但在克莱尔的生命里，这张“虚幻的图片”却用奇异的方式陪伴了她的岁月。在波澜不惊的人生里，她拥有属于自己的英雄时刻。\\n\\n没什么比这更真实了。\\n\\n**![以太坊](https://pic1.zhimg.com/v2-54ce0f844e10780e9b9a0588ee3bbc88\\\\_b.jpg)**\\n\\n**克莱尔的自画像**\\n\\n**（九）Pak**\\n\\n最早申领 Cryptopunks 的人中，还有一位叫做埃里克 · 卡尔德隆（Erick Calderon）的人。\\n\\n他是一个商人，兼业余艺术家。\\n\\n在 NFT 大火之后，他也创办了自己的 NFT 网站 ArtBlock。\\n\\n**![以太坊](https://pic3.zhimg.com/v2-f9ca41d5b8906517c9b13156ea67079a_b.jpg)**\\n\\n**Erick Calderon**\\n\\n他的网站很有趣，里面所有的艺术家都不能自己来画作品，而必须使用像 Cryptopunks 一样的自动艺术生成技术。\\n\\n所以，ArtBlock 上的艺术作品都带有抽象的风格。\\n\\n比如下面这个，名叫 Ringers，来自艺术家德米特里（Dmitri Cherniak） 。\\n\\n**![以太坊](https://pic3.zhimg.com/v2-1718431c321168e9d2495e8d37e52ae6\\\\_b.jpg)**\\n\\n**Ringers 系列 NFT**\\n\\n**（总共1000幅）**\\n\\n2021年，Ringers 生成的一幅作品，拍出了580万美元，人们管这幅画叫《鹅》。\\n\\n![以太坊](https://pic4.zhimg.com/v2-53cb91e4b99a84130a6b1503e080907b_b.jpg)\\n\\n钱已经给不了德米特里什么特别的感觉了。2022年，他决定做一件更行为艺术的事情。1月份的每一天，他都会用 Ringers 生成一幅作品，然后随机发送到一个以太坊钱包里。\\n\\n当然，很可能这个钱包根本没人用，或者，即便有人用，它的主人也注意不到这个天上掉的馅饼。\\n\\n但德米特里就想这么做，他在推特上写道：“把它看作是对出生、生命和死亡的庆祝。”\\n\\n![以太坊](https://pic3.zhimg.com/v2-0a55105fbd602cdd202320aec2f02292\\\\_b.jpg)\\n\\n其实，这一招还有另一个人玩过。\\n\\n毕加索就曾经故意把自己的画作“忘”在公交车上。\\n\\n在 ArtBlock 上还有另外的明星艺术项目，比如安娜·卡雷拉斯的 Trossets。\\n\\n**![以太坊](https://pic4.zhimg.com/v2-96438c6d370e07b177cd223fa5760243\\\\_b.jpg)**\\n\\n**Trossets（总共1000幅）**\\n\\n比如 Ento 的 Heavenly Bodies。\\n\\n**![以太坊](https://pic2.zhimg.com/v2-5c3e7cc5db519b26210d533b908d6aa1\\\\_b.jpg)**\\n\\n**Heavenly Bodies（总共400幅）**\\n\\n当然，这场 NFT 运动的明星，幼虫实验室的两个技术宅更不可能闲着，他们推出了新的3D风格的 NFT，名叫 Meebits。\\n\\n**![以太坊](https://pic1.zhimg.com/v2-1961cd92744e17782c99b89d650567c8\\\\_b.jpg)**\\n\\n**Meebits**\\n\\n3D 风格，其实昭示了他们进军元宇宙与的野心。\\n\\n在网页时代，一个人的头像就是一张图片，但是在元宇宙里，一个人的形象就是立体的，要有头有脸有屁股，要像七度空间一样能做360度全方位无死角的运动。\\n\\n所以，Cryptopunks 是像素风（Pixel），Meebits 就是体素风（Voxel）。二者一脉相承。\\n\\n![以太坊](https://pic3.zhimg.com/v2-f43dbd54be962aaaa2c4480b9d91d1be_b.jpg)\\n\\n不过，如今来看，以上这些故事，都只能算是 NFT 世界里的序章。\\n\\n任何一个领域，都会经历一个“先驱”让位于“大神”的历史瞬间。\\n\\n这片幽蓝的深海里，真正的鲸鱼开始慢慢浮现。\\n\\n2021年3月11日，佳士得拍卖行拍出了一个 NFT，这就是插画艺术家 Beeple 的作品《每一天：前5000天》（Everydays: the First 5000 Days）。\\n\\n和其他电子算法生成的艺术品不同， Beeple 算是劳模了，他从2007年五一劳动节那天，就开始坚持每天画一幅画，到了2021年，终于凑够了5000幅作品。\\n\\n他把这5000幅画拼成一幅。\\n\\n这幅画卖出了6930万美元。\\n\\n**![以太坊](https://pic4.zhimg.com/v2-859582f666145289d22c37fa9130995f_b.jpg)**\\n\\n**Everydays: the First 5000 Days**\\n\\n这个数字妥妥打破了 NFT 历史上最贵作品的历史记录。而且，既然说了是“前5000天”，那后面肯定还有“中5000天”、“后5000天”之类，那大概是2035年左右的事情了。\\n\\n但真正可怕的是， Beeple 创造的纪录甚至没有保持一年。\\n\\n2021年12月2日，互联网的一个神秘角落，开始了一场为期48小时的售卖。\\n\\n卖的东西，名叫 mass。\\n\\n在这48小时内，你可以随便买多少，但过了截止时间，世界上就只有这么多 mass 了。\\n\\n而根据每个人拥有的 mass 数量，区块链上的系统会**实时**给你生成一块物质，这就是你的 NFT。\\n\\n![以太坊](https://pic2.zhimg.com/v2-3c32dbc6ed72f82b55cc386783fd1461\\\\_b.jpg)\\n\\nmass 越多，你的物质就越大。\\n\\n有趣的玩法在于，mass 可以交易。如果你有10个mass，我有20个，我把你的买来，我就有了30个，与此同时，我的 NFT 也就变大了。\\n\\n**![以太坊](https://pic4.zhimg.com/v2-a3239cc992b1fa86c42d98d1b80156db_b.jpg)**\\n\\n**在 Opensea 上交易的二手“物质”。**\\n\\n随着 mass 在不同人手中传递，这个空间里的物质就会开始运动、碰撞。就像我们的宇宙，没人能精准预言这些星体们将会如何演化、融合。\\n\\n可以说，这是一个动态变化的 NFT，也是一场行为艺术。\\n\\n**这场艺术的名字就叫 The Merge——融合。**\\n\\n![以太坊](https://pic2.zhimg.com/v2-37370d57d450c9f2f2f18b12620ca6b9\\\\_b.jpg)\\n\\n那场拍卖，一共有28983个买家买下了 mass，总金额折合9180美元。\\n\\n这个数字意义重大，不仅因为它再次刷新了 NFT 的最高价格，而且还创造了另一个历史记录：在世的艺术家公开拍卖艺术品的最高价。\\n\\n之前的最高纪录是9110万美元，由杰夫 · 昆斯1986年的雕塑“兔子”在2019年创造。\\n\\n**![以太坊](https://pic1.zhimg.com/v2-3f3f8e7047bd4ba33fb2789f6c74f0d8\\\\_b.jpg)**\\n\\n**Jeff Koons 和他的作品 Rabbit。**\\n\\n这仿佛一场宣言：\\n\\n**数字艺术的珠穆朗玛峰，已经超过了实体艺术。**\\n\\n而更有趣的是，The Merge 背后名为 Pak 的艺术家，没有人知道他的真实姓名、长相，是男是女。\\n\\n甚至都没人知道他到底是一个人还是一个组织。\\n\\n![以太坊](https://pic3.zhimg.com/v2-3555badef2ab00f590aaf47941f48986\\\\_b.jpg)\\n\\n但他的创造力却是被公认的。（我们姑且认为是“他”吧）\\n\\n早在2021年3月，初出茅庐的 Pak 就被苏富比拍卖行注意到，他的两幅作品《像素》(The Pixel) 、《转变》(The Switch)，分别拍出了136w美元和140w美元。\\n\\n**![以太坊](https://pic3.zhimg.com/v2-f669f77ec0c71a21f4dc7a6965e72a6a_b.jpg)**\\n\\n**这不是一张没有加载出来的图片，这就是《The Pixel》。**\\n\\n2021年9月30日，他开发出了第一款社会实验游戏《失落的诗人》。\\n\\n游戏中，65536个 AI 生成的诗人头像总计卖出了7000万美元。\\n\\n**![以太坊](https://pic3.zhimg.com/v2-9522ed726cf868acab55b984bdd51c96\\\\_b.jpg)**\\n\\n**《Lost Poets》**\\n\\n说回 The Merge。\\n\\n2021年12月4日，Pak 宣布上线了一个神秘的网站——mass.black。\\n\\n![以太坊](https://pic2.zhimg.com/v2-138a36b041178ba0f66de6b32dc505a5\\\\_b.jpg)\\n\\n这个网站目前只有一个首页，而它背后显然隐藏着 Pak 并未透露的 The Merge 更深层的玩法。而从这里看，那场拍卖似乎只是一个更宏大的项目的开端。\\n\\n由此，Pak 逐渐封神，他被称为“NFT 世界里的中本聪”。\\n\\nPak 在推特上有33w粉丝。从某种程度上来说，这些人的关注并不是盲目的，因为正如 Pak 所说**，他想证明 NFT 远远不是一张 jpeg 图片。**\\n\\n**![以太坊](https://pic4.zhimg.com/v2-20093698954d2cdc36911e0ba195e007\\\\_b.jpg)**\\n\\n**这是截止2022年2月，NFT 世界里成交价格最高的10个作品列表。（点击可以看大图）**\\n\\n至少，The Merge 已经证明了，NFT 可以依靠程序、代码和哲学设计，创造出比传统艺术更广阔的可能性，触达到传统艺术无法触及的灵魂点位。\\n\\n在 The Merge 所登陆的 NFT 网站 NiftyGateway 底部，写着这样一句话：\\n\\n> **我们不会停歇，直到有10亿人收藏 NFT。**\\n\\n![以太坊](https://pic2.zhimg.com/v2-3dd2923a03e34781485578843428c821\\\\_b.jpg)\\n\\n**（十）反叛者们**\\n\\n很多人激烈地质疑 NFT 究竟是不是艺术。\\n\\n就像当年，人们质疑安迪·沃霍尔画的罐头是不是艺术一样。\\n\\n质疑者的理由就是：这些作品并不具有传统意义上的“美感”。\\n\\n但是请注意，人类艺术的最高峰，从来不是靠纯粹的“美感”达成，而是靠它们身上所承载的批判性和质疑精神。\\n\\n> 《蒙娜丽莎》之所以璀璨，是因为她用一双属于人类的温柔眼睛，藐视了中世纪的千年黑暗。\\\\\\n> 《星夜》之所以永恒，是因为怒放的枝条直抵苍穹背后，是一个手握画笔，试图凝聚勇气冲破苦难的灵魂。\\n\\n**当艺术开始向权力谄媚，它才不再是艺术。**\\n\\n由此来看，青蛙佩佩们纵然渺小，密码朋克的头像们虽然简陋，但他们却以一种分布式的方式，对时代进行观察，并试着与时代进行互动。\\n\\n不爽的时候，他们也会毫不顾忌地对时代竖起中指——一根分布式的，不可追溯的，被技术保护的中指。\\n\\n![以太坊](https://pic2.zhimg.com/v2-3db1bfa7d03c62001e78c9b7a10cd02d_b.jpg)\\n\\n即便人如蝼蚁，但每个人都有回应时代的冲动，以此证明我们曾热烈或颓败地活过。\\n\\n你讲过的每一个笑话，你发过的每一个表情，都是你生命的呈堂证供。人人都希望自己的生命存证与众不同，就像并排的罐头瓶里最出挑的那个。\\n\\n于是，藉由代码，人们区隔出了一个个小宇宙，在这些宇宙里，梦想以 NFT 的形式标价，任君采撷。\\n\\n至少在自己的小宇宙里，你我都有机会做15分钟的英雄梦。\\n\\n这恐怕是机器如山堆垒、代码如潮奔涌的时代，能馈赠给它的子民们最好的东西。\\n\\n![以太坊](https://pic3.zhimg.com/v2-ff389d939912ca602a8d9bf56d0062ce_b.jpg)\\n\\n\\\\\\n\\n\\n> 本文使用 [文章同步助手](https://zhuanlan.zhihu.com/p/358098152) 同步\\n\",\n",
       "  'timestamp': 1644418679,\n",
       "  'title': '罐头、青蛙和平凡人的15分钟英雄传奇'},\n",
       " 'digest': 'nRf8Tgm8XJIOPxKW3BBl0sJzeZkNkQangpoOovvaCT8',\n",
       " 'authorship': {'contributor': '0xc33111B8620366CCCA9A7fd4e4d53682fBb33E7C',\n",
       "  'signingKey': '{\"crv\":\"P-256\",\"ext\":true,\"key_ops\":[\"verify\"],\"kty\":\"EC\",\"x\":\"EsFta7ZugPx_jkt_eT4Eq6AV8QHJe6iiBO7n94xp_-c\",\"y\":\"M9oPrhrtrS7OedUDzREI9E1nbvokVb3JE4FRTwmjAF8\"}',\n",
       "  'signature': 'E5V3UXIcheXd7eMz8pETUjgnGh9V8gR38M9_9-Vqp1VFoIaKul2kxbA0Vn5NlIjHpjAubL9GDW3LVrJM_SEBBA',\n",
       "  'signingKeySignature': '0x03a2179803a0e1809e4ee10e5a2a460bad4f8c84d71535970565396d988831df5a83cf3a79bc5344dad301a6d297a8adda0dcc6dfcc9a70a02155b6592bd8bab1b',\n",
       "  'signingKeyMessage': 'I authorize publishing on mirror.xyz from this device using:\\n{\"crv\":\"P-256\",\"ext\":true,\"key_ops\":[\"verify\"],\"kty\":\"EC\",\"x\":\"EsFta7ZugPx_jkt_eT4Eq6AV8QHJe6iiBO7n94xp_-c\",\"y\":\"M9oPrhrtrS7OedUDzREI9E1nbvokVb3JE4FRTwmjAF8\"}',\n",
       "  'algorithm': {'name': 'ECDSA', 'hash': 'SHA-256'}},\n",
       " 'nft': {},\n",
       " 'version': '12-21-2020',\n",
       " 'originalDigest': 'nRf8Tgm8XJIOPxKW3BBl0sJzeZkNkQangpoOovvaCT8'}"
      ]
     },
     "execution_count": 36,
     "metadata": {},
     "output_type": "execute_result"
    }
   ],
   "source": [
    "data"
   ]
  },
  {
   "cell_type": "code",
   "execution_count": null,
   "id": "3fd09b7c-4290-4fd7-bed9-1e2c5505d754",
   "metadata": {},
   "outputs": [],
   "source": []
  },
  {
   "cell_type": "code",
   "execution_count": null,
   "id": "95b62d38-d04f-4a92-8f1f-ee8cc579aaee",
   "metadata": {},
   "outputs": [],
   "source": []
  },
  {
   "cell_type": "code",
   "execution_count": 30,
   "id": "3fb2d5d0-4a83-4ac6-97bc-fcf9980893b8",
   "metadata": {},
   "outputs": [
    {
     "data": {
      "text/plain": [
       "'12-21-2020'"
      ]
     },
     "execution_count": 30,
     "metadata": {},
     "output_type": "execute_result"
    }
   ],
   "source": [
    "data['version']"
   ]
  },
  {
   "cell_type": "code",
   "execution_count": 37,
   "id": "54ffec68-c0f3-4728-af26-171ffb89627c",
   "metadata": {},
   "outputs": [
    {
     "data": {
      "text/plain": [
       "Timestamp('2022-02-09 14:57:59')"
      ]
     },
     "execution_count": 37,
     "metadata": {},
     "output_type": "execute_result"
    }
   ],
   "source": [
    "pd.to_datetime(data['content']['timestamp'], unit=\"s\")"
   ]
  },
  {
   "cell_type": "code",
   "execution_count": null,
   "id": "840714b4-cb9c-463b-abdb-ae61f21fa512",
   "metadata": {},
   "outputs": [],
   "source": []
  }
 ],
 "metadata": {
  "kernelspec": {
   "display_name": "Python 3 (ipykernel)",
   "language": "python",
   "name": "python3"
  },
  "language_info": {
   "codemirror_mode": {
    "name": "ipython",
    "version": 3
   },
   "file_extension": ".py",
   "mimetype": "text/x-python",
   "name": "python",
   "nbconvert_exporter": "python",
   "pygments_lexer": "ipython3",
   "version": "3.8.9"
  }
 },
 "nbformat": 4,
 "nbformat_minor": 5
}
