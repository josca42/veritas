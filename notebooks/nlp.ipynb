{
 "cells": [
  {
   "cell_type": "code",
   "execution_count": 5,
   "id": "a44f188d-d6f1-4f38-afea-61c942794c04",
   "metadata": {},
   "outputs": [],
   "source": [
    "#from flair.data import Sentence\n",
    "#from flair.models import SequenceTagger"
   ]
  },
  {
   "cell_type": "code",
   "execution_count": null,
   "id": "56f1fc93-e003-43cc-9c11-bb3c5e854284",
   "metadata": {},
   "outputs": [],
   "source": []
  },
  {
   "cell_type": "code",
   "execution_count": null,
   "id": "787748be-f4e3-423b-978c-335412fc655a",
   "metadata": {},
   "outputs": [],
   "source": [
    "tagger = SequenceTagger.load(\"flair/ner-english\")"
   ]
  },
  {
   "cell_type": "code",
   "execution_count": 66,
   "id": "d9a935fe-1d64-4e13-8730-0d33e6494653",
   "metadata": {},
   "outputs": [
    {
     "data": {
      "application/vnd.jupyter.widget-view+json": {
       "model_id": "591e98cc1a2d436cbfbe10ee9efc1415",
       "version_major": 2,
       "version_minor": 0
      },
      "text/plain": [
       "Downloading:   0%|          | 0.00/432M [00:00<?, ?B/s]"
      ]
     },
     "metadata": {},
     "output_type": "display_data"
    },
    {
     "name": "stdout",
     "output_type": "stream",
     "text": [
      "2022-02-13 12:30:06,066 loading file /Users/josca/.flair/models/ner-english/4f4cdab26f24cb98b732b389e6cebc646c36f54cfd6e0b7d3b90b25656e4262f.8baa8ae8795f4df80b28e7f7b61d788ecbb057d1dc85aacb316f1bd02837a4a4\n"
     ]
    }
   ],
   "source": [
    "# load tagger\n",
    "tagger = SequenceTagger.load(\"flair/ner-english\")"
   ]
  },
  {
   "cell_type": "code",
   "execution_count": null,
   "id": "9a8c2ec0-6a8f-4df0-ac84-5f735df96809",
   "metadata": {},
   "outputs": [],
   "source": []
  },
  {
   "cell_type": "code",
   "execution_count": null,
   "id": "3a019396-1264-40b4-a7ee-d2de12a90fa7",
   "metadata": {},
   "outputs": [],
   "source": [
    "from sentence_transformers import SentenceTransformer\n",
    "sentences = [\"This is an example sentence\", \"Each sentence is converted\"]\n",
    "\n",
    "model = SentenceTransformer('sentence-transformers/allenai-specter')\n",
    "embeddings = model.encode(sentences)"
   ]
  },
  {
   "cell_type": "code",
   "execution_count": 95,
   "id": "95738419-b60d-4a68-b401-72c17716ffe8",
   "metadata": {},
   "outputs": [
    {
     "data": {
      "text/plain": [
       "(2, 768)"
      ]
     },
     "execution_count": 95,
     "metadata": {},
     "output_type": "execute_result"
    }
   ],
   "source": [
    "embeddings.shape"
   ]
  },
  {
   "cell_type": "code",
   "execution_count": null,
   "id": "74c79996-8da4-4654-ac59-5495a0b4e9b9",
   "metadata": {},
   "outputs": [],
   "source": [
    "sentences = [\"This is an example sentence\", \"Each sentence is converted\"]"
   ]
  },
  {
   "cell_type": "code",
   "execution_count": null,
   "id": "c578e222-4916-4970-a8bb-f8cb66904d73",
   "metadata": {},
   "outputs": [],
   "source": [
    "embeddings = model.encode(sentences)"
   ]
  },
  {
   "cell_type": "code",
   "execution_count": 97,
   "id": "6d336497-e677-474f-9681-6116edb919ab",
   "metadata": {},
   "outputs": [],
   "source": [
    "embeddings = model.encode(text)"
   ]
  },
  {
   "cell_type": "code",
   "execution_count": 100,
   "id": "2fa1c77e-98f7-4b94-9d6d-c04aaac9c9e0",
   "metadata": {},
   "outputs": [],
   "source": [
    "# embeddings.shape"
   ]
  },
  {
   "cell_type": "code",
   "execution_count": 3,
   "id": "9fbd0bc7-b923-4dd0-9735-b37be3fe6842",
   "metadata": {},
   "outputs": [
    {
     "data": {
      "text/plain": [
       "18846"
      ]
     },
     "execution_count": 3,
     "metadata": {},
     "output_type": "execute_result"
    }
   ],
   "source": [
    "len(docs)"
   ]
  },
  {
   "cell_type": "code",
   "execution_count": 61,
   "id": "c0477be7-ac5a-44ad-bf01-c960304a82ce",
   "metadata": {},
   "outputs": [],
   "source": [
    "#docs[1]"
   ]
  },
  {
   "cell_type": "code",
   "execution_count": 71,
   "id": "07d653e9-9e6c-497c-9204-97a87ec350af",
   "metadata": {},
   "outputs": [],
   "source": [
    "from bertopic import BERTopic\n",
    "from sklearn.datasets import fetch_20newsgroups\n",
    "\n",
    "#docs = fetch_20newsgroups(subset='all',  remove=('headers', 'footers', 'quotes'))['data']\n",
    "\n",
    "topic_model = BERTopic()\n",
    "#topics, probs = topic_model.fit_transform(texts)"
   ]
  },
  {
   "cell_type": "code",
   "execution_count": 67,
   "id": "56ec0af2-e501-46dc-a464-f5cc8650d94f",
   "metadata": {},
   "outputs": [],
   "source": [
    "texts = [text2[1:-1], text]"
   ]
  },
  {
   "cell_type": "code",
   "execution_count": 69,
   "id": "dffd4367-055a-44d4-9466-6580c1c5c45a",
   "metadata": {},
   "outputs": [
    {
     "data": {
      "text/plain": [
       "'https://twitter.com/AoC_NFT/status/1490336536101105668](https://twitter.com/AoC_NFT/status/1490336536101105668)\\n\\nI took inspiration from [@thedefiedge](https://twitter.com/thedefiedge)\\n\\n sharing amazing content on [#DeFi](https://twitter.com/hashtag/DeFi?src=hashtag_click) tools and decided to do the same for the NFT space. Therefore, below there\\'s a collection of the best FREE tools in [#NFT](https://twitter.com/hashtag/NFT?src=hashtag_click)\\n\\n1\\\\. GENERAL MARKET DATA  [@DuneAnalytics](https://twitter.com/DuneAnalytics)\\n\\n - very helpful to see charts on [#Ethereum](https://twitter.com/hashtag/Ethereum?src=hashtag_click) NFT market, with charts showing daily, monthly volumes as well as active traders.\\n\\n![](https://images.mirror-media.xyz/publication-images/HFmmnDZ6dvVc1YoOSGW-O.png?height=798&width=1875)\\n\\n1\\\\. GENERAL MARKET DATA Though, you might as well wanto to have a cross-chain view of how the NFT market is going, therefore I recommend using \\n\\n[@cryptoslamio](https://twitter.com/cryptoslamio)\\n\\n. Very useful feature is the comparison of NFT market on every chain, this helps having a big picture view of the market\\n\\n![](https://images.mirror-media.xyz/publication-images/GNyHQQR5QwA7RukTFgIR8.jfif?height=584&width=919)\\n\\n2\\\\. UPCOMING DROPS Pound 4 pound,  [@Twitter](https://twitter.com/Twitter)\\n\\n is defintely the best space to monitor upcoming drops, community growth, etc. You might create your curated list of accounts to follow in order to have the right exposure to the environment. (Check comments I\\'ll post a list later on)\\n\\n2\\\\. UPCOMING DROPS I know, you don\\'t have time for monitor  [@Twitter](https://twitter.com/Twitter)\\n\\n and get lost very easily among all those [#shill](https://twitter.com/hashtag/shill?src=hashtag_click). A great tool is  [@NFTScoring](https://twitter.com/NFTScoring)\\n\\n, personally love it cause it also shows social media metrics, and we all know [#NFTs](https://twitter.com/hashtag/NFTs?src=hashtag_click) are about [#CommunityEngagement](https://twitter.com/hashtag/CommunityEngagement?src=hashtag_click)\\n\\n![](https://images.mirror-media.xyz/publication-images/jqMpW6v20ATrJ1PkfewWl.jfif?height=726&width=1866)\\n\\n2\\\\. UPCOMING DROPS Other very useful tools which are more known are: -[@icy_tools](https://twitter.com/icy_tools) ; [@NFTMintAlerts](https://twitter.com/NFTMintAlerts) -[@raritytools](https://twitter.com/raritytools) -[@RaritySniperNFT](https://twitter.com/RaritySniperNFT)\\n\\n 2. UPCOMING DROPS - Mint scanner Even though those tools are amazing, they naturally gonna miss something, therefore mint scanners scan the Blockchain for mints, organize by volume and then give you alerts. One free mint scanner I use is:\\n\\n[https://whatsminting.live/](https://whatsminting.live/)\\n\\n[whatsminting.live](https://t.co/ovcgvaUn6N) also have a discord, head over there and enter the [#lastminute](https://twitter.com/hashtag/lastminute?src=hashtag_click) channel, you will get all the latest relevant mints without having to stay on their website or enable notifications\\n\\n3\\\\. WALLET SCANNER Another tool that helps a lot is a wallet scanner. Indeed, certain influencers will get information before the general public, but, if you follow their wallet you\\'ll get to see what are they minting and get in ahead of the majority of investors.\\n\\n3\\\\. WALLET SCANNER OC influencers minting something is not a good reason for you to ape in as well, but, while doing your researches, seeing if top collectors are minting would be very useful. Best free option: \\n\\n[@icy_tools](https://twitter.com/icy_tools)\\n\\n. >alerts> new alert> drop wallet address\\n\\n![](https://images.mirror-media.xyz/publication-images/TnTOe7Y22OJeWMMd5BtEC.jfif?height=702&width=1882)\\n\\n \\n 4. FLOOR TRACKER The most important metrics you should be eyeing is collection floor, volume and # of holders. [http://flips.finance](https://t.co/DFZQE0YoU4) does a great job giving free data and charts of almonst every collection. One very cool feature is chart of number of holders\\n\\n![](https://images.mirror-media.xyz/publication-images/etcTGLMbrHyXjS775BI-9.jfif?height=897&width=1569)\\n\\n5\\\\. SNIPING TOOLS Probably the most exciting ones. First one I use is [http://sunspot.gg](https://t.co/pz3jOsZx71). Only does 1 thing but does it very well: \"sunspot alerts you in real-time when ethereum nfts are listed and sold on \\n\\n[@opensea](https://twitter.com/opensea)\\n\\n 5. SNIPING TOOLS - sunspot Periodically people list NFT way below the floor, either cause they want out, they do by mistake or simply do not pay attention at trait floor (!). Indeed, NFTs do have different floors depending also on traits, example below acquamarine background\\n\\n### \\n\\n![](https://images.mirror-media.xyz/publication-images/rfiznKBx5tLWMf5xZO0RR.jfif?height=745&width=1590)\\n\\n5\\\\. SNIPING TOOLS To create an alert, simply head over to [http://sunspot.gg/alerts](https://t.co/d98IEOocVY), select the collection, the floor price below you want to get a notification (and even trait floor price), create alert.\\n\\n![](https://images.mirror-media.xyz/publication-images/Xz92lCY1hGz8EV12sbTa0.png?height=937&width=1912)\\n\\n5\\\\. SNIPING TOOLS Once anyone list a NFT under the alert price, you will get a desktop notification and by clicking on it you\\'ll be redirected to the \\n\\n[@opensea](https://twitter.com/opensea)\\n\\n page of the specific NFT and be able to buy it instantly before anyone else. ALL FOR FREE\\n\\nSNIPING TOOLS - Bonus According to developers, through a smart contract this tool will have a directly \"BUY\" function, thus allowing you to directly buy under a certain floor. Basically creating a limit order for NFTs (how crazy is that?)\\n\\n5\\\\. SNIPING TOOLS The last one is \\n\\n[@RaritySniperNFT](https://twitter.com/RaritySniperNFT)\\n\\n , which use case is to find a mispriced NFT compared to its rarity. It allows you to read metadata of NFTs that still need to be revealed before \\n\\n[@opensea](https://twitter.com/opensea)\\n\\n actually shows it. It is mean I know, but at least now you know to'"
      ]
     },
     "execution_count": 69,
     "metadata": {},
     "output_type": "execute_result"
    }
   ],
   "source": [
    "texts[0]"
   ]
  },
  {
   "cell_type": "code",
   "execution_count": null,
   "id": "920da91f-23c5-4b79-9353-c94634dbe72a",
   "metadata": {},
   "outputs": [],
   "source": []
  },
  {
   "cell_type": "code",
   "execution_count": null,
   "id": "2516f69b-5bbf-4816-8ce8-67ef12cc847f",
   "metadata": {},
   "outputs": [],
   "source": []
  },
  {
   "cell_type": "code",
   "execution_count": 54,
   "id": "89b7c635-7cc2-4fe6-9ae3-c3927f90f273",
   "metadata": {},
   "outputs": [
    {
     "name": "stdout",
     "output_type": "stream",
     "text": [
      "Ignored unknown kwarg option direction\n"
     ]
    },
    {
     "ename": "ValueError",
     "evalue": "zero-size array to reduction operation maximum which has no identity",
     "output_type": "error",
     "traceback": [
      "\u001b[0;31m---------------------------------------------------------------------------\u001b[0m",
      "\u001b[0;31mValueError\u001b[0m                                Traceback (most recent call last)",
      "Input \u001b[0;32mIn [54]\u001b[0m, in \u001b[0;36m<module>\u001b[0;34m\u001b[0m\n\u001b[0;32m----> 1\u001b[0m topics, probs \u001b[38;5;241m=\u001b[39m \u001b[43mtopic_model\u001b[49m\u001b[38;5;241;43m.\u001b[39;49m\u001b[43mfit_transform\u001b[49m\u001b[43m(\u001b[49m\u001b[43m[\u001b[49m\u001b[43mtext2\u001b[49m\u001b[43m,\u001b[49m\u001b[43m \u001b[49m\u001b[43mtext\u001b[49m\u001b[43m]\u001b[49m\u001b[43m)\u001b[49m\n",
      "File \u001b[0;32m/opt/homebrew/Caskroom/miniforge/base/lib/python3.9/site-packages/bertopic/_bertopic.py:298\u001b[0m, in \u001b[0;36mBERTopic.fit_transform\u001b[0;34m(self, documents, embeddings, y)\u001b[0m\n\u001b[1;32m    296\u001b[0m \u001b[38;5;28;01mif\u001b[39;00m \u001b[38;5;28mself\u001b[39m\u001b[38;5;241m.\u001b[39mseed_topic_list \u001b[38;5;129;01mis\u001b[39;00m \u001b[38;5;129;01mnot\u001b[39;00m \u001b[38;5;28;01mNone\u001b[39;00m \u001b[38;5;129;01mand\u001b[39;00m \u001b[38;5;28mself\u001b[39m\u001b[38;5;241m.\u001b[39membedding_model \u001b[38;5;129;01mis\u001b[39;00m \u001b[38;5;129;01mnot\u001b[39;00m \u001b[38;5;28;01mNone\u001b[39;00m:\n\u001b[1;32m    297\u001b[0m     y, embeddings \u001b[38;5;241m=\u001b[39m \u001b[38;5;28mself\u001b[39m\u001b[38;5;241m.\u001b[39m_guided_topic_modeling(embeddings)\n\u001b[0;32m--> 298\u001b[0m umap_embeddings \u001b[38;5;241m=\u001b[39m \u001b[38;5;28;43mself\u001b[39;49m\u001b[38;5;241;43m.\u001b[39;49m\u001b[43m_reduce_dimensionality\u001b[49m\u001b[43m(\u001b[49m\u001b[43membeddings\u001b[49m\u001b[43m,\u001b[49m\u001b[43m \u001b[49m\u001b[43my\u001b[49m\u001b[43m)\u001b[49m\n\u001b[1;32m    300\u001b[0m \u001b[38;5;66;03m# Cluster UMAP embeddings with HDBSCAN\u001b[39;00m\n\u001b[1;32m    301\u001b[0m documents, probabilities \u001b[38;5;241m=\u001b[39m \u001b[38;5;28mself\u001b[39m\u001b[38;5;241m.\u001b[39m_cluster_embeddings(umap_embeddings, documents)\n",
      "File \u001b[0;32m/opt/homebrew/Caskroom/miniforge/base/lib/python3.9/site-packages/bertopic/_bertopic.py:1377\u001b[0m, in \u001b[0;36mBERTopic._reduce_dimensionality\u001b[0;34m(self, embeddings, y)\u001b[0m\n\u001b[1;32m   1372\u001b[0m     \u001b[38;5;28mself\u001b[39m\u001b[38;5;241m.\u001b[39mumap_model \u001b[38;5;241m=\u001b[39m UMAP(n_neighbors\u001b[38;5;241m=\u001b[39m\u001b[38;5;241m15\u001b[39m,\n\u001b[1;32m   1373\u001b[0m                            n_components\u001b[38;5;241m=\u001b[39m\u001b[38;5;241m5\u001b[39m,\n\u001b[1;32m   1374\u001b[0m                            metric\u001b[38;5;241m=\u001b[39m\u001b[38;5;124m'\u001b[39m\u001b[38;5;124mhellinger\u001b[39m\u001b[38;5;124m'\u001b[39m,\n\u001b[1;32m   1375\u001b[0m                            low_memory\u001b[38;5;241m=\u001b[39m\u001b[38;5;28mself\u001b[39m\u001b[38;5;241m.\u001b[39mlow_memory)\u001b[38;5;241m.\u001b[39mfit(embeddings, y\u001b[38;5;241m=\u001b[39my)\n\u001b[1;32m   1376\u001b[0m \u001b[38;5;28;01melse\u001b[39;00m:\n\u001b[0;32m-> 1377\u001b[0m     \u001b[38;5;28;43mself\u001b[39;49m\u001b[38;5;241;43m.\u001b[39;49m\u001b[43mumap_model\u001b[49m\u001b[38;5;241;43m.\u001b[39;49m\u001b[43mfit\u001b[49m\u001b[43m(\u001b[49m\u001b[43membeddings\u001b[49m\u001b[43m,\u001b[49m\u001b[43m \u001b[49m\u001b[43my\u001b[49m\u001b[38;5;241;43m=\u001b[39;49m\u001b[43my\u001b[49m\u001b[43m)\u001b[49m\n\u001b[1;32m   1378\u001b[0m umap_embeddings \u001b[38;5;241m=\u001b[39m \u001b[38;5;28mself\u001b[39m\u001b[38;5;241m.\u001b[39mumap_model\u001b[38;5;241m.\u001b[39mtransform(embeddings)\n\u001b[1;32m   1379\u001b[0m logger\u001b[38;5;241m.\u001b[39minfo(\u001b[38;5;124m\"\u001b[39m\u001b[38;5;124mReduced dimensionality with UMAP\u001b[39m\u001b[38;5;124m\"\u001b[39m)\n",
      "File \u001b[0;32m/opt/homebrew/Caskroom/miniforge/base/lib/python3.9/site-packages/umap/umap_.py:2684\u001b[0m, in \u001b[0;36mUMAP.fit\u001b[0;34m(self, X, y)\u001b[0m\n\u001b[1;32m   2681\u001b[0m     \u001b[38;5;28mprint\u001b[39m(ts(), \u001b[38;5;124m\"\u001b[39m\u001b[38;5;124mConstruct embedding\u001b[39m\u001b[38;5;124m\"\u001b[39m)\n\u001b[1;32m   2683\u001b[0m \u001b[38;5;28;01mif\u001b[39;00m \u001b[38;5;28mself\u001b[39m\u001b[38;5;241m.\u001b[39mtransform_mode \u001b[38;5;241m==\u001b[39m \u001b[38;5;124m\"\u001b[39m\u001b[38;5;124membedding\u001b[39m\u001b[38;5;124m\"\u001b[39m:\n\u001b[0;32m-> 2684\u001b[0m     \u001b[38;5;28mself\u001b[39m\u001b[38;5;241m.\u001b[39membedding_, aux_data \u001b[38;5;241m=\u001b[39m \u001b[38;5;28;43mself\u001b[39;49m\u001b[38;5;241;43m.\u001b[39;49m\u001b[43m_fit_embed_data\u001b[49m\u001b[43m(\u001b[49m\n\u001b[1;32m   2685\u001b[0m \u001b[43m        \u001b[49m\u001b[38;5;28;43mself\u001b[39;49m\u001b[38;5;241;43m.\u001b[39;49m\u001b[43m_raw_data\u001b[49m\u001b[43m[\u001b[49m\u001b[43mindex\u001b[49m\u001b[43m]\u001b[49m\u001b[43m,\u001b[49m\n\u001b[1;32m   2686\u001b[0m \u001b[43m        \u001b[49m\u001b[38;5;28;43mself\u001b[39;49m\u001b[38;5;241;43m.\u001b[39;49m\u001b[43mn_epochs\u001b[49m\u001b[43m,\u001b[49m\n\u001b[1;32m   2687\u001b[0m \u001b[43m        \u001b[49m\u001b[43minit\u001b[49m\u001b[43m,\u001b[49m\n\u001b[1;32m   2688\u001b[0m \u001b[43m        \u001b[49m\u001b[43mrandom_state\u001b[49m\u001b[43m,\u001b[49m\u001b[43m  \u001b[49m\u001b[38;5;66;43;03m# JH why raw data?\u001b[39;49;00m\n\u001b[1;32m   2689\u001b[0m \u001b[43m    \u001b[49m\u001b[43m)\u001b[49m\n\u001b[1;32m   2690\u001b[0m     \u001b[38;5;66;03m# Assign any points that are fully disconnected from our manifold(s) to have embedding\u001b[39;00m\n\u001b[1;32m   2691\u001b[0m     \u001b[38;5;66;03m# coordinates of np.nan.  These will be filtered by our plotting functions automatically.\u001b[39;00m\n\u001b[1;32m   2692\u001b[0m     \u001b[38;5;66;03m# They also prevent users from being deceived a distance query to one of these points.\u001b[39;00m\n\u001b[1;32m   2693\u001b[0m     \u001b[38;5;66;03m# Might be worth moving this into simplicial_set_embedding or _fit_embed_data\u001b[39;00m\n\u001b[1;32m   2694\u001b[0m     disconnected_vertices \u001b[38;5;241m=\u001b[39m np\u001b[38;5;241m.\u001b[39marray(\u001b[38;5;28mself\u001b[39m\u001b[38;5;241m.\u001b[39mgraph_\u001b[38;5;241m.\u001b[39msum(axis\u001b[38;5;241m=\u001b[39m\u001b[38;5;241m1\u001b[39m))\u001b[38;5;241m.\u001b[39mflatten() \u001b[38;5;241m==\u001b[39m \u001b[38;5;241m0\u001b[39m\n",
      "File \u001b[0;32m/opt/homebrew/Caskroom/miniforge/base/lib/python3.9/site-packages/umap/umap_.py:2717\u001b[0m, in \u001b[0;36mUMAP._fit_embed_data\u001b[0;34m(self, X, n_epochs, init, random_state)\u001b[0m\n\u001b[1;32m   2713\u001b[0m \u001b[38;5;28;01mdef\u001b[39;00m \u001b[38;5;21m_fit_embed_data\u001b[39m(\u001b[38;5;28mself\u001b[39m, X, n_epochs, init, random_state):\n\u001b[1;32m   2714\u001b[0m     \u001b[38;5;124;03m\"\"\"A method wrapper for simplicial_set_embedding that can be\u001b[39;00m\n\u001b[1;32m   2715\u001b[0m \u001b[38;5;124;03m    replaced by subclasses.\u001b[39;00m\n\u001b[1;32m   2716\u001b[0m \u001b[38;5;124;03m    \"\"\"\u001b[39;00m\n\u001b[0;32m-> 2717\u001b[0m     \u001b[38;5;28;01mreturn\u001b[39;00m \u001b[43msimplicial_set_embedding\u001b[49m\u001b[43m(\u001b[49m\n\u001b[1;32m   2718\u001b[0m \u001b[43m        \u001b[49m\u001b[43mX\u001b[49m\u001b[43m,\u001b[49m\n\u001b[1;32m   2719\u001b[0m \u001b[43m        \u001b[49m\u001b[38;5;28;43mself\u001b[39;49m\u001b[38;5;241;43m.\u001b[39;49m\u001b[43mgraph_\u001b[49m\u001b[43m,\u001b[49m\n\u001b[1;32m   2720\u001b[0m \u001b[43m        \u001b[49m\u001b[38;5;28;43mself\u001b[39;49m\u001b[38;5;241;43m.\u001b[39;49m\u001b[43mn_components\u001b[49m\u001b[43m,\u001b[49m\n\u001b[1;32m   2721\u001b[0m \u001b[43m        \u001b[49m\u001b[38;5;28;43mself\u001b[39;49m\u001b[38;5;241;43m.\u001b[39;49m\u001b[43m_initial_alpha\u001b[49m\u001b[43m,\u001b[49m\n\u001b[1;32m   2722\u001b[0m \u001b[43m        \u001b[49m\u001b[38;5;28;43mself\u001b[39;49m\u001b[38;5;241;43m.\u001b[39;49m\u001b[43m_a\u001b[49m\u001b[43m,\u001b[49m\n\u001b[1;32m   2723\u001b[0m \u001b[43m        \u001b[49m\u001b[38;5;28;43mself\u001b[39;49m\u001b[38;5;241;43m.\u001b[39;49m\u001b[43m_b\u001b[49m\u001b[43m,\u001b[49m\n\u001b[1;32m   2724\u001b[0m \u001b[43m        \u001b[49m\u001b[38;5;28;43mself\u001b[39;49m\u001b[38;5;241;43m.\u001b[39;49m\u001b[43mrepulsion_strength\u001b[49m\u001b[43m,\u001b[49m\n\u001b[1;32m   2725\u001b[0m \u001b[43m        \u001b[49m\u001b[38;5;28;43mself\u001b[39;49m\u001b[38;5;241;43m.\u001b[39;49m\u001b[43mnegative_sample_rate\u001b[49m\u001b[43m,\u001b[49m\n\u001b[1;32m   2726\u001b[0m \u001b[43m        \u001b[49m\u001b[43mn_epochs\u001b[49m\u001b[43m,\u001b[49m\n\u001b[1;32m   2727\u001b[0m \u001b[43m        \u001b[49m\u001b[43minit\u001b[49m\u001b[43m,\u001b[49m\n\u001b[1;32m   2728\u001b[0m \u001b[43m        \u001b[49m\u001b[43mrandom_state\u001b[49m\u001b[43m,\u001b[49m\n\u001b[1;32m   2729\u001b[0m \u001b[43m        \u001b[49m\u001b[38;5;28;43mself\u001b[39;49m\u001b[38;5;241;43m.\u001b[39;49m\u001b[43m_input_distance_func\u001b[49m\u001b[43m,\u001b[49m\n\u001b[1;32m   2730\u001b[0m \u001b[43m        \u001b[49m\u001b[38;5;28;43mself\u001b[39;49m\u001b[38;5;241;43m.\u001b[39;49m\u001b[43m_metric_kwds\u001b[49m\u001b[43m,\u001b[49m\n\u001b[1;32m   2731\u001b[0m \u001b[43m        \u001b[49m\u001b[38;5;28;43mself\u001b[39;49m\u001b[38;5;241;43m.\u001b[39;49m\u001b[43mdensmap\u001b[49m\u001b[43m,\u001b[49m\n\u001b[1;32m   2732\u001b[0m \u001b[43m        \u001b[49m\u001b[38;5;28;43mself\u001b[39;49m\u001b[38;5;241;43m.\u001b[39;49m\u001b[43m_densmap_kwds\u001b[49m\u001b[43m,\u001b[49m\n\u001b[1;32m   2733\u001b[0m \u001b[43m        \u001b[49m\u001b[38;5;28;43mself\u001b[39;49m\u001b[38;5;241;43m.\u001b[39;49m\u001b[43moutput_dens\u001b[49m\u001b[43m,\u001b[49m\n\u001b[1;32m   2734\u001b[0m \u001b[43m        \u001b[49m\u001b[38;5;28;43mself\u001b[39;49m\u001b[38;5;241;43m.\u001b[39;49m\u001b[43m_output_distance_func\u001b[49m\u001b[43m,\u001b[49m\n\u001b[1;32m   2735\u001b[0m \u001b[43m        \u001b[49m\u001b[38;5;28;43mself\u001b[39;49m\u001b[38;5;241;43m.\u001b[39;49m\u001b[43m_output_metric_kwds\u001b[49m\u001b[43m,\u001b[49m\n\u001b[1;32m   2736\u001b[0m \u001b[43m        \u001b[49m\u001b[38;5;28;43mself\u001b[39;49m\u001b[38;5;241;43m.\u001b[39;49m\u001b[43moutput_metric\u001b[49m\u001b[43m \u001b[49m\u001b[38;5;129;43;01min\u001b[39;49;00m\u001b[43m \u001b[49m\u001b[43m(\u001b[49m\u001b[38;5;124;43m\"\u001b[39;49m\u001b[38;5;124;43meuclidean\u001b[39;49m\u001b[38;5;124;43m\"\u001b[39;49m\u001b[43m,\u001b[49m\u001b[43m \u001b[49m\u001b[38;5;124;43m\"\u001b[39;49m\u001b[38;5;124;43ml2\u001b[39;49m\u001b[38;5;124;43m\"\u001b[39;49m\u001b[43m)\u001b[49m\u001b[43m,\u001b[49m\n\u001b[1;32m   2737\u001b[0m \u001b[43m        \u001b[49m\u001b[38;5;28;43mself\u001b[39;49m\u001b[38;5;241;43m.\u001b[39;49m\u001b[43mrandom_state\u001b[49m\u001b[43m \u001b[49m\u001b[38;5;129;43;01mis\u001b[39;49;00m\u001b[43m \u001b[49m\u001b[38;5;28;43;01mNone\u001b[39;49;00m\u001b[43m,\u001b[49m\n\u001b[1;32m   2738\u001b[0m \u001b[43m        \u001b[49m\u001b[38;5;28;43mself\u001b[39;49m\u001b[38;5;241;43m.\u001b[39;49m\u001b[43mverbose\u001b[49m\u001b[43m,\u001b[49m\n\u001b[1;32m   2739\u001b[0m \u001b[43m        \u001b[49m\u001b[43mtqdm_kwds\u001b[49m\u001b[38;5;241;43m=\u001b[39;49m\u001b[38;5;28;43mself\u001b[39;49m\u001b[38;5;241;43m.\u001b[39;49m\u001b[43mtqdm_kwds\u001b[49m\u001b[43m,\u001b[49m\n\u001b[1;32m   2740\u001b[0m \u001b[43m    \u001b[49m\u001b[43m)\u001b[49m\n",
      "File \u001b[0;32m/opt/homebrew/Caskroom/miniforge/base/lib/python3.9/site-packages/umap/umap_.py:1066\u001b[0m, in \u001b[0;36msimplicial_set_embedding\u001b[0;34m(data, graph, n_components, initial_alpha, a, b, gamma, negative_sample_rate, n_epochs, init, random_state, metric, metric_kwds, densmap, densmap_kwds, output_dens, output_metric, output_metric_kwds, euclidean_output, parallel, verbose, tqdm_kwds)\u001b[0m\n\u001b[1;32m   1063\u001b[0m     n_epochs \u001b[38;5;241m=\u001b[39m default_epochs\n\u001b[1;32m   1065\u001b[0m \u001b[38;5;28;01mif\u001b[39;00m n_epochs \u001b[38;5;241m>\u001b[39m \u001b[38;5;241m10\u001b[39m:\n\u001b[0;32m-> 1066\u001b[0m     graph\u001b[38;5;241m.\u001b[39mdata[graph\u001b[38;5;241m.\u001b[39mdata \u001b[38;5;241m<\u001b[39m (\u001b[43mgraph\u001b[49m\u001b[38;5;241;43m.\u001b[39;49m\u001b[43mdata\u001b[49m\u001b[38;5;241;43m.\u001b[39;49m\u001b[43mmax\u001b[49m\u001b[43m(\u001b[49m\u001b[43m)\u001b[49m \u001b[38;5;241m/\u001b[39m \u001b[38;5;28mfloat\u001b[39m(n_epochs))] \u001b[38;5;241m=\u001b[39m \u001b[38;5;241m0.0\u001b[39m\n\u001b[1;32m   1067\u001b[0m \u001b[38;5;28;01melse\u001b[39;00m:\n\u001b[1;32m   1068\u001b[0m     graph\u001b[38;5;241m.\u001b[39mdata[graph\u001b[38;5;241m.\u001b[39mdata \u001b[38;5;241m<\u001b[39m (graph\u001b[38;5;241m.\u001b[39mdata\u001b[38;5;241m.\u001b[39mmax() \u001b[38;5;241m/\u001b[39m \u001b[38;5;28mfloat\u001b[39m(default_epochs))] \u001b[38;5;241m=\u001b[39m \u001b[38;5;241m0.0\u001b[39m\n",
      "File \u001b[0;32m/opt/homebrew/Caskroom/miniforge/base/lib/python3.9/site-packages/numpy/core/_methods.py:40\u001b[0m, in \u001b[0;36m_amax\u001b[0;34m(a, axis, out, keepdims, initial, where)\u001b[0m\n\u001b[1;32m     38\u001b[0m \u001b[38;5;28;01mdef\u001b[39;00m \u001b[38;5;21m_amax\u001b[39m(a, axis\u001b[38;5;241m=\u001b[39m\u001b[38;5;28;01mNone\u001b[39;00m, out\u001b[38;5;241m=\u001b[39m\u001b[38;5;28;01mNone\u001b[39;00m, keepdims\u001b[38;5;241m=\u001b[39m\u001b[38;5;28;01mFalse\u001b[39;00m,\n\u001b[1;32m     39\u001b[0m           initial\u001b[38;5;241m=\u001b[39m_NoValue, where\u001b[38;5;241m=\u001b[39m\u001b[38;5;28;01mTrue\u001b[39;00m):\n\u001b[0;32m---> 40\u001b[0m     \u001b[38;5;28;01mreturn\u001b[39;00m \u001b[43mumr_maximum\u001b[49m\u001b[43m(\u001b[49m\u001b[43ma\u001b[49m\u001b[43m,\u001b[49m\u001b[43m \u001b[49m\u001b[43maxis\u001b[49m\u001b[43m,\u001b[49m\u001b[43m \u001b[49m\u001b[38;5;28;43;01mNone\u001b[39;49;00m\u001b[43m,\u001b[49m\u001b[43m \u001b[49m\u001b[43mout\u001b[49m\u001b[43m,\u001b[49m\u001b[43m \u001b[49m\u001b[43mkeepdims\u001b[49m\u001b[43m,\u001b[49m\u001b[43m \u001b[49m\u001b[43minitial\u001b[49m\u001b[43m,\u001b[49m\u001b[43m \u001b[49m\u001b[43mwhere\u001b[49m\u001b[43m)\u001b[49m\n",
      "\u001b[0;31mValueError\u001b[0m: zero-size array to reduction operation maximum which has no identity"
     ]
    }
   ],
   "source": [
    "topics, probs = topic_model.fit_transform()"
   ]
  },
  {
   "cell_type": "code",
   "execution_count": 56,
   "id": "196916cf-4454-4821-bcd8-07f4f4bad90d",
   "metadata": {},
   "outputs": [
    {
     "data": {
      "text/plain": [
       "'[https://twitter.com/AoC_NFT/status/1490336536101105668](https://twitter.com/AoC_NFT/status/1490336536101105668)\\n\\nI took inspiration from [@thedefiedge](https://twitter.com/thedefiedge)\\n\\n sharing amazing content on [#DeFi](https://twitter.com/hashtag/DeFi?src=hashtag_click) tools and decided to do the same for the NFT space. Therefore, below there\\'s a collection of the best FREE tools in [#NFT](https://twitter.com/hashtag/NFT?src=hashtag_click)\\n\\n1\\\\. GENERAL MARKET DATA  [@DuneAnalytics](https://twitter.com/DuneAnalytics)\\n\\n - very helpful to see charts on [#Ethereum](https://twitter.com/hashtag/Ethereum?src=hashtag_click) NFT market, with charts showing daily, monthly volumes as well as active traders.\\n\\n![](https://images.mirror-media.xyz/publication-images/HFmmnDZ6dvVc1YoOSGW-O.png?height=798&width=1875)\\n\\n1\\\\. GENERAL MARKET DATA Though, you might as well wanto to have a cross-chain view of how the NFT market is going, therefore I recommend using \\n\\n[@cryptoslamio](https://twitter.com/cryptoslamio)\\n\\n. Very useful feature is the comparison of NFT market on every chain, this helps having a big picture view of the market\\n\\n![](https://images.mirror-media.xyz/publication-images/GNyHQQR5QwA7RukTFgIR8.jfif?height=584&width=919)\\n\\n2\\\\. UPCOMING DROPS Pound 4 pound,  [@Twitter](https://twitter.com/Twitter)\\n\\n is defintely the best space to monitor upcoming drops, community growth, etc. You might create your curated list of accounts to follow in order to have the right exposure to the environment. (Check comments I\\'ll post a list later on)\\n\\n2\\\\. UPCOMING DROPS I know, you don\\'t have time for monitor  [@Twitter](https://twitter.com/Twitter)\\n\\n and get lost very easily among all those [#shill](https://twitter.com/hashtag/shill?src=hashtag_click). A great tool is  [@NFTScoring](https://twitter.com/NFTScoring)\\n\\n, personally love it cause it also shows social media metrics, and we all know [#NFTs](https://twitter.com/hashtag/NFTs?src=hashtag_click) are about [#CommunityEngagement](https://twitter.com/hashtag/CommunityEngagement?src=hashtag_click)\\n\\n![](https://images.mirror-media.xyz/publication-images/jqMpW6v20ATrJ1PkfewWl.jfif?height=726&width=1866)\\n\\n2\\\\. UPCOMING DROPS Other very useful tools which are more known are: -[@icy_tools](https://twitter.com/icy_tools) ; [@NFTMintAlerts](https://twitter.com/NFTMintAlerts) -[@raritytools](https://twitter.com/raritytools) -[@RaritySniperNFT](https://twitter.com/RaritySniperNFT)\\n\\n 2. UPCOMING DROPS - Mint scanner Even though those tools are amazing, they naturally gonna miss something, therefore mint scanners scan the Blockchain for mints, organize by volume and then give you alerts. One free mint scanner I use is:\\n\\n[https://whatsminting.live/](https://whatsminting.live/)\\n\\n[whatsminting.live](https://t.co/ovcgvaUn6N) also have a discord, head over there and enter the [#lastminute](https://twitter.com/hashtag/lastminute?src=hashtag_click) channel, you will get all the latest relevant mints without having to stay on their website or enable notifications\\n\\n3\\\\. WALLET SCANNER Another tool that helps a lot is a wallet scanner. Indeed, certain influencers will get information before the general public, but, if you follow their wallet you\\'ll get to see what are they minting and get in ahead of the majority of investors.\\n\\n3\\\\. WALLET SCANNER OC influencers minting something is not a good reason for you to ape in as well, but, while doing your researches, seeing if top collectors are minting would be very useful. Best free option: \\n\\n[@icy_tools](https://twitter.com/icy_tools)\\n\\n. >alerts> new alert> drop wallet address\\n\\n![](https://images.mirror-media.xyz/publication-images/TnTOe7Y22OJeWMMd5BtEC.jfif?height=702&width=1882)\\n\\n \\n 4. FLOOR TRACKER The most important metrics you should be eyeing is collection floor, volume and # of holders. [http://flips.finance](https://t.co/DFZQE0YoU4) does a great job giving free data and charts of almonst every collection. One very cool feature is chart of number of holders\\n\\n![](https://images.mirror-media.xyz/publication-images/etcTGLMbrHyXjS775BI-9.jfif?height=897&width=1569)\\n\\n5\\\\. SNIPING TOOLS Probably the most exciting ones. First one I use is [http://sunspot.gg](https://t.co/pz3jOsZx71). Only does 1 thing but does it very well: \"sunspot alerts you in real-time when ethereum nfts are listed and sold on \\n\\n[@opensea](https://twitter.com/opensea)\\n\\n 5. SNIPING TOOLS - sunspot Periodically people list NFT way below the floor, either cause they want out, they do by mistake or simply do not pay attention at trait floor (!). Indeed, NFTs do have different floors depending also on traits, example below acquamarine background\\n\\n### \\n\\n![](https://images.mirror-media.xyz/publication-images/rfiznKBx5tLWMf5xZO0RR.jfif?height=745&width=1590)\\n\\n5\\\\. SNIPING TOOLS To create an alert, simply head over to [http://sunspot.gg/alerts](https://t.co/d98IEOocVY), select the collection, the floor price below you want to get a notification (and even trait floor price), create alert.\\n\\n![](https://images.mirror-media.xyz/publication-images/Xz92lCY1hGz8EV12sbTa0.png?height=937&width=1912)\\n\\n5\\\\. SNIPING TOOLS Once anyone list a NFT under the alert price, you will get a desktop notification and by clicking on it you\\'ll be redirected to the \\n\\n[@opensea](https://twitter.com/opensea)\\n\\n page of the specific NFT and be able to buy it instantly before anyone else. ALL FOR FREE\\n\\nSNIPING TOOLS - Bonus According to developers, through a smart contract this tool will have a directly \"BUY\" function, thus allowing you to directly buy under a certain floor. Basically creating a limit order for NFTs (how crazy is that?)\\n\\n5\\\\. SNIPING TOOLS The last one is \\n\\n[@RaritySniperNFT](https://twitter.com/RaritySniperNFT)\\n\\n , which use case is to find a mispriced NFT compared to its rarity. It allows you to read metadata of NFTs that still need to be revealed before \\n\\n[@opensea](https://twitter.com/opensea)\\n\\n actually shows it. It is mean I know, but at least now you know too'"
      ]
     },
     "execution_count": 56,
     "metadata": {},
     "output_type": "execute_result"
    }
   ],
   "source": [
    "text2"
   ]
  },
  {
   "cell_type": "code",
   "execution_count": null,
   "id": "9b376b03-32f8-4162-bca1-59d59bec559b",
   "metadata": {},
   "outputs": [],
   "source": []
  },
  {
   "cell_type": "code",
   "execution_count": 12,
   "id": "163dfe8b-5c74-4294-9000-c811998e264a",
   "metadata": {},
   "outputs": [],
   "source": [
    "import json\n",
    "from lz4 import frame\n",
    "\n",
    "def json_reader(file_path: str):\n",
    "    \"\"\"\n",
    "    Loads dictionary from json format which also compressed with lz4\n",
    "    \"\"\"\n",
    "    with frame.open(filename=file_path, mode=\"r\") as f:\n",
    "        decoded_data = f.read().decode()\n",
    "    jsonfied_data = json.loads(decoded_data)\n",
    "    return jsonfied_data"
   ]
  },
  {
   "cell_type": "code",
   "execution_count": null,
   "id": "e72b3718-df66-4068-97e7-b70c61d43cf4",
   "metadata": {},
   "outputs": [],
   "source": []
  },
  {
   "cell_type": "code",
   "execution_count": null,
   "id": "ae6526b1-c263-4257-b9df-afd9839e7f85",
   "metadata": {},
   "outputs": [],
   "source": []
  },
  {
   "cell_type": "code",
   "execution_count": null,
   "id": "6ec462c8-89c3-46f9-b179-d97134b0cc40",
   "metadata": {},
   "outputs": [],
   "source": []
  },
  {
   "cell_type": "code",
   "execution_count": 53,
   "id": "4c42369f-39a2-49f1-a901-9e780c8d0d56",
   "metadata": {},
   "outputs": [
    {
     "data": {
      "text/plain": [
       "'[https://twitter.com/AoC_NFT/status/1490336536101105668](https://twitter.com/AoC_NFT/status/1490336536101105668)\\n\\nI took inspiration from [@thedefiedge](https://twitter.com/thedefiedge)\\n\\n sharing amazing content on [#DeFi](https://twitter.com/hashtag/DeFi?src=hashtag_click) tools and decided to do the same for the NFT space. Therefore, below there\\'s a collection of the best FREE tools in [#NFT](https://twitter.com/hashtag/NFT?src=hashtag_click)\\n\\n1\\\\. GENERAL MARKET DATA  [@DuneAnalytics](https://twitter.com/DuneAnalytics)\\n\\n - very helpful to see charts on [#Ethereum](https://twitter.com/hashtag/Ethereum?src=hashtag_click) NFT market, with charts showing daily, monthly volumes as well as active traders.\\n\\n![](https://images.mirror-media.xyz/publication-images/HFmmnDZ6dvVc1YoOSGW-O.png?height=798&width=1875)\\n\\n1\\\\. GENERAL MARKET DATA Though, you might as well wanto to have a cross-chain view of how the NFT market is going, therefore I recommend using \\n\\n[@cryptoslamio](https://twitter.com/cryptoslamio)\\n\\n. Very useful feature is the comparison of NFT market on every chain, this helps having a big picture view of the market\\n\\n![](https://images.mirror-media.xyz/publication-images/GNyHQQR5QwA7RukTFgIR8.jfif?height=584&width=919)\\n\\n2\\\\. UPCOMING DROPS Pound 4 pound,  [@Twitter](https://twitter.com/Twitter)\\n\\n is defintely the best space to monitor upcoming drops, community growth, etc. You might create your curated list of accounts to follow in order to have the right exposure to the environment. (Check comments I\\'ll post a list later on)\\n\\n2\\\\. UPCOMING DROPS I know, you don\\'t have time for monitor  [@Twitter](https://twitter.com/Twitter)\\n\\n and get lost very easily among all those [#shill](https://twitter.com/hashtag/shill?src=hashtag_click). A great tool is  [@NFTScoring](https://twitter.com/NFTScoring)\\n\\n, personally love it cause it also shows social media metrics, and we all know [#NFTs](https://twitter.com/hashtag/NFTs?src=hashtag_click) are about [#CommunityEngagement](https://twitter.com/hashtag/CommunityEngagement?src=hashtag_click)\\n\\n![](https://images.mirror-media.xyz/publication-images/jqMpW6v20ATrJ1PkfewWl.jfif?height=726&width=1866)\\n\\n2\\\\. UPCOMING DROPS Other very useful tools which are more known are: -[@icy_tools](https://twitter.com/icy_tools) ; [@NFTMintAlerts](https://twitter.com/NFTMintAlerts) -[@raritytools](https://twitter.com/raritytools) -[@RaritySniperNFT](https://twitter.com/RaritySniperNFT)\\n\\n 2. UPCOMING DROPS - Mint scanner Even though those tools are amazing, they naturally gonna miss something, therefore mint scanners scan the Blockchain for mints, organize by volume and then give you alerts. One free mint scanner I use is:\\n\\n[https://whatsminting.live/](https://whatsminting.live/)\\n\\n[whatsminting.live](https://t.co/ovcgvaUn6N) also have a discord, head over there and enter the [#lastminute](https://twitter.com/hashtag/lastminute?src=hashtag_click) channel, you will get all the latest relevant mints without having to stay on their website or enable notifications\\n\\n3\\\\. WALLET SCANNER Another tool that helps a lot is a wallet scanner. Indeed, certain influencers will get information before the general public, but, if you follow their wallet you\\'ll get to see what are they minting and get in ahead of the majority of investors.\\n\\n3\\\\. WALLET SCANNER OC influencers minting something is not a good reason for you to ape in as well, but, while doing your researches, seeing if top collectors are minting would be very useful. Best free option: \\n\\n[@icy_tools](https://twitter.com/icy_tools)\\n\\n. >alerts> new alert> drop wallet address\\n\\n![](https://images.mirror-media.xyz/publication-images/TnTOe7Y22OJeWMMd5BtEC.jfif?height=702&width=1882)\\n\\n \\n 4. FLOOR TRACKER The most important metrics you should be eyeing is collection floor, volume and # of holders. [http://flips.finance](https://t.co/DFZQE0YoU4) does a great job giving free data and charts of almonst every collection. One very cool feature is chart of number of holders\\n\\n![](https://images.mirror-media.xyz/publication-images/etcTGLMbrHyXjS775BI-9.jfif?height=897&width=1569)\\n\\n5\\\\. SNIPING TOOLS Probably the most exciting ones. First one I use is [http://sunspot.gg](https://t.co/pz3jOsZx71). Only does 1 thing but does it very well: \"sunspot alerts you in real-time when ethereum nfts are listed and sold on \\n\\n[@opensea](https://twitter.com/opensea)\\n\\n 5. SNIPING TOOLS - sunspot Periodically people list NFT way below the floor, either cause they want out, they do by mistake or simply do not pay attention at trait floor (!). Indeed, NFTs do have different floors depending also on traits, example below acquamarine background\\n\\n### \\n\\n![](https://images.mirror-media.xyz/publication-images/rfiznKBx5tLWMf5xZO0RR.jfif?height=745&width=1590)\\n\\n5\\\\. SNIPING TOOLS To create an alert, simply head over to [http://sunspot.gg/alerts](https://t.co/d98IEOocVY), select the collection, the floor price below you want to get a notification (and even trait floor price), create alert.\\n\\n![](https://images.mirror-media.xyz/publication-images/Xz92lCY1hGz8EV12sbTa0.png?height=937&width=1912)\\n\\n5\\\\. SNIPING TOOLS Once anyone list a NFT under the alert price, you will get a desktop notification and by clicking on it you\\'ll be redirected to the \\n\\n[@opensea](https://twitter.com/opensea)\\n\\n page of the specific NFT and be able to buy it instantly before anyone else. ALL FOR FREE\\n\\nSNIPING TOOLS - Bonus According to developers, through a smart contract this tool will have a directly \"BUY\" function, thus allowing you to directly buy under a certain floor. Basically creating a limit order for NFTs (how crazy is that?)\\n\\n5\\\\. SNIPING TOOLS The last one is \\n\\n[@RaritySniperNFT](https://twitter.com/RaritySniperNFT)\\n\\n , which use case is to find a mispriced NFT compared to its rarity. It allows you to read metadata of NFTs that still need to be revealed before \\n\\n[@opensea](https://twitter.com/opensea)\\n\\n actually shows it. It is mean I know, but at least now you know too'"
      ]
     },
     "execution_count": 53,
     "metadata": {},
     "output_type": "execute_result"
    }
   ],
   "source": [
    "text2"
   ]
  },
  {
   "cell_type": "code",
   "execution_count": 19,
   "id": "4431fcf9-5b5e-4344-9829-ac1d05cdb0f1",
   "metadata": {},
   "outputs": [],
   "source": [
    "text2 = text"
   ]
  },
  {
   "cell_type": "code",
   "execution_count": null,
   "id": "e68f80cb-59fc-47f3-970f-b5e7d2ec1f3a",
   "metadata": {},
   "outputs": [],
   "source": []
  },
  {
   "cell_type": "code",
   "execution_count": null,
   "id": "89b1f096-b0c1-4190-bc40-adebbfab14d2",
   "metadata": {},
   "outputs": [],
   "source": [
    "# load tagger\n",
    "tagger = SequenceTagger.load(\"flair/ner-english\")\n",
    "\n",
    "# make example sentence\n",
    "sentence = Sentence(\"George Washington went to Washington\")\n",
    "\n",
    "# predict NER tags\n",
    "tagger.predict(sentence)\n",
    "\n",
    "# print sentence\n",
    "print(sentence)\n",
    "\n",
    "# print predicted NER spans\n",
    "print('The following NER tags are found:')\n",
    "# iterate over entities and print\n",
    "for entity in sentence.get_spans('ner'):\n",
    "    print(entity)"
   ]
  },
  {
   "cell_type": "code",
   "execution_count": null,
   "id": "eeb3886e-1c12-4001-8c2b-58b00cefff21",
   "metadata": {},
   "outputs": [],
   "source": []
  },
  {
   "cell_type": "code",
   "execution_count": 6,
   "id": "c798e92d-7e1e-4e67-b057-3175286948b9",
   "metadata": {},
   "outputs": [],
   "source": [
    "from transformers import pipeline\n",
    "from pathlib import Path\n",
    "#from veritas import io\n",
    "import numpy as np"
   ]
  },
  {
   "cell_type": "code",
   "execution_count": 2,
   "id": "fad1b12d-06cb-4ac7-9dfb-f21e9ddfcadf",
   "metadata": {},
   "outputs": [
    {
     "name": "stdout",
     "output_type": "stream",
     "text": [
      "Enabling notebook extension jupyter-js-widgets/extension...\n",
      "      - Validating: \u001b[32mOK\u001b[0m\n"
     ]
    }
   ],
   "source": [
    "!jupyter nbextension enable --py widgetsnbextension"
   ]
  },
  {
   "cell_type": "code",
   "execution_count": 3,
   "id": "7ba76372-8bb7-4337-9157-dd53356e8d55",
   "metadata": {},
   "outputs": [
    {
     "name": "stderr",
     "output_type": "stream",
     "text": [
      "No model was supplied, defaulted to dbmdz/bert-large-cased-finetuned-conll03-english (https://huggingface.co/dbmdz/bert-large-cased-finetuned-conll03-english)\n"
     ]
    },
    {
     "data": {
      "application/vnd.jupyter.widget-view+json": {
       "model_id": "435ca667cc474eee91bfa357d8cbc99c",
       "version_major": 2,
       "version_minor": 0
      },
      "text/plain": [
       "Downloading:   0%|          | 0.00/998 [00:00<?, ?B/s]"
      ]
     },
     "metadata": {},
     "output_type": "display_data"
    },
    {
     "data": {
      "application/vnd.jupyter.widget-view+json": {
       "model_id": "e560ec93e366472ba8f1611668647ae4",
       "version_major": 2,
       "version_minor": 0
      },
      "text/plain": [
       "Downloading:   0%|          | 0.00/1.24G [00:00<?, ?B/s]"
      ]
     },
     "metadata": {},
     "output_type": "display_data"
    },
    {
     "data": {
      "application/vnd.jupyter.widget-view+json": {
       "model_id": "82238550f60346b5911cb7e85dc3bb51",
       "version_major": 2,
       "version_minor": 0
      },
      "text/plain": [
       "Downloading:   0%|          | 0.00/60.0 [00:00<?, ?B/s]"
      ]
     },
     "metadata": {},
     "output_type": "display_data"
    },
    {
     "data": {
      "application/vnd.jupyter.widget-view+json": {
       "model_id": "8ca8f3a5ad8e4a0aa2e684403c692916",
       "version_major": 2,
       "version_minor": 0
      },
      "text/plain": [
       "Downloading:   0%|          | 0.00/208k [00:00<?, ?B/s]"
      ]
     },
     "metadata": {},
     "output_type": "display_data"
    }
   ],
   "source": [
    "ner = pipeline(\"ner\")"
   ]
  },
  {
   "cell_type": "code",
   "execution_count": 7,
   "id": "eaee50d8-c640-4bbc-94a2-4fc36d9841ba",
   "metadata": {},
   "outputs": [],
   "source": [
    "articles_dir = Path(\"../data/mirror/\")"
   ]
  },
  {
   "cell_type": "code",
   "execution_count": 50,
   "id": "93ce0bce-59e1-4cf1-a75f-548f315d47af",
   "metadata": {},
   "outputs": [],
   "source": [
    "\n",
    "for i, fp in enumerate(articles_dir.iterdir()):\n",
    "    \n",
    "    article = json_reader(fp)\n",
    "    if i == 215:\n",
    "        break"
   ]
  },
  {
   "cell_type": "code",
   "execution_count": 51,
   "id": "e167656b-3105-4608-9301-8fd93b388ae7",
   "metadata": {},
   "outputs": [],
   "source": [
    "text = article[\"content\"][\"body\"]\n",
    "#print(text)"
   ]
  },
  {
   "cell_type": "code",
   "execution_count": 52,
   "id": "dc550378-1cd0-461e-80e2-75d9dd2c2389",
   "metadata": {},
   "outputs": [
    {
     "data": {
      "text/plain": [
       "'During the past year, decentralized technologies have been seeping into music\\n\\n![](https://images.mirror-media.xyz/publication-images/_a7vUs0nU1ug6eSi3_LYV.png?height=420&width=800)\\n\\nMusic has stood at the core of entertainment since the dawn of civilization. Today, at the heyday of the digital age, we find we’re so used to it that sometimes we don’t even notice it anymore: for example, when did you last pay attention to the background soundtrack in a movie or a video game?\\n\\nDuring 2020-2021, the pandemic has accelerated the trend for digitization. Many believe that metaverse – a virtual space where we will interact with each other and the environment with the help of VR and AR technologies – is the next logical step in this process.\\n\\nLet’s look into how music can be integrated within the broader narrative of the metaverse and help musicians of any level create new experiences for their audience.\\n\\n## NFTs, Empowering Music\\n\\nDuring the past year, decentralized technologies have been seeping into music. Non-fungibles, for one, are increasingly seen as a novel way of distributing audio and video content. At the same time, blockchain technology opens new potential for protecting and exchanging digital property rights.\\n\\nFor artists, especially emerging talents, NFTs represent a viable new way of raising funds. Modern NFT platforms specializing in different aspects of music production, from funding to distribution, help them reach their audience, raise funds for their next tracks, and put the music out there for their fans to enjoy. Fans, in their turn, get a chance to support their favorite artists and experience material and emotive rewards.\\n\\nThe latter is most in tune with the very spirit of music fanship: NFTs find a cozy nook in our mental libraries of emotions, memories, affiliations, and ‘that-itches.’ Eric Elliot with Greenruhm.com says in his article, ‘we’re not buying JPGs. We’re buying membership, identity, status, and a sense of ownership. And it’s addictive AF.’ According to the metaverse advocates, the new virtual worlds are bound to create an even more immersive – and addictive – experience.\\n\\n## Brought Together by the Metaverse\\n\\nA great part of enjoying music is forming connections with your favorite artists and other fans: millions have been hungry for during the last two years of the pandemic. We all want to belong and share experiences. This is the reason why we collect merchandise, go to concerts or festivals, hunt for autographs, and join meet-and-greet events. Metaverse is all about the community, as well: we do need allies and opponents to enjoy play-to-earn games truly, we want others to appreciate our NFT collections, and so on.\\n\\nThe first cases from the metaverse are jaw-dropping. Amelia Kallman shares amazing stats: ‘watching Travis Scott live in Fortnite…, was not one big group of 12.3 million people, but instead, the concerts were made up of 50 people each.’ Thus, ‘essentially, there wasn’t one concert, but 250,000 co-occurring.’ This fosters much more engagement than lockdown-induced YouTube videos of a show performed in an empty venue, right?\\n\\nAnd talking about merchandise, what concert-goer doesn’t love those amazing merch cannons? Lil Nas X has pioneered the way with his Roblox concert, distributing the ‘merchandise that far outpaced their initial expectations, citing an eight-figure rate,’ as The Guardian reports. ‘Limits are non-existent in the metaverse,’ claims Jon Vlassopulos, global head of music of video game developer Roblox.\\n\\n## Sounds of the Wild Meta Frontiers\\n\\nAs we see, metaverse creates new opportunities for connection and immersion. However, for now, we are still just scratching the surface. According to Simon Powell from Jefferies, we’re at least a decade away from a unified metaverse, and there’s still much work to be done around hardware, software and then bringing the metaverse to the mainstream.\\n\\nIt will require boosting interoperability to connect separate parts of the metaverse, creating a viable infrastructure for this new world, and doing some work on the legal aspect to create a cohesive experience similar to how users click between websites and apps.\\n\\nHowever, given the amount of attention coming from tech giants such as Facebook, Microsoft, and Nvidia, we are sure to see wider adoption and innovation next year and beyond. In our pursuit for clarity and lawfulness, we should not lose track of the innovation and upheaval that the metaverse brings to music, as well as other industries across entertainment.'"
      ]
     },
     "execution_count": 52,
     "metadata": {},
     "output_type": "execute_result"
    }
   ],
   "source": [
    "text"
   ]
  },
  {
   "cell_type": "code",
   "execution_count": 84,
   "id": "deb03d93-ee3a-444b-a052-48581688bd8c",
   "metadata": {},
   "outputs": [],
   "source": [
    "# make example sentence\n",
    "sentence = Sentence(text)\n",
    "\n",
    "# predict NER tags\n",
    "tagger.predict(sentence)"
   ]
  },
  {
   "cell_type": "code",
   "execution_count": 81,
   "id": "7650c9dc-46f0-44c1-acc3-4f142b64010c",
   "metadata": {},
   "outputs": [],
   "source": [
    "#print(sentence)"
   ]
  },
  {
   "cell_type": "code",
   "execution_count": 85,
   "id": "afb3956a-aefc-4169-9b6c-cc5d73de1310",
   "metadata": {},
   "outputs": [
    {
     "name": "stdout",
     "output_type": "stream",
     "text": [
      "Span [113]: \"twitter.com\"   [− Labels: MISC (0.8409)]\n",
      "Span [115]: \"DuneAnalytics\"   [− Labels: MISC (0.6559)]\n",
      "Span [195]: \"NFT\"   [− Labels: ORG (0.5881)]\n",
      "Span [209]: \"twitter.com\"   [− Labels: MISC (0.698)]\n",
      "Span [339]: \"twitter.com\"   [− Labels: MISC (0.8896)]\n",
      "Span [341]: \"Twitter\"   [− Labels: MISC (0.5478)]\n",
      "Span [378]: \"twitter.com\"   [− Labels: MISC (0.6931)]\n",
      "Span [380]: \"NFTScoring\"   [− Labels: MISC (0.6297)]\n",
      "Span [1154]: \"twitter.com\"   [− Labels: MISC (0.885)]\n",
      "Span [1156]: \"RaritySniperNFT\"   [− Labels: MISC (0.6278)]\n",
      "Span [1193]: \"twitter.com\"   [− Labels: MISC (0.626)]\n"
     ]
    }
   ],
   "source": [
    "# iterate over entities and print\n",
    "for entity in sentence.get_spans('ner'):\n",
    "    print(entity)"
   ]
  },
  {
   "cell_type": "code",
   "execution_count": 87,
   "id": "35b64b2d-e41e-4bd2-aed5-ebafd7e28cf2",
   "metadata": {},
   "outputs": [
    {
     "name": "stdout",
     "output_type": "stream",
     "text": [
      "[https://twitter.com/AoC_NFT/status/1490336536101105668](https://twitter.com/AoC_NFT/status/1490336536101105668)\n",
      "\n",
      "I took inspiration from [@thedefiedge](https://twitter.com/thedefiedge)\n",
      "\n",
      " sharing amazing content on [#DeFi](https://twitter.com/hashtag/DeFi?src=hashtag_click) tools and decided to do the same for the NFT space. Therefore, below there's a collection of the best FREE tools in [#NFT](https://twitter.com/hashtag/NFT?src=hashtag_click)\n",
      "\n",
      "1\\. GENERAL MARKET DATA  [@DuneAnalytics](https://twitter.com/DuneAnalytics)\n",
      "\n",
      " - very helpful to see charts on [#Ethereum](https://twitter.com/hashtag/Ethereum?src=hashtag_click) NFT market, with charts showing daily, monthly volumes as well as active traders.\n",
      "\n",
      "![](https://images.mirror-media.xyz/publication-images/HFmmnDZ6dvVc1YoOSGW-O.png?height=798&width=1875)\n",
      "\n",
      "1\\. GENERAL MARKET DATA Though, you might as well wanto to have a cross-chain view of how the NFT market is going, therefore I recommend using \n",
      "\n",
      "[@cryptoslamio](https://twitter.com/cryptoslamio)\n",
      "\n",
      ". Very useful feature is the comparison of NFT market on every chain, this helps having a big picture view of the market\n",
      "\n",
      "![](https://images.mirror-media.xyz/publication-images/GNyHQQR5QwA7RukTFgIR8.jfif?height=584&width=919)\n",
      "\n",
      "2\\. UPCOMING DROPS Pound 4 pound,  [@Twitter](https://twitter.com/Twitter)\n",
      "\n",
      " is defintely the best space to monitor upcoming drops, community growth, etc. You might create your curated list of accounts to follow in order to have the right exposure to the environment. (Check comments I'll post a list later on)\n",
      "\n",
      "2\\. UPCOMING DROPS I know, you don't have time for monitor  [@Twitter](https://twitter.com/Twitter)\n",
      "\n",
      " and get lost very easily among all those [#shill](https://twitter.com/hashtag/shill?src=hashtag_click). A great tool is  [@NFTScoring](https://twitter.com/NFTScoring)\n",
      "\n",
      ", personally love it cause it also shows social media metrics, and we all know [#NFTs](https://twitter.com/hashtag/NFTs?src=hashtag_click) are about [#CommunityEngagement](https://twitter.com/hashtag/CommunityEngagement?src=hashtag_click)\n",
      "\n",
      "![](https://images.mirror-media.xyz/publication-images/jqMpW6v20ATrJ1PkfewWl.jfif?height=726&width=1866)\n",
      "\n",
      "2\\. UPCOMING DROPS Other very useful tools which are more known are: -[@icy_tools](https://twitter.com/icy_tools) ; [@NFTMintAlerts](https://twitter.com/NFTMintAlerts) -[@raritytools](https://twitter.com/raritytools) -[@RaritySniperNFT](https://twitter.com/RaritySniperNFT)\n",
      "\n",
      " 2. UPCOMING DROPS - Mint scanner Even though those tools are amazing, they naturally gonna miss something, therefore mint scanners scan the Blockchain for mints, organize by volume and then give you alerts. One free mint scanner I use is:\n",
      "\n",
      "[https://whatsminting.live/](https://whatsminting.live/)\n",
      "\n",
      "[whatsminting.live](https://t.co/ovcgvaUn6N) also have a discord, head over there and enter the [#lastminute](https://twitter.com/hashtag/lastminute?src=hashtag_click) channel, you will get all the latest relevant mints without having to stay on their website or enable notifications\n",
      "\n",
      "3\\. WALLET SCANNER Another tool that helps a lot is a wallet scanner. Indeed, certain influencers will get information before the general public, but, if you follow their wallet you'll get to see what are they minting and get in ahead of the majority of investors.\n",
      "\n",
      "3\\. WALLET SCANNER OC influencers minting something is not a good reason for you to ape in as well, but, while doing your researches, seeing if top collectors are minting would be very useful. Best free option: \n",
      "\n",
      "[@icy_tools](https://twitter.com/icy_tools)\n",
      "\n",
      ". >alerts> new alert> drop wallet address\n",
      "\n",
      "![](https://images.mirror-media.xyz/publication-images/TnTOe7Y22OJeWMMd5BtEC.jfif?height=702&width=1882)\n",
      "\n",
      " \n",
      " 4. FLOOR TRACKER The most important metrics you should be eyeing is collection floor, volume and # of holders. [http://flips.finance](https://t.co/DFZQE0YoU4) does a great job giving free data and charts of almonst every collection. One very cool feature is chart of number of holders\n",
      "\n",
      "![](https://images.mirror-media.xyz/publication-images/etcTGLMbrHyXjS775BI-9.jfif?height=897&width=1569)\n",
      "\n",
      "5\\. SNIPING TOOLS Probably the most exciting ones. First one I use is [http://sunspot.gg](https://t.co/pz3jOsZx71). Only does 1 thing but does it very well: \"sunspot alerts you in real-time when ethereum nfts are listed and sold on \n",
      "\n",
      "[@opensea](https://twitter.com/opensea)\n",
      "\n",
      " 5. SNIPING TOOLS - sunspot Periodically people list NFT way below the floor, either cause they want out, they do by mistake or simply do not pay attention at trait floor (!). Indeed, NFTs do have different floors depending also on traits, example below acquamarine background\n",
      "\n",
      "### \n",
      "\n",
      "![](https://images.mirror-media.xyz/publication-images/rfiznKBx5tLWMf5xZO0RR.jfif?height=745&width=1590)\n",
      "\n",
      "5\\. SNIPING TOOLS To create an alert, simply head over to [http://sunspot.gg/alerts](https://t.co/d98IEOocVY), select the collection, the floor price below you want to get a notification (and even trait floor price), create alert.\n",
      "\n",
      "![](https://images.mirror-media.xyz/publication-images/Xz92lCY1hGz8EV12sbTa0.png?height=937&width=1912)\n",
      "\n",
      "5\\. SNIPING TOOLS Once anyone list a NFT under the alert price, you will get a desktop notification and by clicking on it you'll be redirected to the \n",
      "\n",
      "[@opensea](https://twitter.com/opensea)\n",
      "\n",
      " page of the specific NFT and be able to buy it instantly before anyone else. ALL FOR FREE\n",
      "\n",
      "SNIPING TOOLS - Bonus According to developers, through a smart contract this tool will have a directly \"BUY\" function, thus allowing you to directly buy under a certain floor. Basically creating a limit order for NFTs (how crazy is that?)\n",
      "\n",
      "5\\. SNIPING TOOLS The last one is \n",
      "\n",
      "[@RaritySniperNFT](https://twitter.com/RaritySniperNFT)\n",
      "\n",
      " , which use case is to find a mispriced NFT compared to its rarity. It allows you to read metadata of NFTs that still need to be revealed before \n",
      "\n",
      "[@opensea](https://twitter.com/opensea)\n",
      "\n",
      " actually shows it. It is mean I know, but at least now you know too\n"
     ]
    }
   ],
   "source": [
    "print(text)"
   ]
  },
  {
   "cell_type": "code",
   "execution_count": 48,
   "id": "f2238df2-bf95-4065-9ecc-d831f4416507",
   "metadata": {},
   "outputs": [],
   "source": [
    "#print(article[\"content\"][\"body\"])"
   ]
  },
  {
   "cell_type": "code",
   "execution_count": 63,
   "id": "0d5d3873-93e6-4499-b659-7ee83b7b94cf",
   "metadata": {},
   "outputs": [],
   "source": [
    "res = ner(article[\"content\"][\"body\"])"
   ]
  },
  {
   "cell_type": "code",
   "execution_count": 64,
   "id": "1aebb95f-433e-4d36-be31-c3af4ccd3b88",
   "metadata": {},
   "outputs": [
    {
     "name": "stdout",
     "output_type": "stream",
     "text": [
      "I-MISC Web\n",
      "I-MISC 3\n",
      "I-ORG E\n",
      "I-ORG ther\n",
      "I-ORG eum\n",
      "I-ORG Pol\n",
      "I-ORG y\n",
      "I-ORG gon\n",
      "I-ORG IP\n",
      "I-ORG FS\n",
      "I-ORG File\n",
      "I-ORG co\n",
      "I-ORG in\n",
      "I-ORG The\n",
      "I-ORG G\n",
      "I-ORG rap\n",
      "I-ORG h\n",
      "I-ORG E\n",
      "I-ORG ther\n",
      "I-ORG eum\n",
      "I-ORG R\n",
      "I-ORG IP\n",
      "I-ORG FS\n",
      "I-MISC File\n",
      "I-ORG co\n",
      "I-ORG in\n",
      "I-ORG The\n",
      "I-ORG G\n",
      "I-ORG rap\n",
      "I-ORG h\n"
     ]
    }
   ],
   "source": [
    "l = []\n",
    "for e in res:\n",
    "    print(e[\"entity\"], text[e[\"start\"]:e[\"end\"]])"
   ]
  },
  {
   "cell_type": "code",
   "execution_count": 29,
   "id": "12248d0c-95da-4737-b0ed-e2a3ea2783d1",
   "metadata": {},
   "outputs": [
    {
     "data": {
      "text/plain": [
       "array(['I-MISC', 'I-ORG'], dtype='<U6')"
      ]
     },
     "execution_count": 29,
     "metadata": {},
     "output_type": "execute_result"
    }
   ],
   "source": [
    "np.unique(l)"
   ]
  },
  {
   "cell_type": "code",
   "execution_count": 33,
   "id": "a4d4f9a5-b13a-465e-9bcf-e0ffbe00efc1",
   "metadata": {},
   "outputs": [
    {
     "data": {
      "text/plain": [
       "'FT'"
      ]
     },
     "execution_count": 33,
     "metadata": {},
     "output_type": "execute_result"
    }
   ],
   "source": []
  },
  {
   "cell_type": "code",
   "execution_count": null,
   "id": "9b40c5a7-8a10-4aee-9dcf-a2027d1acb0f",
   "metadata": {},
   "outputs": [],
   "source": []
  },
  {
   "cell_type": "code",
   "execution_count": null,
   "id": "db2a42e7-7daa-4f1b-97eb-45ab0a679552",
   "metadata": {},
   "outputs": [],
   "source": [
    "\n",
    "[\n",
    "    \"audio-classification\",\n",
    "    \"automatic-speech-recognition\",\n",
    "    \"conversational\",\n",
    "    \"feature-extraction\",\n",
    "    \"fill-mask\",\n",
    "    \"image-classification\",\n",
    "    \"image-segmentation\",\n",
    "    \"ner\",\n",
    "    \"object-detection\",\n",
    "    \"question-answering\",\n",
    "    \"sentiment-analysis\",\n",
    "    \"summarization\",\n",
    "    \"table-question-answering\",\n",
    "    \"text-classification\",\n",
    "    \"text-generation\",\n",
    "    \"text2text-generation\",\n",
    "    \"token-classification\",\n",
    "    \"translation\",\n",
    "    \"zero-shot-classification\",\n",
    "    \"translation_XX_to_YY\",\n",
    "]"
   ]
  },
  {
   "cell_type": "code",
   "execution_count": null,
   "id": "a9e08818-10a8-41b5-b4df-43274064392c",
   "metadata": {},
   "outputs": [],
   "source": [
    "\"ner\""
   ]
  },
  {
   "cell_type": "code",
   "execution_count": null,
   "id": "21f3c11f-f5b0-4f94-8dfa-064efa685956",
   "metadata": {},
   "outputs": [],
   "source": [
    "\"summarization\""
   ]
  },
  {
   "cell_type": "code",
   "execution_count": null,
   "id": "c3334783-4821-4ca6-a452-e3ee197fdc93",
   "metadata": {},
   "outputs": [],
   "source": []
  },
  {
   "cell_type": "code",
   "execution_count": null,
   "id": "87cb03d2-ec6c-4021-9d66-19582b7c7461",
   "metadata": {},
   "outputs": [],
   "source": []
  }
 ],
 "metadata": {
  "kernelspec": {
   "display_name": "Python 3 (ipykernel)",
   "language": "python",
   "name": "python3"
  },
  "language_info": {
   "codemirror_mode": {
    "name": "ipython",
    "version": 3
   },
   "file_extension": ".py",
   "mimetype": "text/x-python",
   "name": "python",
   "nbconvert_exporter": "python",
   "pygments_lexer": "ipython3",
   "version": "3.8.9"
  }
 },
 "nbformat": 4,
 "nbformat_minor": 5
}
