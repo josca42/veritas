{
 "cells": [
  {
   "cell_type": "code",
   "execution_count": 15,
   "id": "7469b88c-9199-4284-84dd-2ac3a2af2a3e",
   "metadata": {},
   "outputs": [],
   "source": [
    "from veritas import crawlers, io"
   ]
  },
  {
   "cell_type": "code",
   "execution_count": null,
   "id": "066ac2e4-43ac-4e77-8698-21e7573bd2b0",
   "metadata": {},
   "outputs": [],
   "source": []
  },
  {
   "cell_type": "code",
   "execution_count": 10,
   "id": "6241994a-6002-4fdb-89b5-f1f3c60523fc",
   "metadata": {},
   "outputs": [],
   "source": [
    "from pathlib import Path\n",
    "\n",
    "def latest_file_in_folder(folder: Path):\n",
    "    return max(folder.iterdir(), key=lambda x: x.stat().st_ctime)"
   ]
  },
  {
   "cell_type": "code",
   "execution_count": 13,
   "id": "32a15122-66a6-4d61-96c7-8dec25a982d2",
   "metadata": {},
   "outputs": [],
   "source": [
    "data_dir = Path(\"../data/mirror/\") \n",
    "fp = latest_file_in_folder(data_dir)"
   ]
  },
  {
   "cell_type": "code",
   "execution_count": 23,
   "id": "3c60840b-439b-4e6e-b800-03b82101708e",
   "metadata": {},
   "outputs": [],
   "source": [
    "Id = fp.name.split('.')[0]"
   ]
  },
  {
   "cell_type": "code",
   "execution_count": null,
   "id": "9cfa2ca1-0ff0-415f-a1cc-bd69e7082153",
   "metadata": {},
   "outputs": [],
   "source": []
  },
  {
   "cell_type": "code",
   "execution_count": 16,
   "id": "69ed7837-d420-456e-8535-ab86b9a0880d",
   "metadata": {},
   "outputs": [],
   "source": [
    "from veritas import crawlers, io\n",
    "from pathlib import Path"
   ]
  },
  {
   "cell_type": "code",
   "execution_count": 18,
   "id": "3b6ecc33-f59a-4efc-94de-588a8052913d",
   "metadata": {},
   "outputs": [],
   "source": [
    "data_dir = Path(\"../data/mirror\")\n",
    "arweave_wallet_fp = (\n",
    "    \"../wallets/arweave-keyfile-r8xG_s5cGl7TRnY3UmInLqQtWD8xOgJHs67Y4N0dmhc.json\"\n",
    ")\n",
    "mirror = crawlers.Mirror(wallet_fp=arweave_wallet_fp)"
   ]
  },
  {
   "cell_type": "code",
   "execution_count": 24,
   "id": "aa60ddb8-fd07-4c5a-983d-dd722d8217e8",
   "metadata": {},
   "outputs": [],
   "source": [
    "article_data = mirror.article_data(id=Id)"
   ]
  },
  {
   "cell_type": "code",
   "execution_count": 25,
   "id": "ff53d340-559b-4ab8-8ab4-df3a674ad773",
   "metadata": {},
   "outputs": [
    {
     "data": {
      "text/plain": [
       "{'content': {'body': '丰业', 'timestamp': 1644019601, 'title': 'fengye'},\n",
       " 'digest': 'kMzCz8tcrtYCzblkn6pIkcSFsEWg_BEzc93Shja0-JY',\n",
       " 'authorship': {'contributor': '0xF20bF55B7FcbCc6A1f1D6AD4cd60ccCfEd01c8Ce',\n",
       "  'signingKey': '{\"crv\":\"P-256\",\"ext\":true,\"key_ops\":[\"verify\"],\"kty\":\"EC\",\"x\":\"QXwPJcNNlrZSfOw0iabpPkne1pCnLNot2PHzkBlEEH0\",\"y\":\"-MSDkBCpN3O5C8iRcsaCdQqG3Lyhna_D0FCMbZ__xt8\"}',\n",
       "  'signature': 'aS0Xd-C6pbkx-AJDQVKiDzZ78FhOggTUPccvyVG9NFdds_Udq3zxJ_Km26AfQ4ajwJAFnzpl7m-UFMrl2KR06g',\n",
       "  'signingKeySignature': '0xeea7c1690e2ecda19e01ca4f06a86956985da43b3271f0f5f7558bf4704c76770649cb7007e16cc0c2a66811605223282556a99aff3a073a89f924d151cf4df61b',\n",
       "  'signingKeyMessage': 'I authorize publishing on mirror.xyz from this device using:\\n{\"crv\":\"P-256\",\"ext\":true,\"key_ops\":[\"verify\"],\"kty\":\"EC\",\"x\":\"QXwPJcNNlrZSfOw0iabpPkne1pCnLNot2PHzkBlEEH0\",\"y\":\"-MSDkBCpN3O5C8iRcsaCdQqG3Lyhna_D0FCMbZ__xt8\"}',\n",
       "  'algorithm': {'name': 'ECDSA', 'hash': 'SHA-256'}},\n",
       " 'nft': {},\n",
       " 'version': '12-21-2020',\n",
       " 'originalDigest': 'kMzCz8tcrtYCzblkn6pIkcSFsEWg_BEzc93Shja0-JY'}"
      ]
     },
     "execution_count": 25,
     "metadata": {},
     "output_type": "execute_result"
    }
   ],
   "source": [
    "article_data"
   ]
  },
  {
   "cell_type": "code",
   "execution_count": null,
   "id": "0e8548a2-2228-49aa-9a6e-70c98a793851",
   "metadata": {},
   "outputs": [],
   "source": []
  },
  {
   "cell_type": "code",
   "execution_count": 42,
   "id": "a1d1ba12-1294-4005-a342-24df387b60c8",
   "metadata": {},
   "outputs": [
    {
     "data": {
      "text/plain": [
       "36"
      ]
     },
     "execution_count": 42,
     "metadata": {},
     "output_type": "execute_result"
    }
   ],
   "source": [
    "6 ** 2"
   ]
  },
  {
   "cell_type": "code",
   "execution_count": 39,
   "id": "e7d765dc-a9da-4718-bb95-e5b2dabca5fe",
   "metadata": {},
   "outputs": [
    {
     "data": {
      "text/plain": [
       "[4, 5, 6]"
      ]
     },
     "execution_count": 39,
     "metadata": {},
     "output_type": "execute_result"
    }
   ],
   "source": [
    "list(range(4, 7))"
   ]
  },
  {
   "cell_type": "code",
   "execution_count": 36,
   "id": "a79d123d-baaf-4d18-a468-a8edcdd1d2d5",
   "metadata": {},
   "outputs": [
    {
     "data": {
      "text/plain": [
       "16"
      ]
     },
     "execution_count": 36,
     "metadata": {},
     "output_type": "execute_result"
    }
   ],
   "source": [
    "2**4"
   ]
  },
  {
   "cell_type": "code",
   "execution_count": 43,
   "id": "cfe11c8b-81f5-48a3-aeaf-d9a5e6600616",
   "metadata": {},
   "outputs": [],
   "source": [
    "import pandas as pd"
   ]
  },
  {
   "cell_type": "code",
   "execution_count": 45,
   "id": "d8bf11cc-35c6-4b8d-8db0-3d699d0cfab5",
   "metadata": {},
   "outputs": [
    {
     "data": {
      "text/plain": [
       "'2022-02-11 07:33:43.269412'"
      ]
     },
     "execution_count": 45,
     "metadata": {},
     "output_type": "execute_result"
    }
   ],
   "source": [
    "str(pd.Timestamp.now())"
   ]
  },
  {
   "cell_type": "code",
   "execution_count": 46,
   "id": "cb95d139-6a80-45d1-a622-d7030b957d4f",
   "metadata": {},
   "outputs": [],
   "source": [
    "from datetime import datetime"
   ]
  },
  {
   "cell_type": "code",
   "execution_count": 57,
   "id": "3d99b0c6-b1bb-4f2c-8d4c-932616c08a35",
   "metadata": {},
   "outputs": [
    {
     "data": {
      "text/plain": [
       "'11/02 07:35:22'"
      ]
     },
     "execution_count": 57,
     "metadata": {},
     "output_type": "execute_result"
    }
   ],
   "source": [
    "datetime.now().strftime(\"%d/%m %H:%M:%S\")"
   ]
  },
  {
   "cell_type": "code",
   "execution_count": null,
   "id": "7d2754ae-654b-4bca-b4eb-109cc4c56879",
   "metadata": {},
   "outputs": [],
   "source": []
  },
  {
   "cell_type": "code",
   "execution_count": null,
   "id": "ec59bdb5-1c3d-4c64-aab3-ed781759296d",
   "metadata": {},
   "outputs": [],
   "source": []
  },
  {
   "cell_type": "code",
   "execution_count": null,
   "id": "59584254-7f06-4d71-9697-bc83a94d8352",
   "metadata": {},
   "outputs": [],
   "source": []
  },
  {
   "cell_type": "code",
   "execution_count": null,
   "id": "b6131711-f921-47e3-b5ae-2b34a68384d5",
   "metadata": {},
   "outputs": [],
   "source": []
  }
 ],
 "metadata": {
  "kernelspec": {
   "display_name": "Python 3 (ipykernel)",
   "language": "python",
   "name": "python3"
  },
  "language_info": {
   "codemirror_mode": {
    "name": "ipython",
    "version": 3
   },
   "file_extension": ".py",
   "mimetype": "text/x-python",
   "name": "python",
   "nbconvert_exporter": "python",
   "pygments_lexer": "ipython3",
   "version": "3.8.10"
  }
 },
 "nbformat": 4,
 "nbformat_minor": 5
}
