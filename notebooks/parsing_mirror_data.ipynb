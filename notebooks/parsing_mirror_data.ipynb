{
 "cells": [
  {
   "cell_type": "code",
   "execution_count": 2,
   "id": "4fb6f6e4-7a56-455a-a857-afddbe14e679",
   "metadata": {},
   "outputs": [],
   "source": [
    "from veritas import io\n",
    "from pathlib import Path\n",
    "import networkx as nx"
   ]
  },
  {
   "cell_type": "code",
   "execution_count": 38,
   "id": "c2dfadac-2748-41ad-8120-3eee78e84b01",
   "metadata": {},
   "outputs": [],
   "source": [
    "mirror_article_dir = Path(\"../data/mirror\")"
   ]
  },
  {
   "cell_type": "code",
   "execution_count": 39,
   "id": "b1495702-2a08-4252-945b-906b55fb4f1c",
   "metadata": {},
   "outputs": [],
   "source": [
    "for fp in mirror_article_dir.iterdir():\n",
    "    break"
   ]
  },
  {
   "cell_type": "code",
   "execution_count": 40,
   "id": "c2e611e6-6987-43de-bcb3-ed1c7bdfb84a",
   "metadata": {},
   "outputs": [],
   "source": [
    "article = io.json_reader(fp)"
   ]
  },
  {
   "cell_type": "code",
   "execution_count": 41,
   "id": "84155fe9-e7b1-49ef-93d8-2dac73f01b0d",
   "metadata": {},
   "outputs": [
    {
     "data": {
      "text/plain": [
       "dict_keys(['content', 'digest', 'authorship', 'nft', 'version', 'originalDigest'])"
      ]
     },
     "execution_count": 41,
     "metadata": {},
     "output_type": "execute_result"
    }
   ],
   "source": [
    "article.keys()"
   ]
  },
  {
   "cell_type": "code",
   "execution_count": 3,
   "id": "ca62bf56-e44c-4bc1-b12a-002678d2853b",
   "metadata": {},
   "outputs": [],
   "source": [
    "G = nx.DiGraph()"
   ]
  },
  {
   "cell_type": "code",
   "execution_count": 7,
   "id": "47337134-3f98-4864-aee0-28fc9e6e0a9e",
   "metadata": {},
   "outputs": [],
   "source": [
    "for node, metadata in G.nodes(data=True):\n",
    "    a = 2"
   ]
  },
  {
   "cell_type": "code",
   "execution_count": 19,
   "id": "ce805047-8aea-47a3-afab-df469a0149c7",
   "metadata": {},
   "outputs": [
    {
     "data": {
      "text/plain": [
       "'0xd8e93e06a84581c10dc1f9f60ec91f0f38994f1b'"
      ]
     },
     "execution_count": 19,
     "metadata": {},
     "output_type": "execute_result"
    }
   ],
   "source": [
    "node"
   ]
  },
  {
   "cell_type": "code",
   "execution_count": null,
   "id": "3aa527ce-0118-451c-996e-c4ec57197e72",
   "metadata": {},
   "outputs": [],
   "source": []
  },
  {
   "cell_type": "code",
   "execution_count": 21,
   "id": "e949cdec-91b1-4c98-b8ca-2e2b29ae25c4",
   "metadata": {},
   "outputs": [
    {
     "data": {
      "text/plain": [
       "'0xd8e93e06a84581c10dc1f9f60ec91f0f38994f1b'"
      ]
     },
     "execution_count": 21,
     "metadata": {},
     "output_type": "execute_result"
    }
   ],
   "source": [
    "node"
   ]
  },
  {
   "cell_type": "code",
   "execution_count": 22,
   "id": "dc593244-41f3-4388-8479-6a0d02d62fe2",
   "metadata": {},
   "outputs": [
    {
     "data": {
      "text/plain": [
       "'0xd8e93e06a84581c10dc1f9f60ec91f0f38994f1b'"
      ]
     },
     "execution_count": 22,
     "metadata": {},
     "output_type": "execute_result"
    }
   ],
   "source": [
    "node"
   ]
  },
  {
   "cell_type": "code",
   "execution_count": 25,
   "id": "1b637da8-49a6-43b0-b6fb-57e0087fc356",
   "metadata": {},
   "outputs": [
    {
     "data": {
      "text/plain": [
       "False"
      ]
     },
     "execution_count": 25,
     "metadata": {},
     "output_type": "execute_result"
    }
   ],
   "source": [
    "node not in G.nodes"
   ]
  },
  {
   "cell_type": "code",
   "execution_count": 28,
   "id": "c3606d4f-5154-480d-9a92-5948e5d680df",
   "metadata": {},
   "outputs": [
    {
     "data": {
      "text/plain": [
       "50"
      ]
     },
     "execution_count": 28,
     "metadata": {},
     "output_type": "execute_result"
    }
   ],
   "source": [
    "50 % 100"
   ]
  },
  {
   "cell_type": "code",
   "execution_count": null,
   "id": "fadb279a-f36b-457f-b960-ac66e43f8d68",
   "metadata": {},
   "outputs": [],
   "source": []
  },
  {
   "cell_type": "code",
   "execution_count": null,
   "id": "191dc105-11ff-45e6-bba1-791f196c763c",
   "metadata": {},
   "outputs": [],
   "source": []
  },
  {
   "cell_type": "code",
   "execution_count": 11,
   "id": "cac97a32-917a-4860-90f8-a407596cf7be",
   "metadata": {},
   "outputs": [
    {
     "name": "stdout",
     "output_type": "stream",
     "text": [
      "False\n"
     ]
    }
   ],
   "source": [
    "if G:\n",
    "    print(True)\n",
    "else:\n",
    "    print(False)"
   ]
  },
  {
   "cell_type": "code",
   "execution_count": 6,
   "id": "5065a135-2ad1-4ef1-ace8-d2df1836f68a",
   "metadata": {},
   "outputs": [],
   "source": [
    "ether_address = articaale[\"authorship\"]"
   ]
  },
  {
   "cell_type": "code",
   "execution_count": 7,
   "id": "7d78698b-ef19-4afe-9fb8-0fb72b4e1852",
   "metadata": {},
   "outputs": [
    {
     "data": {
      "text/plain": [
       "{'contributor': '0xd8E93E06a84581c10DC1F9F60ec91f0F38994f1b',\n",
       " 'signingKey': '{\"crv\":\"P-256\",\"ext\":true,\"key_ops\":[\"verify\"],\"kty\":\"EC\",\"x\":\"9ucYYQ7KUtYgJzlCVvrt5CuJLv8omE1-PD2ojhCLKZk\",\"y\":\"GFR-lX7e7J5wm5yi6x-Vr1nXd_iGgGgukVfYUX-SZJ0\"}',\n",
       " 'signature': 'IOiZE51ndIvA7hZyvM7TozN-1763F4m5W1K3J7RH4bkuoWk_Xvvdhu_m_kTAlkK_Bxb1bpyHnZ7aKYIv6NMY-w',\n",
       " 'signingKeySignature': '0x357e8ca4cbaed190a2ab449a87d58001bcc0bea0864a08d408301c8e2e4bedc36be128ef7f9d16a825fc9f8a36501e0dc6877df20fda667f3a02c6d579eb8fc51b',\n",
       " 'signingKeyMessage': 'I authorize publishing on mirror.xyz from this device using:\\n{\"crv\":\"P-256\",\"ext\":true,\"key_ops\":[\"verify\"],\"kty\":\"EC\",\"x\":\"9ucYYQ7KUtYgJzlCVvrt5CuJLv8omE1-PD2ojhCLKZk\",\"y\":\"GFR-lX7e7J5wm5yi6x-Vr1nXd_iGgGgukVfYUX-SZJ0\"}',\n",
       " 'algorithm': {'name': 'ECDSA', 'hash': 'SHA-256'}}"
      ]
     },
     "execution_count": 7,
     "metadata": {},
     "output_type": "execute_result"
    }
   ],
   "source": [
    "ether_address"
   ]
  },
  {
   "cell_type": "code",
   "execution_count": null,
   "id": "e658f4b4-f73d-44eb-a388-0d39f606f200",
   "metadata": {},
   "outputs": [],
   "source": [
    "curl 'https://api.cybertino.io/connect/' -H 'Accept-Encoding: gzip, deflate, br' -H 'Content-Type: application/json' -H 'Accept: application/json' -H 'Connection: keep-alive' -H 'DNT: 1' -H 'Origin: https://api.cybertino.io' --data-binary '{\"query\":\"query {\\n  # ENS can also be passed as the address here to fetch idenity.\\n  identity(address: \\\"0xd8E93E06a84581c10DC1F9F60ec91f0F38994f1b\\\") {\\n    address\\n    followingCount\\n    followerCount\\n    followers {\\n      list {\\n        address\\n      }\\n    }\\n    followings {\\n      list {\\n        address\\n      }\\n    }\\n  }\\n}\\n\"}' --compressed"
   ]
  },
  {
   "cell_type": "code",
   "execution_count": null,
   "id": "b0f47c6b-1f54-491d-85ba-a6e1e8329336",
   "metadata": {},
   "outputs": [],
   "source": []
  },
  {
   "cell_type": "code",
   "execution_count": 2,
   "id": "46ea0d13-bfba-48cb-b4f6-817f00e62aba",
   "metadata": {},
   "outputs": [
    {
     "data": {
      "text/plain": [
       "dict_keys(['data'])"
      ]
     },
     "execution_count": 2,
     "metadata": {},
     "output_type": "execute_result"
    }
   ],
   "source": [
    "data.keys()"
   ]
  },
  {
   "cell_type": "code",
   "execution_count": 10,
   "id": "066ec32d-470c-405a-a703-d10f0fb8a889",
   "metadata": {},
   "outputs": [
    {
     "data": {
      "text/plain": [
       "{'list': [{'address': '0x0a7ddbe4d5637f8e53a271976545904bf7b4d23f'},\n",
       "  {'address': '0x0deadbbe97cf99388e04cc99c1ba0523c0ef284c'},\n",
       "  {'address': '0x1090529cbf3c1e774e185e817a8be27b0118d1a6'},\n",
       "  {'address': '0x1a08d0d155758d82884eec281546486a0da5600b'},\n",
       "  {'address': '0x1d64714877817f5f98aa1bf0dd02e6acc583cbfe'},\n",
       "  {'address': '0x2b49f45b80d7ad5c3af9c96b5b664a953979d16a'},\n",
       "  {'address': '0x31a18476454230c7d29f43dd54671d75e430cb03'},\n",
       "  {'address': '0x374cb27a8753520bb153906a0a34cc823cea3c3e'},\n",
       "  {'address': '0x3b304fa97efcedaec7a274c0924b35a8d983a7d2'},\n",
       "  {'address': '0x534a98eb7133e84b4795ffc9d2140d4c6ba2d676'},\n",
       "  {'address': '0x5dd2a4bad42d311a347ff60719f459c8388b62ec'},\n",
       "  {'address': '0x5fa5381ade2eec5459ce93af57b5fee7d63e6831'},\n",
       "  {'address': '0x604b79eb602ed52c814d90f353c8f10057731302'},\n",
       "  {'address': '0x7407d8ca32ef0eb76bf6d56b77d2bde5e2b3e659'},\n",
       "  {'address': '0x75ca92a3f12f0cad7c237610de7941e9ac3e60f1'},\n",
       "  {'address': '0x78c0a25ccc21604b3d117100de7c9523f53236c7'},\n",
       "  {'address': '0x8ae395b31e7fb6bf92796cf2c783744096c55a28'},\n",
       "  {'address': '0x8fc96fec9fc41a8808f68e1afcf1cb7f69011d27'},\n",
       "  {'address': '0x9349738c1491d4dddfdddc3a4cb0e3e709934c63'},\n",
       "  {'address': '0x988619a8b900465e9e3ccf80cf1cc7b79ed90071'}]}"
      ]
     },
     "execution_count": 10,
     "metadata": {},
     "output_type": "execute_result"
    }
   ],
   "source": [
    "response[\"data\"][\"identity\"][\"followers\"]"
   ]
  },
  {
   "cell_type": "code",
   "execution_count": 11,
   "id": "08f5dca5-073d-40ee-9845-aa5469bc8c7f",
   "metadata": {},
   "outputs": [],
   "source": [
    "import networkx as nx"
   ]
  },
  {
   "cell_type": "code",
   "execution_count": 13,
   "id": "c82accab-17c9-4e2c-bae9-56c247d62768",
   "metadata": {},
   "outputs": [],
   "source": [
    "G = nx.DiGraph()"
   ]
  },
  {
   "cell_type": "code",
   "execution_count": 14,
   "id": "65bf7a0e-d026-4686-b47a-d7e59ecc95d8",
   "metadata": {},
   "outputs": [],
   "source": [
    "connections = response['data']['identity']"
   ]
  },
  {
   "cell_type": "code",
   "execution_count": 15,
   "id": "1462cbde-69f0-4ab7-b450-040cb0b5eabd",
   "metadata": {},
   "outputs": [],
   "source": [
    "node = connections[\"address\"]"
   ]
  },
  {
   "cell_type": "code",
   "execution_count": 18,
   "id": "5afc6388-25ff-45a4-8eed-bccbb54e6b84",
   "metadata": {},
   "outputs": [],
   "source": [
    "G = add_connections(G, connections, node)\n"
   ]
  },
  {
   "cell_type": "code",
   "execution_count": 19,
   "id": "60503122-5a57-4e1b-a42d-74822c5d52d6",
   "metadata": {},
   "outputs": [],
   "source": [
    "for node, metadata in G.nodes(data=True):\n",
    "    if \"q\" in metadata:\n",
    "        pass\n",
    "    else:\n",
    "        break"
   ]
  },
  {
   "cell_type": "code",
   "execution_count": 25,
   "id": "199cfd5e-14f2-4ce6-a67b-f7147fcb75f1",
   "metadata": {},
   "outputs": [],
   "source": [
    "from veritas.crawlers.utils import latest_file_in_folder"
   ]
  },
  {
   "cell_type": "code",
   "execution_count": 28,
   "id": "e0d11141-c254-43d4-9e26-3cca26b4018e",
   "metadata": {},
   "outputs": [],
   "source": [
    "storage_dir = Path(\"../data/mirror\")"
   ]
  },
  {
   "cell_type": "code",
   "execution_count": 29,
   "id": "73b83952-6c46-4898-ad08-755a7a94bd55",
   "metadata": {},
   "outputs": [],
   "source": [
    "fp = latest_file_in_folder(storage_dir)"
   ]
  },
  {
   "cell_type": "code",
   "execution_count": 36,
   "id": "8f8535bb-68a2-4873-b37b-310bc3c01649",
   "metadata": {},
   "outputs": [],
   "source": [
    "after = None"
   ]
  },
  {
   "cell_type": "code",
   "execution_count": 37,
   "id": "12b269b2-d5d3-44de-a4a2-199c0d6ce05c",
   "metadata": {},
   "outputs": [
    {
     "name": "stdout",
     "output_type": "stream",
     "text": [
      "True\n"
     ]
    }
   ],
   "source": [
    "if not after:\n",
    "    print(True)"
   ]
  },
  {
   "cell_type": "code",
   "execution_count": null,
   "id": "e640adca-637d-4e5c-8e56-bc8a8b2d432f",
   "metadata": {},
   "outputs": [],
   "source": []
  },
  {
   "cell_type": "code",
   "execution_count": null,
   "id": "17b8d4fa-de8c-4d64-821b-e5f89c82b16b",
   "metadata": {},
   "outputs": [],
   "source": []
  },
  {
   "cell_type": "code",
   "execution_count": 20,
   "id": "b534a6e7-6d8a-49b2-8ef4-991a0c548c1f",
   "metadata": {},
   "outputs": [
    {
     "data": {
      "text/plain": [
       "'0x0a7ddbe4d5637f8e53a271976545904bf7b4d23f'"
      ]
     },
     "execution_count": 20,
     "metadata": {},
     "output_type": "execute_result"
    }
   ],
   "source": [
    "node"
   ]
  },
  {
   "cell_type": "code",
   "execution_count": 21,
   "id": "a74e08df-0a2f-4e3c-96de-d591ded502a9",
   "metadata": {},
   "outputs": [
    {
     "data": {
      "text/plain": [
       "{}"
      ]
     },
     "execution_count": 21,
     "metadata": {},
     "output_type": "execute_result"
    }
   ],
   "source": [
    "metadata"
   ]
  },
  {
   "cell_type": "code",
   "execution_count": 17,
   "id": "7a5e3644-ff9e-43a9-bb31-2453cdfaa68a",
   "metadata": {},
   "outputs": [],
   "source": [
    "def add_connections(G, connections, node):\n",
    "    for following in connections[\"followings\"][\"list\"]:\n",
    "        G.add_edge(node, following[\"address\"])\n",
    "\n",
    "    for follower in connections[\"followers\"][\"list\"]:\n",
    "        G.add_edge(follower[\"address\"], node)\n",
    "\n",
    "    G.nodes[node][\"q\"] = True\n",
    "    return G\n",
    "\n",
    "\n",
    "def expand_graph(G):\n",
    "    for node, metadata in G.nodes(data=True):\n",
    "        if \"q\" in metadata:\n",
    "            pass\n",
    "        else:\n",
    "            pass\n",
    "            #perform query    "
   ]
  },
  {
   "cell_type": "code",
   "execution_count": 57,
   "id": "da75e713-f531-4fe4-9d3b-097a2fa9ce1e",
   "metadata": {},
   "outputs": [
    {
     "data": {
      "text/plain": [
       "{}"
      ]
     },
     "execution_count": 57,
     "metadata": {},
     "output_type": "execute_result"
    }
   ],
   "source": [
    "G.nodes['0x5dd2a4bad42d311a347ff60719f459c8388b62ec'][\"\"]"
   ]
  },
  {
   "cell_type": "code",
   "execution_count": 64,
   "id": "fb3bd2f5-94ea-48e6-a45c-f51e7dc8675b",
   "metadata": {},
   "outputs": [],
   "source": []
  },
  {
   "cell_type": "code",
   "execution_count": 65,
   "id": "c6a2a59b-6565-400b-b2af-a51ef88649f4",
   "metadata": {},
   "outputs": [
    {
     "data": {
      "text/plain": [
       "NodeDataView({'0x0a7ddbe4d5637f8e53a271976545904bf7b4d23f': {'q': True}, '0xd8e93e06a84581c10dc1f9f60ec91f0f38994f1b': {}, '0x0deadbbe97cf99388e04cc99c1ba0523c0ef284c': {}, '0x1090529cbf3c1e774e185e817a8be27b0118d1a6': {}, '0x1a08d0d155758d82884eec281546486a0da5600b': {}, '0x1d64714877817f5f98aa1bf0dd02e6acc583cbfe': {}, '0x2b49f45b80d7ad5c3af9c96b5b664a953979d16a': {}, '0x31a18476454230c7d29f43dd54671d75e430cb03': {}, '0x374cb27a8753520bb153906a0a34cc823cea3c3e': {}, '0x3b304fa97efcedaec7a274c0924b35a8d983a7d2': {}, '0x534a98eb7133e84b4795ffc9d2140d4c6ba2d676': {}, '0x5dd2a4bad42d311a347ff60719f459c8388b62ec': {}, '0x5fa5381ade2eec5459ce93af57b5fee7d63e6831': {}, '0x604b79eb602ed52c814d90f353c8f10057731302': {}, '0x7407d8ca32ef0eb76bf6d56b77d2bde5e2b3e659': {}, '0x75ca92a3f12f0cad7c237610de7941e9ac3e60f1': {}, '0x78c0a25ccc21604b3d117100de7c9523f53236c7': {}, '0x8ae395b31e7fb6bf92796cf2c783744096c55a28': {}, '0x8fc96fec9fc41a8808f68e1afcf1cb7f69011d27': {}, '0x9349738c1491d4dddfdddc3a4cb0e3e709934c63': {}, '0x988619a8b900465e9e3ccf80cf1cc7b79ed90071': {}, '0x8891075a34b58a53dddf50b8e200211ff470a580': {}, '0x9ab9e33b39390b4b724ad998fc3bd5c75363c3a8': {}, '0xa0047366cb7dc1fb9f514913f734d8497ca71237': {}, '0xb185bf6cdf7f56fc7a6ef9ed3702745503f79aee': {}, '0xb22a9100cbefd063c4dd830a3510035dc569dca7': {}, '0xbe3d7c1c28a225c52d498ef22a6ca0616d0f4c15': {}})"
      ]
     },
     "execution_count": 65,
     "metadata": {},
     "output_type": "execute_result"
    }
   ],
   "source": [
    "G.nodes.data()"
   ]
  },
  {
   "cell_type": "code",
   "execution_count": 69,
   "id": "fcc288e4-32f0-4b46-8ab1-66b944d6ab91",
   "metadata": {},
   "outputs": [],
   "source": []
  },
  {
   "cell_type": "code",
   "execution_count": 67,
   "id": "f2adb7eb-1b97-4e53-a0a4-d10febcd0b46",
   "metadata": {},
   "outputs": [
    {
     "data": {
      "text/plain": [
       "'0x0a7ddbe4d5637f8e53a271976545904bf7b4d23f'"
      ]
     },
     "execution_count": 67,
     "metadata": {},
     "output_type": "execute_result"
    }
   ],
   "source": [
    "node"
   ]
  },
  {
   "cell_type": "code",
   "execution_count": 71,
   "id": "03bff63f-3e65-428e-9df8-2e05ded016a8",
   "metadata": {},
   "outputs": [
    {
     "data": {
      "text/plain": [
       "{'q': True}"
      ]
     },
     "execution_count": 71,
     "metadata": {},
     "output_type": "execute_result"
    }
   ],
   "source": [
    "metadata"
   ]
  },
  {
   "cell_type": "code",
   "execution_count": null,
   "id": "dc30836c-7821-491f-8076-3ce006ade76c",
   "metadata": {},
   "outputs": [],
   "source": []
  },
  {
   "cell_type": "code",
   "execution_count": null,
   "id": "d43ef9f0-3b8b-4060-9bc7-1c516b93601a",
   "metadata": {},
   "outputs": [],
   "source": [
    "0xd8E93E06a84581c10DC1F9F60ec91f0F38994f1b"
   ]
  },
  {
   "cell_type": "code",
   "execution_count": 55,
   "id": "61b30040-cd0a-44bb-955f-6c5b8095a81b",
   "metadata": {},
   "outputs": [
    {
     "data": {
      "text/plain": [
       "'0xd8e93e06a84581c10dc1f9f60ec91f0f38994f1b'"
      ]
     },
     "execution_count": 55,
     "metadata": {},
     "output_type": "execute_result"
    }
   ],
   "source": [
    "node"
   ]
  },
  {
   "cell_type": "code",
   "execution_count": 52,
   "id": "259a81c3-9b40-468e-ae5a-5f0e1e3eea89",
   "metadata": {},
   "outputs": [
    {
     "data": {
      "text/plain": [
       "{'address': '0x988619a8b900465e9e3ccf80cf1cc7b79ed90071'}"
      ]
     },
     "execution_count": 52,
     "metadata": {},
     "output_type": "execute_result"
    }
   ],
   "source": [
    "follower"
   ]
  },
  {
   "cell_type": "code",
   "execution_count": 53,
   "id": "695303c7-2d38-4bf1-bdf0-9eed92737105",
   "metadata": {},
   "outputs": [
    {
     "data": {
      "image/png": "[encoded data removed]",
      "text/plain": [
       "<Figure size 432x288 with 1 Axes>"
      ]
     },
     "metadata": {},
     "output_type": "display_data"
    }
   ],
   "source": [
    "nx.draw(G)"
   ]
  },
  {
   "cell_type": "code",
   "execution_count": 41,
   "id": "3c87a8a6-632d-4179-a0ae-7f261ebcf425",
   "metadata": {},
   "outputs": [
    {
     "data": {
      "text/plain": [
       "[{'address': '0x0a7ddbe4d5637f8e53a271976545904bf7b4d23f'},\n",
       " {'address': '0x0deadbbe97cf99388e04cc99c1ba0523c0ef284c'},\n",
       " {'address': '0x1d64714877817f5f98aa1bf0dd02e6acc583cbfe'},\n",
       " {'address': '0x2b49f45b80d7ad5c3af9c96b5b664a953979d16a'},\n",
       " {'address': '0x31a18476454230c7d29f43dd54671d75e430cb03'},\n",
       " {'address': '0x374cb27a8753520bb153906a0a34cc823cea3c3e'},\n",
       " {'address': '0x3b304fa97efcedaec7a274c0924b35a8d983a7d2'},\n",
       " {'address': '0x534a98eb7133e84b4795ffc9d2140d4c6ba2d676'},\n",
       " {'address': '0x5dd2a4bad42d311a347ff60719f459c8388b62ec'},\n",
       " {'address': '0x5fa5381ade2eec5459ce93af57b5fee7d63e6831'},\n",
       " {'address': '0x604b79eb602ed52c814d90f353c8f10057731302'},\n",
       " {'address': '0x8891075a34b58a53dddf50b8e200211ff470a580'},\n",
       " {'address': '0x8ae395b31e7fb6bf92796cf2c783744096c55a28'},\n",
       " {'address': '0x9349738c1491d4dddfdddc3a4cb0e3e709934c63'},\n",
       " {'address': '0x988619a8b900465e9e3ccf80cf1cc7b79ed90071'},\n",
       " {'address': '0x9ab9e33b39390b4b724ad998fc3bd5c75363c3a8'},\n",
       " {'address': '0xa0047366cb7dc1fb9f514913f734d8497ca71237'},\n",
       " {'address': '0xb185bf6cdf7f56fc7a6ef9ed3702745503f79aee'},\n",
       " {'address': '0xb22a9100cbefd063c4dd830a3510035dc569dca7'},\n",
       " {'address': '0xbe3d7c1c28a225c52d498ef22a6ca0616d0f4c15'}]"
      ]
     },
     "execution_count": 41,
     "metadata": {},
     "output_type": "execute_result"
    }
   ],
   "source": [
    "connections[\"followings\"][\"list\"]"
   ]
  },
  {
   "cell_type": "code",
   "execution_count": 42,
   "id": "be3e2d28-749b-484e-b90a-1421ecea9826",
   "metadata": {},
   "outputs": [
    {
     "data": {
      "text/plain": [
       "[{'address': '0x0a7ddbe4d5637f8e53a271976545904bf7b4d23f'},\n",
       " {'address': '0x0deadbbe97cf99388e04cc99c1ba0523c0ef284c'},\n",
       " {'address': '0x1090529cbf3c1e774e185e817a8be27b0118d1a6'},\n",
       " {'address': '0x1a08d0d155758d82884eec281546486a0da5600b'},\n",
       " {'address': '0x1d64714877817f5f98aa1bf0dd02e6acc583cbfe'},\n",
       " {'address': '0x2b49f45b80d7ad5c3af9c96b5b664a953979d16a'},\n",
       " {'address': '0x31a18476454230c7d29f43dd54671d75e430cb03'},\n",
       " {'address': '0x374cb27a8753520bb153906a0a34cc823cea3c3e'},\n",
       " {'address': '0x3b304fa97efcedaec7a274c0924b35a8d983a7d2'},\n",
       " {'address': '0x534a98eb7133e84b4795ffc9d2140d4c6ba2d676'},\n",
       " {'address': '0x5dd2a4bad42d311a347ff60719f459c8388b62ec'},\n",
       " {'address': '0x5fa5381ade2eec5459ce93af57b5fee7d63e6831'},\n",
       " {'address': '0x604b79eb602ed52c814d90f353c8f10057731302'},\n",
       " {'address': '0x7407d8ca32ef0eb76bf6d56b77d2bde5e2b3e659'},\n",
       " {'address': '0x75ca92a3f12f0cad7c237610de7941e9ac3e60f1'},\n",
       " {'address': '0x78c0a25ccc21604b3d117100de7c9523f53236c7'},\n",
       " {'address': '0x8ae395b31e7fb6bf92796cf2c783744096c55a28'},\n",
       " {'address': '0x8fc96fec9fc41a8808f68e1afcf1cb7f69011d27'},\n",
       " {'address': '0x9349738c1491d4dddfdddc3a4cb0e3e709934c63'},\n",
       " {'address': '0x988619a8b900465e9e3ccf80cf1cc7b79ed90071'}]"
      ]
     },
     "execution_count": 42,
     "metadata": {},
     "output_type": "execute_result"
    }
   ],
   "source": [
    "connections[\"followers\"][\"list\"]"
   ]
  },
  {
   "cell_type": "code",
   "execution_count": 23,
   "id": "16644040-a4ab-4abe-81c1-86b6843d9f45",
   "metadata": {},
   "outputs": [
    {
     "data": {
      "text/plain": [
       "'0xd8e93e06a84581c10dc1f9f60ec91f0f38994f1b'"
      ]
     },
     "execution_count": 23,
     "metadata": {},
     "output_type": "execute_result"
    }
   ],
   "source": [
    "G.add_edge(node, "
   ]
  },
  {
   "cell_type": "code",
   "execution_count": 30,
   "id": "3de09728-011c-4f88-9000-6ad6cfd7af27",
   "metadata": {},
   "outputs": [
    {
     "data": {
      "text/plain": [
       "'0x0a7ddbe4d5637f8e53a271976545904bf7b4d23f'"
      ]
     },
     "execution_count": 30,
     "metadata": {},
     "output_type": "execute_result"
    }
   ],
   "source": [
    "follower[\"address\"]"
   ]
  },
  {
   "cell_type": "code",
   "execution_count": 28,
   "id": "09ff7d58-cd55-42f1-a3df-68306eb12e2e",
   "metadata": {},
   "outputs": [
    {
     "data": {
      "text/plain": [
       "[{'address': '0x0a7ddbe4d5637f8e53a271976545904bf7b4d23f'},\n",
       " {'address': '0x0deadbbe97cf99388e04cc99c1ba0523c0ef284c'},\n",
       " {'address': '0x1090529cbf3c1e774e185e817a8be27b0118d1a6'},\n",
       " {'address': '0x1a08d0d155758d82884eec281546486a0da5600b'},\n",
       " {'address': '0x1d64714877817f5f98aa1bf0dd02e6acc583cbfe'},\n",
       " {'address': '0x2b49f45b80d7ad5c3af9c96b5b664a953979d16a'},\n",
       " {'address': '0x31a18476454230c7d29f43dd54671d75e430cb03'},\n",
       " {'address': '0x374cb27a8753520bb153906a0a34cc823cea3c3e'},\n",
       " {'address': '0x3b304fa97efcedaec7a274c0924b35a8d983a7d2'},\n",
       " {'address': '0x534a98eb7133e84b4795ffc9d2140d4c6ba2d676'},\n",
       " {'address': '0x5dd2a4bad42d311a347ff60719f459c8388b62ec'},\n",
       " {'address': '0x5fa5381ade2eec5459ce93af57b5fee7d63e6831'},\n",
       " {'address': '0x604b79eb602ed52c814d90f353c8f10057731302'},\n",
       " {'address': '0x7407d8ca32ef0eb76bf6d56b77d2bde5e2b3e659'},\n",
       " {'address': '0x75ca92a3f12f0cad7c237610de7941e9ac3e60f1'},\n",
       " {'address': '0x78c0a25ccc21604b3d117100de7c9523f53236c7'},\n",
       " {'address': '0x8ae395b31e7fb6bf92796cf2c783744096c55a28'},\n",
       " {'address': '0x8fc96fec9fc41a8808f68e1afcf1cb7f69011d27'},\n",
       " {'address': '0x9349738c1491d4dddfdddc3a4cb0e3e709934c63'},\n",
       " {'address': '0x988619a8b900465e9e3ccf80cf1cc7b79ed90071'}]"
      ]
     },
     "execution_count": 28,
     "metadata": {},
     "output_type": "execute_result"
    }
   ],
   "source": [
    "G. connections[\"followers\"][\"list\"]"
   ]
  },
  {
   "cell_type": "code",
   "execution_count": null,
   "id": "2069da83-7f14-4bb0-a61e-297d30d84281",
   "metadata": {},
   "outputs": [],
   "source": []
  },
  {
   "cell_type": "code",
   "execution_count": null,
   "id": "874aed65-14e7-4b66-b87b-0a53ae560552",
   "metadata": {},
   "outputs": [],
   "source": []
  },
  {
   "cell_type": "code",
   "execution_count": 14,
   "id": "d6b497ab-8837-4ce4-8075-5ad5af47614f",
   "metadata": {},
   "outputs": [
    {
     "data": {
      "text/plain": [
       "{'address': '0xd8e93e06a84581c10dc1f9f60ec91f0f38994f1b',\n",
       " 'followingCount': 23,\n",
       " 'followerCount': 31,\n",
       " 'followers': {'list': [{'address': '0x0a7ddbe4d5637f8e53a271976545904bf7b4d23f'},\n",
       "   {'address': '0x0deadbbe97cf99388e04cc99c1ba0523c0ef284c'},\n",
       "   {'address': '0x1090529cbf3c1e774e185e817a8be27b0118d1a6'},\n",
       "   {'address': '0x1a08d0d155758d82884eec281546486a0da5600b'},\n",
       "   {'address': '0x1d64714877817f5f98aa1bf0dd02e6acc583cbfe'},\n",
       "   {'address': '0x2b49f45b80d7ad5c3af9c96b5b664a953979d16a'},\n",
       "   {'address': '0x31a18476454230c7d29f43dd54671d75e430cb03'},\n",
       "   {'address': '0x374cb27a8753520bb153906a0a34cc823cea3c3e'},\n",
       "   {'address': '0x3b304fa97efcedaec7a274c0924b35a8d983a7d2'},\n",
       "   {'address': '0x534a98eb7133e84b4795ffc9d2140d4c6ba2d676'},\n",
       "   {'address': '0x5dd2a4bad42d311a347ff60719f459c8388b62ec'},\n",
       "   {'address': '0x5fa5381ade2eec5459ce93af57b5fee7d63e6831'},\n",
       "   {'address': '0x604b79eb602ed52c814d90f353c8f10057731302'},\n",
       "   {'address': '0x7407d8ca32ef0eb76bf6d56b77d2bde5e2b3e659'},\n",
       "   {'address': '0x75ca92a3f12f0cad7c237610de7941e9ac3e60f1'},\n",
       "   {'address': '0x78c0a25ccc21604b3d117100de7c9523f53236c7'},\n",
       "   {'address': '0x8ae395b31e7fb6bf92796cf2c783744096c55a28'},\n",
       "   {'address': '0x8fc96fec9fc41a8808f68e1afcf1cb7f69011d27'},\n",
       "   {'address': '0x9349738c1491d4dddfdddc3a4cb0e3e709934c63'},\n",
       "   {'address': '0x988619a8b900465e9e3ccf80cf1cc7b79ed90071'}]},\n",
       " 'followings': {'list': [{'address': '0x0a7ddbe4d5637f8e53a271976545904bf7b4d23f'},\n",
       "   {'address': '0x0deadbbe97cf99388e04cc99c1ba0523c0ef284c'},\n",
       "   {'address': '0x1d64714877817f5f98aa1bf0dd02e6acc583cbfe'},\n",
       "   {'address': '0x2b49f45b80d7ad5c3af9c96b5b664a953979d16a'},\n",
       "   {'address': '0x31a18476454230c7d29f43dd54671d75e430cb03'},\n",
       "   {'address': '0x374cb27a8753520bb153906a0a34cc823cea3c3e'},\n",
       "   {'address': '0x3b304fa97efcedaec7a274c0924b35a8d983a7d2'},\n",
       "   {'address': '0x534a98eb7133e84b4795ffc9d2140d4c6ba2d676'},\n",
       "   {'address': '0x5dd2a4bad42d311a347ff60719f459c8388b62ec'},\n",
       "   {'address': '0x5fa5381ade2eec5459ce93af57b5fee7d63e6831'},\n",
       "   {'address': '0x604b79eb602ed52c814d90f353c8f10057731302'},\n",
       "   {'address': '0x8891075a34b58a53dddf50b8e200211ff470a580'},\n",
       "   {'address': '0x8ae395b31e7fb6bf92796cf2c783744096c55a28'},\n",
       "   {'address': '0x9349738c1491d4dddfdddc3a4cb0e3e709934c63'},\n",
       "   {'address': '0x988619a8b900465e9e3ccf80cf1cc7b79ed90071'},\n",
       "   {'address': '0x9ab9e33b39390b4b724ad998fc3bd5c75363c3a8'},\n",
       "   {'address': '0xa0047366cb7dc1fb9f514913f734d8497ca71237'},\n",
       "   {'address': '0xb185bf6cdf7f56fc7a6ef9ed3702745503f79aee'},\n",
       "   {'address': '0xb22a9100cbefd063c4dd830a3510035dc569dca7'},\n",
       "   {'address': '0xbe3d7c1c28a225c52d498ef22a6ca0616d0f4c15'}]}}"
      ]
     },
     "execution_count": 14,
     "metadata": {},
     "output_type": "execute_result"
    }
   ],
   "source": [
    "connections[]"
   ]
  },
  {
   "cell_type": "code",
   "execution_count": null,
   "id": "2e402d81-9b0a-4a97-9a88-a782331318dc",
   "metadata": {},
   "outputs": [],
   "source": []
  },
  {
   "cell_type": "code",
   "execution_count": null,
   "id": "64931f48-4739-4e26-a0b3-c2ef70ebbbfc",
   "metadata": {},
   "outputs": [],
   "source": []
  },
  {
   "cell_type": "code",
   "execution_count": null,
   "id": "34723e25-5ef5-4e5d-ac55-fd07e68f611e",
   "metadata": {},
   "outputs": [],
   "source": []
  },
  {
   "cell_type": "code",
   "execution_count": null,
   "id": "079707b2-2663-450c-9e13-411d56cacd45",
   "metadata": {},
   "outputs": [],
   "source": []
  },
  {
   "cell_type": "code",
   "execution_count": 12,
   "id": "8896402f-e04b-46a3-a403-00c5c71cd030",
   "metadata": {},
   "outputs": [],
   "source": [
    "response = {\n",
    "  \"data\": {\n",
    "    \"identity\": {\n",
    "      \"address\": \"0xd8e93e06a84581c10dc1f9f60ec91f0f38994f1b\",\n",
    "      \"followingCount\": 23,\n",
    "      \"followerCount\": 31,\n",
    "      \"followers\": {\n",
    "        \"list\": [\n",
    "          {\n",
    "            \"address\": \"0x0a7ddbe4d5637f8e53a271976545904bf7b4d23f\"\n",
    "          },\n",
    "          {\n",
    "            \"address\": \"0x0deadbbe97cf99388e04cc99c1ba0523c0ef284c\"\n",
    "          },\n",
    "          {\n",
    "            \"address\": \"0x1090529cbf3c1e774e185e817a8be27b0118d1a6\"\n",
    "          },\n",
    "          {\n",
    "            \"address\": \"0x1a08d0d155758d82884eec281546486a0da5600b\"\n",
    "          },\n",
    "          {\n",
    "            \"address\": \"0x1d64714877817f5f98aa1bf0dd02e6acc583cbfe\"\n",
    "          },\n",
    "          {\n",
    "            \"address\": \"0x2b49f45b80d7ad5c3af9c96b5b664a953979d16a\"\n",
    "          },\n",
    "          {\n",
    "            \"address\": \"0x31a18476454230c7d29f43dd54671d75e430cb03\"\n",
    "          },\n",
    "          {\n",
    "            \"address\": \"0x374cb27a8753520bb153906a0a34cc823cea3c3e\"\n",
    "          },\n",
    "          {\n",
    "            \"address\": \"0x3b304fa97efcedaec7a274c0924b35a8d983a7d2\"\n",
    "          },\n",
    "          {\n",
    "            \"address\": \"0x534a98eb7133e84b4795ffc9d2140d4c6ba2d676\"\n",
    "          },\n",
    "          {\n",
    "            \"address\": \"0x5dd2a4bad42d311a347ff60719f459c8388b62ec\"\n",
    "          },\n",
    "          {\n",
    "            \"address\": \"0x5fa5381ade2eec5459ce93af57b5fee7d63e6831\"\n",
    "          },\n",
    "          {\n",
    "            \"address\": \"0x604b79eb602ed52c814d90f353c8f10057731302\"\n",
    "          },\n",
    "          {\n",
    "            \"address\": \"0x7407d8ca32ef0eb76bf6d56b77d2bde5e2b3e659\"\n",
    "          },\n",
    "          {\n",
    "            \"address\": \"0x75ca92a3f12f0cad7c237610de7941e9ac3e60f1\"\n",
    "          },\n",
    "          {\n",
    "            \"address\": \"0x78c0a25ccc21604b3d117100de7c9523f53236c7\"\n",
    "          },\n",
    "          {\n",
    "            \"address\": \"0x8ae395b31e7fb6bf92796cf2c783744096c55a28\"\n",
    "          },\n",
    "          {\n",
    "            \"address\": \"0x8fc96fec9fc41a8808f68e1afcf1cb7f69011d27\"\n",
    "          },\n",
    "          {\n",
    "            \"address\": \"0x9349738c1491d4dddfdddc3a4cb0e3e709934c63\"\n",
    "          },\n",
    "          {\n",
    "            \"address\": \"0x988619a8b900465e9e3ccf80cf1cc7b79ed90071\"\n",
    "          }\n",
    "        ]\n",
    "      },\n",
    "      \"followings\": {\n",
    "        \"list\": [\n",
    "          {\n",
    "            \"address\": \"0x0a7ddbe4d5637f8e53a271976545904bf7b4d23f\"\n",
    "          },\n",
    "          {\n",
    "            \"address\": \"0x0deadbbe97cf99388e04cc99c1ba0523c0ef284c\"\n",
    "          },\n",
    "          {\n",
    "            \"address\": \"0x1d64714877817f5f98aa1bf0dd02e6acc583cbfe\"\n",
    "          },\n",
    "          {\n",
    "            \"address\": \"0x2b49f45b80d7ad5c3af9c96b5b664a953979d16a\"\n",
    "          },\n",
    "          {\n",
    "            \"address\": \"0x31a18476454230c7d29f43dd54671d75e430cb03\"\n",
    "          },\n",
    "          {\n",
    "            \"address\": \"0x374cb27a8753520bb153906a0a34cc823cea3c3e\"\n",
    "          },\n",
    "          {\n",
    "            \"address\": \"0x3b304fa97efcedaec7a274c0924b35a8d983a7d2\"\n",
    "          },\n",
    "          {\n",
    "            \"address\": \"0x534a98eb7133e84b4795ffc9d2140d4c6ba2d676\"\n",
    "          },\n",
    "          {\n",
    "            \"address\": \"0x5dd2a4bad42d311a347ff60719f459c8388b62ec\"\n",
    "          },\n",
    "          {\n",
    "            \"address\": \"0x5fa5381ade2eec5459ce93af57b5fee7d63e6831\"\n",
    "          },\n",
    "          {\n",
    "            \"address\": \"0x604b79eb602ed52c814d90f353c8f10057731302\"\n",
    "          },\n",
    "          {\n",
    "            \"address\": \"0x8891075a34b58a53dddf50b8e200211ff470a580\"\n",
    "          },\n",
    "          {\n",
    "            \"address\": \"0x8ae395b31e7fb6bf92796cf2c783744096c55a28\"\n",
    "          },\n",
    "          {\n",
    "            \"address\": \"0x9349738c1491d4dddfdddc3a4cb0e3e709934c63\"\n",
    "          },\n",
    "          {\n",
    "            \"address\": \"0x988619a8b900465e9e3ccf80cf1cc7b79ed90071\"\n",
    "          },\n",
    "          {\n",
    "            \"address\": \"0x9ab9e33b39390b4b724ad998fc3bd5c75363c3a8\"\n",
    "          },\n",
    "          {\n",
    "            \"address\": \"0xa0047366cb7dc1fb9f514913f734d8497ca71237\"\n",
    "          },\n",
    "          {\n",
    "            \"address\": \"0xb185bf6cdf7f56fc7a6ef9ed3702745503f79aee\"\n",
    "          },\n",
    "          {\n",
    "            \"address\": \"0xb22a9100cbefd063c4dd830a3510035dc569dca7\"\n",
    "          },\n",
    "          {\n",
    "            \"address\": \"0xbe3d7c1c28a225c52d498ef22a6ca0616d0f4c15\"\n",
    "          }\n",
    "        ]\n",
    "      }\n",
    "    }\n",
    "  }\n",
    "}"
   ]
  },
  {
   "cell_type": "code",
   "execution_count": null,
   "id": "2b03878e-ca98-4011-a16a-d775eda718a0",
   "metadata": {},
   "outputs": [],
   "source": []
  },
  {
   "cell_type": "code",
   "execution_count": null,
   "id": "5856fc49-c751-430c-bdc5-e80c76aa2a7d",
   "metadata": {},
   "outputs": [],
   "source": []
  },
  {
   "cell_type": "code",
   "execution_count": null,
   "id": "957a62af-03e6-4635-84bc-3e1c0ed31b17",
   "metadata": {},
   "outputs": [],
   "source": []
  },
  {
   "cell_type": "code",
   "execution_count": null,
   "id": "65e627d4-9fe5-4878-9af0-bc31a0c70837",
   "metadata": {},
   "outputs": [],
   "source": []
  },
  {
   "cell_type": "code",
   "execution_count": null,
   "id": "e72d4dad-883c-49eb-88fc-7ca27223d096",
   "metadata": {},
   "outputs": [],
   "source": []
  },
  {
   "cell_type": "code",
   "execution_count": null,
   "id": "a30e63cf-8c11-495c-ae16-13282e5e1a05",
   "metadata": {},
   "outputs": [],
   "source": []
  },
  {
   "cell_type": "code",
   "execution_count": null,
   "id": "5174c8c8-cb01-452c-a6ed-0790a11487d7",
   "metadata": {},
   "outputs": [],
   "source": []
  },
  {
   "cell_type": "code",
   "execution_count": null,
   "id": "87567746-f3f4-45a2-8059-d00f0c7ed8f1",
   "metadata": {},
   "outputs": [],
   "source": []
  },
  {
   "cell_type": "code",
   "execution_count": null,
   "id": "8e7b066a-7edc-48e8-9483-a7f856e2f27f",
   "metadata": {},
   "outputs": [],
   "source": []
  },
  {
   "cell_type": "code",
   "execution_count": null,
   "id": "1e08144e-ef44-4e7b-8f82-19d12cca71ab",
   "metadata": {},
   "outputs": [],
   "source": []
  },
  {
   "cell_type": "code",
   "execution_count": null,
   "id": "7edf586d-7358-4ce2-8534-62e0a1c4bee8",
   "metadata": {},
   "outputs": [],
   "source": []
  },
  {
   "cell_type": "code",
   "execution_count": null,
   "id": "25ea3699-8945-40b2-9edf-4059e532e081",
   "metadata": {},
   "outputs": [],
   "source": []
  },
  {
   "cell_type": "code",
   "execution_count": null,
   "id": "be652295-2039-4689-882a-0aeaf9c125cd",
   "metadata": {},
   "outputs": [],
   "source": []
  },
  {
   "cell_type": "code",
   "execution_count": null,
   "id": "f04e5997-38c6-4acd-86f8-d202f8a3cc17",
   "metadata": {},
   "outputs": [],
   "source": []
  },
  {
   "cell_type": "code",
   "execution_count": null,
   "id": "3f9d1e0a-3947-464c-b1d5-ff0074e61404",
   "metadata": {},
   "outputs": [],
   "source": []
  }
 ],
 "metadata": {
  "kernelspec": {
   "display_name": "Python 3 (ipykernel)",
   "language": "python",
   "name": "python3"
  },
  "language_info": {
   "codemirror_mode": {
    "name": "ipython",
    "version": 3
   },
   "file_extension": ".py",
   "mimetype": "text/x-python",
   "name": "python",
   "nbconvert_exporter": "python",
   "pygments_lexer": "ipython3",
   "version": "3.9.7"
  }
 },
 "nbformat": 4,
 "nbformat_minor": 5
}
