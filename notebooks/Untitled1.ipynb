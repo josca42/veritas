{
 "cells": [
  {
   "cell_type": "code",
   "execution_count": 3,
   "id": "c190e8aa-0f6d-480f-8abe-ad8fe87a8643",
   "metadata": {},
   "outputs": [],
   "source": [
    "from veritas import io\n",
    "from pathlib import Path"
   ]
  },
  {
   "cell_type": "code",
   "execution_count": 4,
   "id": "73403f3e-aaee-452d-8fa6-63933b218aa5",
   "metadata": {},
   "outputs": [],
   "source": [
    "data_dir = Path(\"../data/mirror/\")"
   ]
  },
  {
   "cell_type": "code",
   "execution_count": 34,
   "id": "1c28d53b-fafe-46ba-b939-f8b3a809cff5",
   "metadata": {},
   "outputs": [
    {
     "name": "stdout",
     "output_type": "stream",
     "text": [
      "../data/mirror/HyP7Lt3fD-y94aapUsoc9vmdjIZ-sVHPRa9bqDdealk.json.lz4\n",
      "../data/mirror/RPmbVKDikxR9zbdNv0h7b6u1oh6qPrQx2zqIdezTTpc.json.lz4\n"
     ]
    }
   ],
   "source": [
    "t = 0\n",
    "for fp in data_dir.iterdir():\n",
    "    print(fp)\n",
    "    if \".lz4\" in fp.suffix:\n",
    "        article = io.json_reader(fp)\n",
    "    \n",
    "    t += 1\n",
    "    if t == 2:\n",
    "        break"
   ]
  },
  {
   "cell_type": "code",
   "execution_count": 35,
   "id": "20051b89-0f33-4bab-b293-e34c1186a5e5",
   "metadata": {},
   "outputs": [
    {
     "data": {
      "text/plain": [
       "{'content': {'body': 'Do you see events, e.g. that you feel happy, relaxed and motivated today? Or do you see all parts, like that you went skiing yesterday, early to be and are excited to fly to  EthDenver tomorrow?  \\n  \\n System thinking methods make it possible for you to see how these parts or events are interconnected via feedback loops that result in your daily mood. \\n\\nUnderstanding a system, and its feedback loops, allow you to tackle the root problems.  \\n  \\n There are several methodologies you can apply to enhance your system thinking: \\n\\n* A **Connected Circle Diagram**, to identify key variables and how they influence one another. Start by making a list of the elements in your system. Then write them around a circle and connect time. \\n* A **Causal Loop Diagram** allows visualizing causal loop relationships - thus explains how changing one part of the system changes another one. \\n* **Stock and Flow Diagram**, to represent accumulations (in stocks) and input/outputs (flows)\\n* **Change-over-time Graphs,** make the system’s behaviour more visible. \\n\\nSystem thinking can be applied to any kind of system. An interesting example is to apply it to biodiversity, where you look at the network of all life on earth. From genes, individuals, species, ecosystems together with the ecological, evolutionary and cultural processes that sustain them. \\n\\nSystem thinking finds also application in the development of web3 ecosystems. ',\n",
       "  'timestamp': 1644486972,\n",
       "  'title': 'System Thinking '},\n",
       " 'digest': 'QBMItCBS2dgv-qyQehrePYf8XV-ICkuMJ6oQBzhVAg8',\n",
       " 'authorship': {'contributor': '0xC534C0Ef2f4e46e3120edD7E925d06A0Ba37Bf6A',\n",
       "  'signingKey': '{\"crv\":\"P-256\",\"ext\":true,\"key_ops\":[\"verify\"],\"kty\":\"EC\",\"x\":\"t0FpfrgUw5kPQf-BUUs9JehbcDrdmc75HurGOe5dJ2U\",\"y\":\"YMVdbWFPbj4o8lI53sMfi9j-pOW-7HYu0sgcs5-BWDE\"}',\n",
       "  'signature': '5jrQeiL8Szv7TM5Mlc8UKK3HJN8R-FMGb8zeA6r6OFp5-ovL08As1Pf9tfmkp2N6FjNNHHQ2E4sKy0NS2cxjHA',\n",
       "  'signingKeySignature': '0x834b9e2df291e254030b72c84e2ffd0bd6fd9cfe8d2ce64f33e8057602269a78018ad090cdbd891b68ab9e17eb4f643206e982811bae7986e3d4caa02ff248191b',\n",
       "  'signingKeyMessage': 'I authorize publishing on mirror.xyz from this device using:\\n{\"crv\":\"P-256\",\"ext\":true,\"key_ops\":[\"verify\"],\"kty\":\"EC\",\"x\":\"t0FpfrgUw5kPQf-BUUs9JehbcDrdmc75HurGOe5dJ2U\",\"y\":\"YMVdbWFPbj4o8lI53sMfi9j-pOW-7HYu0sgcs5-BWDE\"}',\n",
       "  'algorithm': {'name': 'ECDSA', 'hash': 'SHA-256'}},\n",
       " 'nft': {},\n",
       " 'version': '12-21-2020',\n",
       " 'originalDigest': 'QBMItCBS2dgv-qyQehrePYf8XV-ICkuMJ6oQBzhVAg8'}"
      ]
     },
     "execution_count": 35,
     "metadata": {},
     "output_type": "execute_result"
    }
   ],
   "source": [
    "article\n",
    "    "
   ]
  },
  {
   "cell_type": "code",
   "execution_count": null,
   "id": "72d1c449-80fe-4514-8238-a7e0b5d36787",
   "metadata": {},
   "outputs": [],
   "source": []
  },
  {
   "cell_type": "code",
   "execution_count": null,
   "id": "b268acc0-b1b8-447b-9aa9-42b07dd21ea3",
   "metadata": {},
   "outputs": [],
   "source": []
  },
  {
   "cell_type": "code",
   "execution_count": null,
   "id": "c4295ec4-80c8-42a7-8e96-d19afc6fd535",
   "metadata": {},
   "outputs": [],
   "source": []
  },
  {
   "cell_type": "code",
   "execution_count": null,
   "id": "dddec571-b2a3-412d-9cca-9770660f0137",
   "metadata": {},
   "outputs": [],
   "source": []
  },
  {
   "cell_type": "code",
   "execution_count": null,
   "id": "785b1579-5114-45fc-a451-7650d28dc549",
   "metadata": {},
   "outputs": [],
   "source": []
  },
  {
   "cell_type": "code",
   "execution_count": null,
   "id": "d31371e1-ab96-46cd-9032-cb58b2c969c3",
   "metadata": {},
   "outputs": [],
   "source": []
  }
 ],
 "metadata": {
  "kernelspec": {
   "display_name": "Python 3 (ipykernel)",
   "language": "python",
   "name": "python3"
  },
  "language_info": {
   "codemirror_mode": {
    "name": "ipython",
    "version": 3
   },
   "file_extension": ".py",
   "mimetype": "text/x-python",
   "name": "python",
   "nbconvert_exporter": "python",
   "pygments_lexer": "ipython3",
   "version": "3.9.7"
  }
 },
 "nbformat": 4,
 "nbformat_minor": 5
}
