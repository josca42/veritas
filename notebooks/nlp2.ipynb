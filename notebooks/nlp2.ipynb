{
 "cells": [
  {
   "cell_type": "code",
   "execution_count": 52,
   "id": "0a57b779-f6b3-4eac-8574-66f2ae162b6f",
   "metadata": {},
   "outputs": [],
   "source": [
    "from transformers import pipeline\n",
    "from pathlib import Path\n",
    "from veritas import io\n",
    "import numpy as np\n",
    "from sentence_transformers import SentenceTransformer\n",
    "from transformers import pipeline\n",
    "from flair.data import Sentence\n",
    "from flair.models import SequenceTagger\n"
   ]
  },
  {
   "cell_type": "code",
   "execution_count": 3,
   "id": "0ec6302b-4765-4f00-95e3-a6476611c815",
   "metadata": {},
   "outputs": [],
   "source": [
    "articles_dir = Path(\"../data/mirror/\")\n",
    "for i, fp in enumerate(articles_dir.iterdir()):\n",
    "    \n",
    "    article = io.json_reader(fp)\n",
    "    if i == 215:\n",
    "        break"
   ]
  },
  {
   "cell_type": "code",
   "execution_count": 4,
   "id": "bf4bf778-6c64-479f-b4a5-0226515e9458",
   "metadata": {},
   "outputs": [],
   "source": [
    "text = article[\"content\"][\"body\"]"
   ]
  },
  {
   "cell_type": "code",
   "execution_count": 46,
   "id": "550da486-4fca-427b-af64-a8811a546efb",
   "metadata": {},
   "outputs": [],
   "source": [
    "model = SentenceTransformer('sentence-transformers/allenai-specter')"
   ]
  },
  {
   "cell_type": "code",
   "execution_count": 47,
   "id": "8c27c03a-1862-47f2-9f34-398cfb46c93e",
   "metadata": {},
   "outputs": [],
   "source": [
    "embedding = model.encode(text)"
   ]
  },
  {
   "cell_type": "code",
   "execution_count": 50,
   "id": "0c30e061-0821-4367-bfec-b8678b95bdfa",
   "metadata": {},
   "outputs": [
    {
     "name": "stderr",
     "output_type": "stream",
     "text": [
      "No model was supplied, defaulted to dbmdz/bert-large-cased-finetuned-conll03-english (https://huggingface.co/dbmdz/bert-large-cased-finetuned-conll03-english)\n"
     ]
    }
   ],
   "source": [
    "ner = pipeline(\"ner\", model=\"facebook/bart-large-cnn\")"
   ]
  },
  {
   "cell_type": "code",
   "execution_count": 12,
   "id": "328de215-1350-4372-a688-f4b086d16ebd",
   "metadata": {},
   "outputs": [],
   "source": [
    "\n",
    "embedding = model.encode(text)"
   ]
  },
  {
   "cell_type": "code",
   "execution_count": 54,
   "id": "079dfe41-4209-41e0-8615-0da48fb8e385",
   "metadata": {},
   "outputs": [
    {
     "ename": "NameError",
     "evalue": "name 'tagger' is not defined",
     "output_type": "error",
     "traceback": [
      "\u001b[0;31m---------------------------------------------------------------------------\u001b[0m",
      "\u001b[0;31mNameError\u001b[0m                                 Traceback (most recent call last)",
      "Input \u001b[0;32mIn [54]\u001b[0m, in \u001b[0;36m<module>\u001b[0;34m\u001b[0m\n\u001b[1;32m      2\u001b[0m sentence \u001b[38;5;241m=\u001b[39m Sentence(text)\n\u001b[1;32m      4\u001b[0m \u001b[38;5;66;03m# predict NER tags\u001b[39;00m\n\u001b[0;32m----> 5\u001b[0m \u001b[43mtagger\u001b[49m\u001b[38;5;241m.\u001b[39mpredict(sentence)\n",
      "\u001b[0;31mNameError\u001b[0m: name 'tagger' is not defined"
     ]
    }
   ],
   "source": [
    "# make example sentence\n",
    "sentence = Sentence(text)\n",
    "\n",
    "# predict NER tags\n",
    "sentence = tagger.predict(sentence)\n",
    "\n",
    "sentence.get_spans('ner')"
   ]
  },
  {
   "cell_type": "code",
   "execution_count": 59,
   "id": "56a24301-3d5a-42fe-b24a-d1bf06cc88a2",
   "metadata": {},
   "outputs": [
    {
     "data": {
      "text/plain": [
       "Sentence: \"During the past year , decentralized technologies have been seeping into music ![]( https :// images.mirror-media.xyz / publication-images /_ a7vUs0nU1ug6eSi3 _ LYV.png ? height = 420 & width = 800 ) Music has stood at the core of entertainment since the dawn of civilization . Today , at the heyday of the digital age , we find we ’re so used to it that sometimes we do n’t even notice it anymore : for example , when did you last pay attention to the background soundtrack in a movie or a video game ? During 2020-2021 , the pandemic has accelerated the trend for digitization . Many believe that metaverse – a virtual space where we will interact with each other and the environment with the help of VR and AR technologies – is the next logical step in this process . Let ’s look into how music can be integrated within the broader narrative of the metaverse and help musicians of any level create new experiences for their audience . ## NFTs , Empowering Music During the past year , decentralized technologies have been seeping into music . Non-fungibles , for one , are increasingly seen as a novel way of distributing audio and video content . At the same time , blockchain technology opens new potential for protecting and exchanging digital property rights . For artists , especially emerging talents , NFTs represent a viable new way of raising funds . Modern NFT platforms specializing in different aspects of music production , from funding to distribution , help them reach their audience , raise funds for their next tracks , and put the music out there for their fans to enjoy . Fans , in their turn , get a chance to support their favorite artists and experience material and emotive rewards . The latter is most in tune with the very spirit of music fanship : NFTs find a cozy nook in our mental libraries of emotions , memories , affiliations , and ‘ that-itches.’ Eric Elliot with Greenruhm.com says in his article , ‘ we ’re not buying JPGs . We ’re buying membership , identity , status , and a sense of ownership . And it ’s addictive AF.’ According to the metaverse advocates , the new virtual worlds are bound to create an even more immersive – and addictive – experience . ## Brought Together by the Metaverse A great part of enjoying music is forming connections with your favorite artists and other fans : millions have been hungry for during the last two years of the pandemic . We all want to belong and share experiences . This is the reason why we collect merchandise , go to concerts or festivals , hunt for autographs , and join meet-and-greet events . Metaverse is all about the community , as well : we do need allies and opponents to enjoy play-to-earn games truly , we want others to appreciate our NFT collections , and so on . The first cases from the metaverse are jaw-dropping . Amelia Kallman shares amazing stats : ‘ watching Travis Scott live in Fortnite … , was not one big group of 12.3 million people , but instead , the concerts were made up of 50 people each.’ Thus , ‘ essentially , there was n’t one concert , but 250,000 co-occurring.’ This fosters much more engagement than lockdown-induced YouTube videos of a show performed in an empty venue , right ? And talking about merchandise , what concert-goer does n’t love those amazing merch cannons ? Lil Nas X has pioneered the way with his Roblox concert , distributing the ‘ merchandise that far outpaced their initial expectations , citing an eight-figure rate , ’ as The Guardian reports . ‘ Limits are non-existent in the metaverse , ’ claims Jon Vlassopulos , global head of music of video game developer Roblox . ## Sounds of the Wild Meta Frontiers As we see , metaverse creates new opportunities for connection and immersion . However , for now , we are still just scratching the surface . According to Simon Powell from Jefferies , we ’re at least a decade away from a unified metaverse , and there ’s still much work to be done around hardware , software and then bringing the metaverse to the mainstream . It will require boosting interoperability to connect separate parts of the metaverse , creating a viable infrastructure for this new world , and doing some work on the legal aspect to create a cohesive experience similar to how users click between websites and apps . However , given the amount of attention coming from tech giants such as Facebook , Microsoft , and Nvidia , we are sure to see wider adoption and innovation next year and beyond . In our pursuit for clarity and lawfulness , we should not lose track of the innovation and upheaval that the metaverse brings to music , as well as other industries across entertainment .\"   [− Tokens: 841  − Token-Labels: \"During the past year , decentralized technologies have been seeping into music ![]( https :// images.mirror-media.xyz / publication-images /_ a7vUs0nU1ug6eSi3 _ LYV.png ? height = 420 & width = 800 ) Music has stood at the core of entertainment since the dawn of civilization . Today , at the heyday of the digital age , we find we ’re so used to it that sometimes we do n’t even notice it anymore : for example , when did you last pay attention to the background soundtrack in a movie or a video game ? During 2020-2021 , the pandemic has accelerated the trend for digitization . Many believe that metaverse – a virtual space where we will interact with each other and the environment with the help of VR and AR technologies – is the next logical step in this process . Let ’s look into how music can be integrated within the broader narrative of the metaverse and help musicians of any level create new experiences for their audience . ## NFTs , Empowering Music During the past year , decentralized technologies have been seeping into music . Non-fungibles , for one , are increasingly seen as a novel way of distributing audio and video content . At the same time , blockchain technology opens new potential for protecting and exchanging digital property rights . For artists , especially emerging talents , NFTs represent a viable new way of raising funds . Modern NFT platforms specializing in different aspects of music production , from funding to distribution , help them reach their audience , raise funds for their next tracks , and put the music out there for their fans to enjoy . Fans , in their turn , get a chance to support their favorite artists and experience material and emotive rewards . The latter is most in tune with the very spirit of music fanship : NFTs find a cozy nook in our mental libraries of emotions , memories , affiliations , and ‘ that-itches.’ Eric <B-PER> Elliot <E-PER> with Greenruhm.com <S-MISC> says in his article , ‘ we ’re not buying JPGs . We ’re buying membership , identity , status , and a sense of ownership . And it ’s addictive AF.’ According to the metaverse advocates , the new virtual worlds are bound to create an even more immersive – and addictive – experience . ## Brought <B-MISC> Together <E-MISC> by the Metaverse <B-MISC> A <E-MISC> great part of enjoying music is forming connections with your favorite artists and other fans : millions have been hungry for during the last two years of the pandemic . We all want to belong and share experiences . This is the reason why we collect merchandise , go to concerts or festivals , hunt for autographs , and join meet-and-greet events . Metaverse <S-MISC> is all about the community , as well : we do need allies and opponents to enjoy play-to-earn games truly , we want others to appreciate our NFT collections , and so on . The first cases from the metaverse are jaw-dropping . Amelia <B-PER> Kallman <E-PER> shares amazing stats : ‘ watching Travis <B-PER> Scott <E-PER> live in Fortnite <S-LOC> … , was not one big group of 12.3 million people , but instead , the concerts were made up of 50 people each.’ Thus , ‘ essentially , there was n’t one concert , but 250,000 co-occurring.’ This fosters much more engagement than lockdown-induced YouTube videos of a show performed in an empty venue , right ? And talking about merchandise , what concert-goer does n’t love those amazing merch cannons ? Lil <B-MISC> Nas <I-MISC> X <E-MISC> has pioneered the way with his Roblox <S-ORG> concert , distributing the ‘ merchandise that far outpaced their initial expectations , citing an eight-figure rate , ’ as The <B-ORG> Guardian <E-ORG> reports . ‘ Limits are non-existent in the metaverse , ’ claims Jon <B-PER> Vlassopulos <E-PER> , global head of music of video game developer Roblox <S-ORG> . ## Sounds of the Wild Meta Frontiers As we see , metaverse creates new opportunities for connection and immersion . However , for now , we are still just scratching the surface . According to Simon <B-PER> Powell <E-PER> from Jefferies <S-ORG> , we ’re at least a decade away from a unified metaverse , and there ’s still much work to be done around hardware , software and then bringing the metaverse to the mainstream . It will require boosting interoperability to connect separate parts of the metaverse , creating a viable infrastructure for this new world , and doing some work on the legal aspect to create a cohesive experience similar to how users click between websites and apps . However , given the amount of attention coming from tech giants such as Facebook <S-ORG> , Microsoft <S-ORG> , and Nvidia <S-ORG> , we are sure to see wider adoption and innovation next year and beyond . In our pursuit for clarity and lawfulness , we should not lose track of the innovation and upheaval that the metaverse brings to music , as well as other industries across entertainment .\"]"
      ]
     },
     "execution_count": 59,
     "metadata": {},
     "output_type": "execute_result"
    }
   ],
   "source": [
    "sentence"
   ]
  },
  {
   "cell_type": "code",
   "execution_count": 80,
   "id": "5065bf4c-3dd7-4983-b1f1-688411466c56",
   "metadata": {},
   "outputs": [
    {
     "name": "stdout",
     "output_type": "stream",
     "text": [
      "Span [339,340]: \"Eric Elliot\"   [− Labels: PER (0.9929)]\n",
      "Span [342]: \"Greenruhm.com\"   [− Labels: MISC (0.5937)]\n",
      "Span [400,401]: \"Brought Together\"   [− Labels: MISC (0.5206)]\n",
      "Span [404,405]: \"Metaverse A\"   [− Labels: MISC (0.575)]\n",
      "Span [469]: \"Metaverse\"   [− Labels: MISC (0.7751)]\n",
      "Span [513,514]: \"Amelia Kallman\"   [− Labels: PER (0.9641)]\n",
      "Span [521,522]: \"Travis Scott\"   [− Labels: PER (0.9955)]\n",
      "Span [525]: \"Fortnite\"   [− Labels: LOC (0.7102)]\n",
      "Span [599,600,601]: \"Lil Nas X\"   [− Labels: MISC (0.6651)]\n",
      "Span [608]: \"Roblox\"   [− Labels: ORG (0.6613)]\n",
      "Span [629,630]: \"The Guardian\"   [− Labels: ORG (0.9928)]\n",
      "Span [643,644]: \"Jon Vlassopulos\"   [− Labels: PER (0.9944)]\n",
      "Span [654]: \"Roblox\"   [− Labels: ORG (0.9815)]\n",
      "Span [691,692]: \"Simon Powell\"   [− Labels: PER (0.9994)]\n",
      "Span [694]: \"Jefferies\"   [− Labels: ORG (0.9942)]\n",
      "Span [788]: \"Facebook\"   [− Labels: ORG (0.9916)]\n",
      "Span [790]: \"Microsoft\"   [− Labels: ORG (0.9997)]\n",
      "Span [793]: \"Nvidia\"   [− Labels: ORG (0.9868)]\n"
     ]
    }
   ],
   "source": [
    "for entity in sentence.get_spans('ner'):\n",
    "\n",
    "    print(entity)"
   ]
  },
  {
   "cell_type": "code",
   "execution_count": 74,
   "id": "be06aa80-f7b3-4415-bb25-64c78f999900",
   "metadata": {},
   "outputs": [
    {
     "data": {
      "text/plain": [
       "[PER (0.9929)]"
      ]
     },
     "execution_count": 74,
     "metadata": {},
     "output_type": "execute_result"
    }
   ],
   "source": [
    "entity.labels"
   ]
  },
  {
   "cell_type": "code",
   "execution_count": 82,
   "id": "cd1f7033-ab73-429a-af9d-cce232dc001a",
   "metadata": {},
   "outputs": [],
   "source": [
    "pickle.dump(sentence.get_spans(\"ner\"), open(\"test.p\", \"wb\"))"
   ]
  },
  {
   "cell_type": "code",
   "execution_count": 85,
   "id": "d8f967bf-27f8-4b49-9ea7-7fe9cd26d601",
   "metadata": {},
   "outputs": [
    {
     "name": "stdout",
     "output_type": "stream",
     "text": [
      "1.02 ms ± 12.7 µs per loop (mean ± std. dev. of 7 runs, 1,000 loops each)\n"
     ]
    }
   ],
   "source": [
    "%%timeit\n",
    "\n",
    "t = pickle.load(open(\"test.p\", \"rb\"))"
   ]
  },
  {
   "cell_type": "code",
   "execution_count": null,
   "id": "52b5eb71-404b-42af-beae-2c90e6d72d96",
   "metadata": {},
   "outputs": [],
   "source": []
  },
  {
   "cell_type": "code",
   "execution_count": null,
   "id": "5eddeb3f-1d60-4fe5-b243-9aabe02c01ec",
   "metadata": {},
   "outputs": [],
   "source": []
  },
  {
   "cell_type": "code",
   "execution_count": null,
   "id": "41989336-e19a-440c-91e1-da672fe6faa1",
   "metadata": {},
   "outputs": [],
   "source": []
  },
  {
   "cell_type": "code",
   "execution_count": 77,
   "id": "69a1ad17-6218-4f63-a78f-eebb4e18a00e",
   "metadata": {},
   "outputs": [],
   "source": [
    "import pickle"
   ]
  },
  {
   "cell_type": "code",
   "execution_count": 13,
   "id": "74aae371-2e74-476c-93f4-f722673e6d93",
   "metadata": {},
   "outputs": [
    {
     "data": {
      "text/plain": [
       "[{'summary_text': 'During 2020-2021, the pandemic has accelerated the trend for digitization. Many believe that metaverse – a virtual space where we will interact with each other and the environment with the help of VR and AR technologies – is the next logical step in this process. Let’s look into how music can be integrated within the broader narrative of the metaverse.'}]"
      ]
     },
     "execution_count": 13,
     "metadata": {},
     "output_type": "execute_result"
    }
   ],
   "source": [
    "summarizer(text[:1024])"
   ]
  },
  {
   "cell_type": "code",
   "execution_count": 14,
   "id": "4b23ddb1-93d5-4b32-8ce4-62e64b78751c",
   "metadata": {},
   "outputs": [
    {
     "data": {
      "text/plain": [
       "4540"
      ]
     },
     "execution_count": 14,
     "metadata": {},
     "output_type": "execute_result"
    }
   ],
   "source": [
    "summarizer = pipeline(\"summarization\", model=\"facebook/bart-large-cnn\")"
   ]
  },
  {
   "cell_type": "code",
   "execution_count": 41,
   "id": "70962df2-d7c7-4768-81fe-74dc87e2996b",
   "metadata": {},
   "outputs": [
    {
     "name": "stderr",
     "output_type": "stream",
     "text": [
      "Your max_length is set to 142, but you input_length is only 88. You might consider decreasing max_length manually, e.g. summarizer('...', max_length=44)\n"
     ]
    }
   ],
   "source": [
    "def summarize_text(text)\n",
    "    summary = []\n",
    "    for start in range(0, len(text), 1024):\n",
    "        end = start + 1024\n",
    "        text_snippet = text[start:end]\n",
    "        if len(text_snippet) > 200:\n",
    "            summary.append(summarizer(text_snippet)[0][\"summary_text\"])\n",
    "    return '\\n'.join(summary)"
   ]
  },
  {
   "cell_type": "code",
   "execution_count": 44,
   "id": "3e7a750d-ef0c-4ffa-9d0b-995311c8f098",
   "metadata": {},
   "outputs": [
    {
     "name": "stdout",
     "output_type": "stream",
     "text": [
      "During 2020-2021, the pandemic has accelerated the trend for digitization. Many believe that metaverse – a virtual space where we will interact with each other and the environment with the help of VR and AR technologies – is the next logical step in this process. Let’s look into how music can be integrated within the broader narrative of the metaverse.\n",
      "For artists, especially emerging talents, NFTs represent a viable new way of raising funds. Modern NFT platforms specializing in different aspects of music production, help them reach their audience, raise funds for their next tracks. Fans, in their turn, get a chance to support their favorite artists and experience material and emotive rewards.\n",
      "The first cases from the metaverse are jaw-dropping. Amelia Kallman shares amazing stats: ‘watching Travis Scott live in Fortnite…, was not one big group of 12.3 million people, but instead, the concerts were made up of 50 people each’ This fosters much more engagement than lockdown-induced YouTube v.\n",
      "Lil Nas X has pioneered the way with his Roblox concert, distributing the ‘merchandise that far outpaced their initial expectations, citing an eight-figure rate’ ‘Limits are non-existent in the metaverse,’ claims Jon Vlassopulos, global head of music of video game developer Rob lox.\n",
      "We should not lose track of the innovation and upheaval that the metaverse brings to music, as well as other industries across entertainment. Given the amount of attention coming from tech giants such as Facebook, Microsoft, and Nvidia, we are sure to see wider adoption and innovation next year.\n"
     ]
    }
   ],
   "source": [
    "print()"
   ]
  },
  {
   "cell_type": "code",
   "execution_count": null,
   "id": "63c9487a-d10b-4c92-a70a-6c7db2329930",
   "metadata": {},
   "outputs": [],
   "source": []
  },
  {
   "cell_type": "code",
   "execution_count": null,
   "id": "92fa1228-342e-4ca6-9f58-c592917d8d85",
   "metadata": {},
   "outputs": [],
   "source": []
  },
  {
   "cell_type": "code",
   "execution_count": 26,
   "id": "3526346f-a6dc-47a3-acb9-42086edcf4b2",
   "metadata": {},
   "outputs": [
    {
     "ename": "TypeError",
     "evalue": "list indices must be integers or slices, not str",
     "output_type": "error",
     "traceback": [
      "\u001b[0;31m---------------------------------------------------------------------------\u001b[0m",
      "\u001b[0;31mTypeError\u001b[0m                                 Traceback (most recent call last)",
      "Input \u001b[0;32mIn [26]\u001b[0m, in \u001b[0;36m<module>\u001b[0;34m\u001b[0m\n\u001b[0;32m----> 1\u001b[0m [s[\u001b[38;5;124m\"\u001b[39m\u001b[38;5;124msummary_text\u001b[39m\u001b[38;5;124m\"\u001b[39m] \u001b[38;5;28;01mfor\u001b[39;00m s \u001b[38;5;129;01min\u001b[39;00m summary]\n",
      "Input \u001b[0;32mIn [26]\u001b[0m, in \u001b[0;36m<listcomp>\u001b[0;34m(.0)\u001b[0m\n\u001b[0;32m----> 1\u001b[0m [\u001b[43ms\u001b[49m\u001b[43m[\u001b[49m\u001b[38;5;124;43m\"\u001b[39;49m\u001b[38;5;124;43msummary_text\u001b[39;49m\u001b[38;5;124;43m\"\u001b[39;49m\u001b[43m]\u001b[49m \u001b[38;5;28;01mfor\u001b[39;00m s \u001b[38;5;129;01min\u001b[39;00m summary]\n",
      "\u001b[0;31mTypeError\u001b[0m: list indices must be integers or slices, not str"
     ]
    }
   ],
   "source": [
    "[s[\"summary_text\"] for s in summary]"
   ]
  },
  {
   "cell_type": "code",
   "execution_count": 27,
   "id": "1b4738fa-745f-4ea2-ac15-4b577bad354b",
   "metadata": {},
   "outputs": [],
   "source": [
    "for s in summary:\n",
    "    break"
   ]
  },
  {
   "cell_type": "code",
   "execution_count": 33,
   "id": "bb9a0c00-bf23-422c-ac2f-50c2144fa060",
   "metadata": {},
   "outputs": [],
   "source": [
    "ss = [s[0][\"summary_text\"] for s in summary]"
   ]
  },
  {
   "cell_type": "code",
   "execution_count": 36,
   "id": "fde5fcaf-60f0-4236-b306-753bcf03b980",
   "metadata": {},
   "outputs": [
    {
     "data": {
      "text/plain": [
       "1586"
      ]
     },
     "execution_count": 36,
     "metadata": {},
     "output_type": "execute_result"
    }
   ],
   "source": [
    "len('\\n'.join(ss))"
   ]
  },
  {
   "cell_type": "code",
   "execution_count": 38,
   "id": "b7133de6-8dbd-4fad-8151-58f69b79af42",
   "metadata": {},
   "outputs": [
    {
     "data": {
      "text/plain": [
       "0.34933920704845817"
      ]
     },
     "execution_count": 38,
     "metadata": {},
     "output_type": "execute_result"
    }
   ],
   "source": [
    "1586 / 4540"
   ]
  },
  {
   "cell_type": "code",
   "execution_count": 37,
   "id": "d77728a2-7c30-4899-a55f-c32394733e42",
   "metadata": {},
   "outputs": [
    {
     "data": {
      "text/plain": [
       "4540"
      ]
     },
     "execution_count": 37,
     "metadata": {},
     "output_type": "execute_result"
    }
   ],
   "source": [
    "len(text)"
   ]
  },
  {
   "cell_type": "code",
   "execution_count": null,
   "id": "59c58168-1731-4b95-b63c-4974a590c0c5",
   "metadata": {},
   "outputs": [],
   "source": []
  },
  {
   "cell_type": "code",
   "execution_count": 21,
   "id": "0f1f8ffc-54ee-44b4-b204-21aaa79ba07c",
   "metadata": {},
   "outputs": [
    {
     "name": "stdout",
     "output_type": "stream",
     "text": [
      "huggingface/tokenizers: The current process just got forked, after parallelism has already been used. Disabling parallelism to avoid deadlocks...\n",
      "To disable this warning, you can either:\n",
      "\t- Avoid using `tokenizers` before the fork if possible\n",
      "\t- Explicitly set the environment variable TOKENIZERS_PARALLELISM=(true | false)\n",
      "Traceback (most recent call last):\n",
      "  File \"/Users/josca/Library/Caches/pypoetry/virtualenvs/veritas-DdxogiHN-py3.8/bin/jupyter-nbextension\", line 8, in <module>\n",
      "    sys.exit(main())\n",
      "  File \"/Users/josca/Library/Caches/pypoetry/virtualenvs/veritas-DdxogiHN-py3.8/lib/python3.8/site-packages/jupyter_core/application.py\", line 264, in launch_instance\n",
      "    return super(JupyterApp, cls).launch_instance(argv=argv, **kwargs)\n",
      "  File \"/Users/josca/Library/Caches/pypoetry/virtualenvs/veritas-DdxogiHN-py3.8/lib/python3.8/site-packages/traitlets/config/application.py\", line 846, in launch_instance\n",
      "    app.start()\n",
      "  File \"/Users/josca/Library/Caches/pypoetry/virtualenvs/veritas-DdxogiHN-py3.8/lib/python3.8/site-packages/notebook/nbextensions.py\", line 980, in start\n",
      "    super().start()\n",
      "  File \"/Users/josca/Library/Caches/pypoetry/virtualenvs/veritas-DdxogiHN-py3.8/lib/python3.8/site-packages/jupyter_core/application.py\", line 253, in start\n",
      "    self.subapp.start()\n",
      "  File \"/Users/josca/Library/Caches/pypoetry/virtualenvs/veritas-DdxogiHN-py3.8/lib/python3.8/site-packages/notebook/nbextensions.py\", line 888, in start\n",
      "    self.toggle_nbextension_python(self.extra_args[0])\n",
      "  File \"/Users/josca/Library/Caches/pypoetry/virtualenvs/veritas-DdxogiHN-py3.8/lib/python3.8/site-packages/notebook/nbextensions.py\", line 861, in toggle_nbextension_python\n",
      "    return toggle(module,\n",
      "  File \"/Users/josca/Library/Caches/pypoetry/virtualenvs/veritas-DdxogiHN-py3.8/lib/python3.8/site-packages/notebook/nbextensions.py\", line 474, in enable_nbextension_python\n",
      "    return _set_nbextension_state_python(True, module, user, sys_prefix,\n",
      "  File \"/Users/josca/Library/Caches/pypoetry/virtualenvs/veritas-DdxogiHN-py3.8/lib/python3.8/site-packages/notebook/nbextensions.py\", line 372, in _set_nbextension_state_python\n",
      "    m, nbexts = _get_nbextension_metadata(module)\n",
      "  File \"/Users/josca/Library/Caches/pypoetry/virtualenvs/veritas-DdxogiHN-py3.8/lib/python3.8/site-packages/notebook/nbextensions.py\", line 1114, in _get_nbextension_metadata\n",
      "    m = import_item(module)\n",
      "  File \"/Users/josca/Library/Caches/pypoetry/virtualenvs/veritas-DdxogiHN-py3.8/lib/python3.8/site-packages/traitlets/utils/importstring.py\", line 38, in import_item\n",
      "    return __import__(parts[0])\n",
      "ModuleNotFoundError: No module named 'widgetsnbextension'\n"
     ]
    },
    {
     "name": "stderr",
     "output_type": "stream",
     "text": [
      "Exception ignored in: <function tqdm.__del__ at 0x11b371b80>\n",
      "Traceback (most recent call last):\n",
      "  File \"/Users/josca/Library/Caches/pypoetry/virtualenvs/veritas-DdxogiHN-py3.8/lib/python3.8/site-packages/tqdm/std.py\", line 1147, in __del__\n",
      "    self.close()\n",
      "  File \"/Users/josca/Library/Caches/pypoetry/virtualenvs/veritas-DdxogiHN-py3.8/lib/python3.8/site-packages/tqdm/notebook.py\", line 286, in close\n",
      "    self.disp(bar_style='danger', check_delay=False)\n",
      "AttributeError: 'tqdm' object has no attribute 'disp'\n"
     ]
    }
   ],
   "source": [
    "!jupyter nbextension enable --py widgetsnbextension"
   ]
  },
  {
   "cell_type": "code",
   "execution_count": null,
   "id": "1cbb235f-0f01-4d35-ac98-e773720a57f3",
   "metadata": {},
   "outputs": [],
   "source": []
  },
  {
   "cell_type": "code",
   "execution_count": null,
   "id": "fbca0890-bcf1-4c7c-80db-e73b715ec58a",
   "metadata": {},
   "outputs": [],
   "source": [
    "# load tagger\n",
    "tagger = SequenceTagger.load(\"flair/ner-english\")\n",
    "\n",
    "# make example sentence\n",
    "sentence = Sentence(\"George Washington went to Washington\")\n",
    "\n",
    "# predict NER tags\n",
    "tagger.predict(sentence)\n",
    "\n",
    "# print sentence\n",
    "print(sentence)\n",
    "\n",
    "# print predicted NER spans\n",
    "print('The following NER tags are found:')\n",
    "# iterate over entities and print\n",
    "for entity in sentence.get_spans('ner'):\n",
    "    print(entity)"
   ]
  },
  {
   "cell_type": "code",
   "execution_count": null,
   "id": "71f613b0-2c28-42f0-9c64-6abdd852140d",
   "metadata": {},
   "outputs": [],
   "source": []
  },
  {
   "cell_type": "code",
   "execution_count": null,
   "id": "ac67b2e3-52f7-47f5-840a-55a2c8f25112",
   "metadata": {},
   "outputs": [],
   "source": []
  },
  {
   "cell_type": "code",
   "execution_count": null,
   "id": "11d04fd5-9171-4b67-8be3-29dc9f4e3c00",
   "metadata": {},
   "outputs": [],
   "source": []
  },
  {
   "cell_type": "code",
   "execution_count": null,
   "id": "17cece8e-a288-40cc-9a9b-061bef29f333",
   "metadata": {},
   "outputs": [],
   "source": []
  },
  {
   "cell_type": "code",
   "execution_count": null,
   "id": "24aa5d0b-2958-4556-a0a8-4cd92dac23c1",
   "metadata": {},
   "outputs": [],
   "source": []
  },
  {
   "cell_type": "code",
   "execution_count": null,
   "id": "1b9af657-fff5-4ed6-97e2-79ed700be74b",
   "metadata": {},
   "outputs": [],
   "source": []
  }
 ],
 "metadata": {
  "kernelspec": {
   "display_name": "Python 3 (ipykernel)",
   "language": "python",
   "name": "python3"
  },
  "language_info": {
   "codemirror_mode": {
    "name": "ipython",
    "version": 3
   },
   "file_extension": ".py",
   "mimetype": "text/x-python",
   "name": "python",
   "nbconvert_exporter": "python",
   "pygments_lexer": "ipython3",
   "version": "3.8.9"
  }
 },
 "nbformat": 4,
 "nbformat_minor": 5
}
